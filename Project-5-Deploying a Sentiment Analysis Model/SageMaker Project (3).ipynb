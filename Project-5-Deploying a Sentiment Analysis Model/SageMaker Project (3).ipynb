{
 "cells": [
  {
   "cell_type": "markdown",
   "metadata": {},
   "source": [
    "# Creating a Sentiment Analysis Web App\n",
    "## Using PyTorch and SageMaker\n",
    "\n",
    "_Deep Learning Nanodegree Program | Deployment_\n",
    "\n",
    "---\n",
    "\n",
    "Now that we have a basic understanding of how SageMaker works we will try to use it to construct a complete project from end to end. Our goal will be to have a simple web page which a user can use to enter a movie review. The web page will then send the review off to our deployed model which will predict the sentiment of the entered review.\n",
    "\n",
    "## Instructions\n",
    "\n",
    "Some template code has already been provided for you, and you will need to implement additional functionality to successfully complete this notebook. You will not need to modify the included code beyond what is requested. Sections that begin with '**TODO**' in the header indicate that you need to complete or implement some portion within them. Instructions will be provided for each section and the specifics of the implementation are marked in the code block with a `# TODO: ...` comment. Please be sure to read the instructions carefully!\n",
    "\n",
    "In addition to implementing code, there will be questions for you to answer which relate to the task and your implementation. Each section where you will answer a question is preceded by a '**Question:**' header. Carefully read each question and provide your answer below the '**Answer:**' header by editing the Markdown cell.\n",
    "\n",
    "> **Note**: Code and Markdown cells can be executed using the **Shift+Enter** keyboard shortcut. In addition, a cell can be edited by typically clicking it (double-click for Markdown cells) or by pressing **Enter** while it is highlighted.\n",
    "\n",
    "## General Outline\n",
    "\n",
    "Recall the general outline for SageMaker projects using a notebook instance.\n",
    "\n",
    "1. Download or otherwise retrieve the data.\n",
    "2. Process / Prepare the data.\n",
    "3. Upload the processed data to S3.\n",
    "4. Train a chosen model.\n",
    "5. Test the trained model (typically using a batch transform job).\n",
    "6. Deploy the trained model.\n",
    "7. Use the deployed model.\n",
    "\n",
    "For this project, you will be following the steps in the general outline with some modifications. \n",
    "\n",
    "First, you will not be testing the model in its own step. You will still be testing the model, however, you will do it by deploying your model and then using the deployed model by sending the test data to it. One of the reasons for doing this is so that you can make sure that your deployed model is working correctly before moving forward.\n",
    "\n",
    "In addition, you will deploy and use your trained model a second time. In the second iteration you will customize the way that your trained model is deployed by including some of your own code. In addition, your newly deployed model will be used in the sentiment analysis web app."
   ]
  },
  {
   "cell_type": "code",
   "execution_count": 1,
   "metadata": {},
   "outputs": [
    {
     "name": "stdout",
     "output_type": "stream",
     "text": [
      "Requirement already satisfied: sagemaker==1.72.0 in /home/ec2-user/anaconda3/envs/pytorch_latest_p36/lib/python3.6/site-packages (1.72.0)\n",
      "Requirement already satisfied: scipy>=0.19.0 in /home/ec2-user/anaconda3/envs/pytorch_latest_p36/lib/python3.6/site-packages (from sagemaker==1.72.0) (1.5.3)\n",
      "Requirement already satisfied: packaging>=20.0 in /home/ec2-user/anaconda3/envs/pytorch_latest_p36/lib/python3.6/site-packages (from sagemaker==1.72.0) (20.9)\n",
      "Requirement already satisfied: protobuf>=3.1 in /home/ec2-user/anaconda3/envs/pytorch_latest_p36/lib/python3.6/site-packages (from sagemaker==1.72.0) (3.18.0)\n",
      "Requirement already satisfied: smdebug-rulesconfig==0.1.4 in /home/ec2-user/anaconda3/envs/pytorch_latest_p36/lib/python3.6/site-packages (from sagemaker==1.72.0) (0.1.4)\n",
      "Requirement already satisfied: importlib-metadata>=1.4.0 in /home/ec2-user/anaconda3/envs/pytorch_latest_p36/lib/python3.6/site-packages (from sagemaker==1.72.0) (3.7.0)\n",
      "Requirement already satisfied: numpy>=1.9.0 in /home/ec2-user/anaconda3/envs/pytorch_latest_p36/lib/python3.6/site-packages (from sagemaker==1.72.0) (1.19.2)\n",
      "Requirement already satisfied: boto3>=1.14.12 in /home/ec2-user/anaconda3/envs/pytorch_latest_p36/lib/python3.6/site-packages (from sagemaker==1.72.0) (1.18.45)\n",
      "Requirement already satisfied: protobuf3-to-dict>=0.1.5 in /home/ec2-user/anaconda3/envs/pytorch_latest_p36/lib/python3.6/site-packages (from sagemaker==1.72.0) (0.1.5)\n",
      "Requirement already satisfied: botocore<1.22.0,>=1.21.45 in /home/ec2-user/anaconda3/envs/pytorch_latest_p36/lib/python3.6/site-packages (from boto3>=1.14.12->sagemaker==1.72.0) (1.21.45)\n",
      "Requirement already satisfied: s3transfer<0.6.0,>=0.5.0 in /home/ec2-user/anaconda3/envs/pytorch_latest_p36/lib/python3.6/site-packages (from boto3>=1.14.12->sagemaker==1.72.0) (0.5.0)\n",
      "Requirement already satisfied: jmespath<1.0.0,>=0.7.1 in /home/ec2-user/anaconda3/envs/pytorch_latest_p36/lib/python3.6/site-packages (from boto3>=1.14.12->sagemaker==1.72.0) (0.10.0)\n",
      "Requirement already satisfied: urllib3<1.27,>=1.25.4 in /home/ec2-user/anaconda3/envs/pytorch_latest_p36/lib/python3.6/site-packages (from botocore<1.22.0,>=1.21.45->boto3>=1.14.12->sagemaker==1.72.0) (1.26.6)\n",
      "Requirement already satisfied: python-dateutil<3.0.0,>=2.1 in /home/ec2-user/anaconda3/envs/pytorch_latest_p36/lib/python3.6/site-packages (from botocore<1.22.0,>=1.21.45->boto3>=1.14.12->sagemaker==1.72.0) (2.8.1)\n",
      "Requirement already satisfied: zipp>=0.5 in /home/ec2-user/anaconda3/envs/pytorch_latest_p36/lib/python3.6/site-packages (from importlib-metadata>=1.4.0->sagemaker==1.72.0) (3.4.0)\n",
      "Requirement already satisfied: typing-extensions>=3.6.4 in /home/ec2-user/anaconda3/envs/pytorch_latest_p36/lib/python3.6/site-packages (from importlib-metadata>=1.4.0->sagemaker==1.72.0) (3.10.0.2)\n",
      "Requirement already satisfied: pyparsing>=2.0.2 in /home/ec2-user/anaconda3/envs/pytorch_latest_p36/lib/python3.6/site-packages (from packaging>=20.0->sagemaker==1.72.0) (2.4.7)\n",
      "Requirement already satisfied: six in /home/ec2-user/anaconda3/envs/pytorch_latest_p36/lib/python3.6/site-packages (from protobuf3-to-dict>=0.1.5->sagemaker==1.72.0) (1.15.0)\n"
     ]
    }
   ],
   "source": [
    "# Make sure that we use SageMaker 1.x\n",
    "!pip install sagemaker==1.72.0"
   ]
  },
  {
   "cell_type": "markdown",
   "metadata": {},
   "source": [
    "## Step 1: Downloading the data\n",
    "\n",
    "As in the XGBoost in SageMaker notebook, we will be using the [IMDb dataset](http://ai.stanford.edu/~amaas/data/sentiment/)\n",
    "\n",
    "> Maas, Andrew L., et al. [Learning Word Vectors for Sentiment Analysis](http://ai.stanford.edu/~amaas/data/sentiment/). In _Proceedings of the 49th Annual Meeting of the Association for Computational Linguistics: Human Language Technologies_. Association for Computational Linguistics, 2011."
   ]
  },
  {
   "cell_type": "code",
   "execution_count": 2,
   "metadata": {},
   "outputs": [
    {
     "name": "stdout",
     "output_type": "stream",
     "text": [
      "mkdir: cannot create directory ‘../data’: File exists\n",
      "--2021-10-04 17:23:27--  http://ai.stanford.edu/~amaas/data/sentiment/aclImdb_v1.tar.gz\n",
      "Resolving ai.stanford.edu (ai.stanford.edu)... 171.64.68.10\n",
      "Connecting to ai.stanford.edu (ai.stanford.edu)|171.64.68.10|:80... connected.\n",
      "HTTP request sent, awaiting response... 200 OK\n",
      "Length: 84125825 (80M) [application/x-gzip]\n",
      "Saving to: ‘../data/aclImdb_v1.tar.gz’\n",
      "\n",
      "../data/aclImdb_v1. 100%[===================>]  80.23M  25.5MB/s    in 3.1s    \n",
      "\n",
      "2021-10-04 17:23:31 (25.5 MB/s) - ‘../data/aclImdb_v1.tar.gz’ saved [84125825/84125825]\n",
      "\n"
     ]
    }
   ],
   "source": [
    "%mkdir ../data\n",
    "!wget -O ../data/aclImdb_v1.tar.gz http://ai.stanford.edu/~amaas/data/sentiment/aclImdb_v1.tar.gz\n",
    "!tar -zxf ../data/aclImdb_v1.tar.gz -C ../data"
   ]
  },
  {
   "cell_type": "markdown",
   "metadata": {},
   "source": [
    "## Step 2: Preparing and Processing the data\n",
    "\n",
    "Also, as in the XGBoost notebook, we will be doing some initial data processing. The first few steps are the same as in the XGBoost example. To begin with, we will read in each of the reviews and combine them into a single input structure. Then, we will split the dataset into a training set and a testing set."
   ]
  },
  {
   "cell_type": "code",
   "execution_count": 3,
   "metadata": {},
   "outputs": [],
   "source": [
    "import os\n",
    "import glob\n",
    "\n",
    "def read_imdb_data(data_dir='../data/aclImdb'):\n",
    "    data = {}\n",
    "    labels = {}\n",
    "    \n",
    "    for data_type in ['train', 'test']:\n",
    "        data[data_type] = {}\n",
    "        labels[data_type] = {}\n",
    "        \n",
    "        for sentiment in ['pos', 'neg']:\n",
    "            data[data_type][sentiment] = []\n",
    "            labels[data_type][sentiment] = []\n",
    "            \n",
    "            path = os.path.join(data_dir, data_type, sentiment, '*.txt')\n",
    "            files = glob.glob(path)\n",
    "            \n",
    "            for f in files:\n",
    "                with open(f) as review:\n",
    "                    data[data_type][sentiment].append(review.read())\n",
    "                    # Here we represent a positive review by '1' and a negative review by '0'\n",
    "                    labels[data_type][sentiment].append(1 if sentiment == 'pos' else 0)\n",
    "                    \n",
    "            assert len(data[data_type][sentiment]) == len(labels[data_type][sentiment]), \\\n",
    "                    \"{}/{} data size does not match labels size\".format(data_type, sentiment)\n",
    "                \n",
    "    return data, labels"
   ]
  },
  {
   "cell_type": "code",
   "execution_count": 4,
   "metadata": {},
   "outputs": [
    {
     "name": "stdout",
     "output_type": "stream",
     "text": [
      "IMDB reviews: train = 12500 pos / 12500 neg, test = 12500 pos / 12500 neg\n"
     ]
    }
   ],
   "source": [
    "data, labels = read_imdb_data()\n",
    "print(\"IMDB reviews: train = {} pos / {} neg, test = {} pos / {} neg\".format(\n",
    "            len(data['train']['pos']), len(data['train']['neg']),\n",
    "            len(data['test']['pos']), len(data['test']['neg'])))"
   ]
  },
  {
   "cell_type": "markdown",
   "metadata": {},
   "source": [
    "Now that we've read the raw training and testing data from the downloaded dataset, we will combine the positive and negative reviews and shuffle the resulting records."
   ]
  },
  {
   "cell_type": "code",
   "execution_count": 5,
   "metadata": {},
   "outputs": [],
   "source": [
    "from sklearn.utils import shuffle\n",
    "\n",
    "def prepare_imdb_data(data, labels):\n",
    "    \"\"\"Prepare training and test sets from IMDb movie reviews.\"\"\"\n",
    "    \n",
    "    #Combine positive and negative reviews and labels\n",
    "    data_train = data['train']['pos'] + data['train']['neg']\n",
    "    data_test = data['test']['pos'] + data['test']['neg']\n",
    "    labels_train = labels['train']['pos'] + labels['train']['neg']\n",
    "    labels_test = labels['test']['pos'] + labels['test']['neg']\n",
    "    \n",
    "    #Shuffle reviews and corresponding labels within training and test sets\n",
    "    data_train, labels_train = shuffle(data_train, labels_train)\n",
    "    data_test, labels_test = shuffle(data_test, labels_test)\n",
    "    \n",
    "    # Return a unified training data, test data, training labels, test labets\n",
    "    return data_train, data_test, labels_train, labels_test"
   ]
  },
  {
   "cell_type": "code",
   "execution_count": 6,
   "metadata": {},
   "outputs": [
    {
     "name": "stdout",
     "output_type": "stream",
     "text": [
      "IMDb reviews (combined): train = 25000, test = 25000\n"
     ]
    }
   ],
   "source": [
    "train_X, test_X, train_y, test_y = prepare_imdb_data(data, labels)\n",
    "print(\"IMDb reviews (combined): train = {}, test = {}\".format(len(train_X), len(test_X)))"
   ]
  },
  {
   "cell_type": "markdown",
   "metadata": {},
   "source": [
    "Now that we have our training and testing sets unified and prepared, we should do a quick check and see an example of the data our model will be trained on. This is generally a good idea as it allows you to see how each of the further processing steps affects the reviews and it also ensures that the data has been loaded correctly."
   ]
  },
  {
   "cell_type": "code",
   "execution_count": 7,
   "metadata": {},
   "outputs": [
    {
     "name": "stdout",
     "output_type": "stream",
     "text": [
      "This movie's heart was in the right place, no matter where its brain was.<br /><br />\"Attack\" is basically a spoof a la \"Airplane!\" (two years before the fact - nice going.) of what happens when vegetables, or in this case fruits, attack.<br /><br />Through all manner of film magic (stop motion, papier-mache tomatoes on skateboards, reverse filming, people watching off-screen tomatoes, people throwing basketball-sized tomatoes at the on-screen actors), the tomatoes do indeed attack everyone in their leafy grasp. <br /><br />Then, it's up to Mason Dixon (Miller) and a group of spies I wouldn't wish on any government's side to save the day. Of course there's a meddling reporter (Taylor) who pops in at the worst times, dancing and singing Army soldiers, Japanese scientists with dubbed-in voices, some guy dragging around a parachute and a samurai sword...and oh yeah, the San Diego Chicken before he made it big.<br /><br />The gags here aren't all that great. In fact, you could probably make up better yourself after watching these. Some of the dialogue is inutterably bad (\"Please pass the ketchup\" - not something to say in front of tomatoes.) and as far as \"Puberty Love\" goes...well, I can't blame the tomatoes for shriveling up on hearing it.<br /><br />What's good about it? Well, I liked the theme song and the beginning credits, and there was a scene with four people on the phone at once that was pretty well executed. ...that's about it.<br /><br />Three stars. Not a \"Killer\" comedy, but it tries.<br /><br />Rock on, Peace.\n",
      "0\n"
     ]
    }
   ],
   "source": [
    "print(train_X[100])\n",
    "print(train_y[100])"
   ]
  },
  {
   "cell_type": "markdown",
   "metadata": {},
   "source": [
    "The first step in processing the reviews is to make sure that any html tags that appear should be removed. In addition we wish to tokenize our input, that way words such as *entertained* and *entertaining* are considered the same with regard to sentiment analysis."
   ]
  },
  {
   "cell_type": "code",
   "execution_count": 8,
   "metadata": {},
   "outputs": [],
   "source": [
    "import nltk\n",
    "from nltk.corpus import stopwords\n",
    "from nltk.stem.porter import *\n",
    "\n",
    "import re\n",
    "from bs4 import BeautifulSoup\n",
    "\n",
    "def review_to_words(review):\n",
    "    nltk.download(\"stopwords\", quiet=True)\n",
    "    stemmer = PorterStemmer()\n",
    "    \n",
    "    text = BeautifulSoup(review, \"html.parser\").get_text() # Remove HTML tags\n",
    "    text = re.sub(r\"[^a-zA-Z0-9]\", \" \", text.lower()) # Convert to lower case\n",
    "    words = text.split() # Split string into words\n",
    "    words = [w for w in words if w not in stopwords.words(\"english\")] # Remove stopwords\n",
    "    words = [PorterStemmer().stem(w) for w in words] # stem\n",
    "    \n",
    "    return words"
   ]
  },
  {
   "cell_type": "markdown",
   "metadata": {},
   "source": [
    "The `review_to_words` method defined above uses `BeautifulSoup` to remove any html tags that appear and uses the `nltk` package to tokenize the reviews. As a check to ensure we know how everything is working, try applying `review_to_words` to one of the reviews in the training set."
   ]
  },
  {
   "cell_type": "code",
   "execution_count": 9,
   "metadata": {},
   "outputs": [
    {
     "name": "stdout",
     "output_type": "stream",
     "text": [
      "['movi', 'heart', 'right', 'place', 'matter', 'brain', 'attack', 'basic', 'spoof', 'la', 'airplan', 'two', 'year', 'fact', 'nice', 'go', 'happen', 'veget', 'case', 'fruit', 'attack', 'manner', 'film', 'magic', 'stop', 'motion', 'papier', 'mach', 'tomato', 'skateboard', 'revers', 'film', 'peopl', 'watch', 'screen', 'tomato', 'peopl', 'throw', 'basketbal', 'size', 'tomato', 'screen', 'actor', 'tomato', 'inde', 'attack', 'everyon', 'leafi', 'grasp', 'mason', 'dixon', 'miller', 'group', 'spi', 'wish', 'govern', 'side', 'save', 'day', 'cours', 'meddl', 'report', 'taylor', 'pop', 'worst', 'time', 'danc', 'sing', 'armi', 'soldier', 'japanes', 'scientist', 'dub', 'voic', 'guy', 'drag', 'around', 'parachut', 'samurai', 'sword', 'oh', 'yeah', 'san', 'diego', 'chicken', 'made', 'big', 'gag', 'great', 'fact', 'could', 'probabl', 'make', 'better', 'watch', 'dialogu', 'inutter', 'bad', 'pleas', 'pass', 'ketchup', 'someth', 'say', 'front', 'tomato', 'far', 'puberti', 'love', 'goe', 'well', 'blame', 'tomato', 'shrivel', 'hear', 'good', 'well', 'like', 'theme', 'song', 'begin', 'credit', 'scene', 'four', 'peopl', 'phone', 'pretti', 'well', 'execut', 'three', 'star', 'killer', 'comedi', 'tri', 'rock', 'peac']\n"
     ]
    }
   ],
   "source": [
    "# TODO: Apply review_to_words to a review (train_X[100] or any other review)\n",
    "review_to_word_outcome=None\n",
    "review_to_word_outcome=review_to_words(train_X[100])\n",
    "print(review_to_word_outcome)"
   ]
  },
  {
   "cell_type": "code",
   "execution_count": 10,
   "metadata": {},
   "outputs": [
    {
     "data": {
      "text/plain": [
       "'This movie\\'s heart was in the right place, no matter where its brain was.<br /><br />\"Attack\" is basically a spoof a la \"Airplane!\" (two years before the fact - nice going.) of what happens when vegetables, or in this case fruits, attack.<br /><br />Through all manner of film magic (stop motion, papier-mache tomatoes on skateboards, reverse filming, people watching off-screen tomatoes, people throwing basketball-sized tomatoes at the on-screen actors), the tomatoes do indeed attack everyone in their leafy grasp. <br /><br />Then, it\\'s up to Mason Dixon (Miller) and a group of spies I wouldn\\'t wish on any government\\'s side to save the day. Of course there\\'s a meddling reporter (Taylor) who pops in at the worst times, dancing and singing Army soldiers, Japanese scientists with dubbed-in voices, some guy dragging around a parachute and a samurai sword...and oh yeah, the San Diego Chicken before he made it big.<br /><br />The gags here aren\\'t all that great. In fact, you could probably make up better yourself after watching these. Some of the dialogue is inutterably bad (\"Please pass the ketchup\" - not something to say in front of tomatoes.) and as far as \"Puberty Love\" goes...well, I can\\'t blame the tomatoes for shriveling up on hearing it.<br /><br />What\\'s good about it? Well, I liked the theme song and the beginning credits, and there was a scene with four people on the phone at once that was pretty well executed. ...that\\'s about it.<br /><br />Three stars. Not a \"Killer\" comedy, but it tries.<br /><br />Rock on, Peace.'"
      ]
     },
     "execution_count": 10,
     "metadata": {},
     "output_type": "execute_result"
    }
   ],
   "source": [
    "train_X[100]"
   ]
  },
  {
   "cell_type": "code",
   "execution_count": 11,
   "metadata": {},
   "outputs": [
    {
     "data": {
      "text/plain": [
       "['film',\n",
       " 'author',\n",
       " 'steven',\n",
       " 'greenstreet',\n",
       " 'obvious',\n",
       " 'idol',\n",
       " 'michael',\n",
       " 'moor',\n",
       " 'also',\n",
       " 'follow',\n",
       " 'footstep',\n",
       " 'use',\n",
       " 'sever',\n",
       " 'moor',\n",
       " 'propaganda',\n",
       " 'film',\n",
       " 'make',\n",
       " 'tactic',\n",
       " 'moor',\n",
       " 'expertis',\n",
       " 'distract',\n",
       " 'viewer',\n",
       " 'focu',\n",
       " 'though',\n",
       " 'greenstreet',\n",
       " 'obvious',\n",
       " 'less',\n",
       " 'skill',\n",
       " 'privi',\n",
       " 'issu',\n",
       " 'surround',\n",
       " 'moor',\n",
       " 'speech',\n",
       " 'uvsc',\n",
       " 'disappoint',\n",
       " 'see',\n",
       " 'major',\n",
       " 'complaint',\n",
       " 'commun',\n",
       " 'moor',\n",
       " 'paid',\n",
       " '40',\n",
       " '000',\n",
       " 'state',\n",
       " 'utah',\n",
       " 'educ',\n",
       " 'fund',\n",
       " 'basic',\n",
       " 'promot',\n",
       " 'john',\n",
       " 'kerri',\n",
       " 'campaign',\n",
       " 'advertis',\n",
       " 'liber',\n",
       " 'movi',\n",
       " 'push',\n",
       " 'background',\n",
       " 'greenstreet',\n",
       " 'lesser',\n",
       " 'issu',\n",
       " 'sensation',\n",
       " 'market',\n",
       " 'method',\n",
       " 'video',\n",
       " 'equal',\n",
       " 'bias',\n",
       " 'objection',\n",
       " 'promot',\n",
       " 'film',\n",
       " 'claim',\n",
       " 'mormon',\n",
       " 'tri',\n",
       " 'kill',\n",
       " 'moor',\n",
       " 'preposter',\n",
       " 'defam',\n",
       " 'major',\n",
       " 'religion',\n",
       " 'greenstreet',\n",
       " 'obvious',\n",
       " 'person',\n",
       " 'issu',\n",
       " 'follow',\n",
       " 'moor',\n",
       " 'visit',\n",
       " 'close',\n",
       " 'major',\n",
       " 'news',\n",
       " 'agenc',\n",
       " 'note',\n",
       " 'moor',\n",
       " 'visit',\n",
       " 'came',\n",
       " 'went',\n",
       " 'without',\n",
       " 'credibl',\n",
       " 'secur',\n",
       " 'problem',\n",
       " 'incid',\n",
       " 'utah',\n",
       " 'greenstreet',\n",
       " 'bank',\n",
       " 'film',\n",
       " 'jump',\n",
       " 'start',\n",
       " 'film',\n",
       " 'make',\n",
       " 'career',\n",
       " 'point',\n",
       " 'even',\n",
       " 'drop',\n",
       " 'film',\n",
       " 'school',\n",
       " 'help',\n",
       " 'acceler',\n",
       " 'seem',\n",
       " 'sever',\n",
       " 'miscalcul',\n",
       " 'though',\n",
       " 'sinc',\n",
       " 'moor',\n",
       " 'visit',\n",
       " 'roughli',\n",
       " '60',\n",
       " 'colleg',\n",
       " 'univers',\n",
       " 'across',\n",
       " 'countri',\n",
       " '2004',\n",
       " 'dilut',\n",
       " 'interest',\n",
       " 'rather',\n",
       " 'common',\n",
       " 'event',\n",
       " 'greenstreet',\n",
       " 'assumpt',\n",
       " 'american',\n",
       " 'audienc',\n",
       " 'would',\n",
       " 'interest',\n",
       " 'film',\n",
       " 'due',\n",
       " 'promot',\n",
       " 'religi',\n",
       " 'conserv',\n",
       " 'angl',\n",
       " 'seem',\n",
       " 'well',\n",
       " 'found',\n",
       " 'even',\n",
       " 'name',\n",
       " 'film',\n",
       " 'divid',\n",
       " 'state',\n",
       " 'somewhat',\n",
       " 'misnom',\n",
       " 'sinc',\n",
       " 'utah',\n",
       " 'vote',\n",
       " 'overwhelmingli',\n",
       " 'bush',\n",
       " 'elect',\n",
       " 'thu',\n",
       " 'appear',\n",
       " 'polit',\n",
       " 'unifi',\n",
       " 'state',\n",
       " 'divis',\n",
       " 'movi',\n",
       " 'titl',\n",
       " 'seem',\n",
       " 'indic',\n",
       " 'gulf',\n",
       " 'exist',\n",
       " 'greenstreet',\n",
       " 'ideolog',\n",
       " 'differ',\n",
       " 'religion',\n",
       " 'state',\n",
       " 'anyth',\n",
       " 'find',\n",
       " 'humor',\n",
       " 'correl',\n",
       " 'religi',\n",
       " 'angl',\n",
       " 'suppos',\n",
       " 'documentari',\n",
       " 'woodi',\n",
       " 'allen',\n",
       " 'hilari',\n",
       " 'content',\n",
       " 'sleeper',\n",
       " '1973',\n",
       " 'beaten',\n",
       " 'quaker']"
      ]
     },
     "execution_count": 11,
     "metadata": {},
     "output_type": "execute_result"
    }
   ],
   "source": [
    "review_to_words(train_X[50])"
   ]
  },
  {
   "cell_type": "code",
   "execution_count": 12,
   "metadata": {},
   "outputs": [
    {
     "data": {
      "text/plain": [
       "25000"
      ]
     },
     "execution_count": 12,
     "metadata": {},
     "output_type": "execute_result"
    }
   ],
   "source": [
    "len(train_X)"
   ]
  },
  {
   "cell_type": "code",
   "execution_count": 13,
   "metadata": {},
   "outputs": [
    {
     "data": {
      "text/plain": [
       "25000"
      ]
     },
     "execution_count": 13,
     "metadata": {},
     "output_type": "execute_result"
    }
   ],
   "source": [
    "len(train_y)"
   ]
  },
  {
   "cell_type": "markdown",
   "metadata": {},
   "source": [
    "**Question:** Above we mentioned that `review_to_words` method removes html formatting and allows us to tokenize the words found in a review, for example, converting *entertained* and *entertaining* into *entertain* so that they are treated as though they are the same word. What else, if anything, does this method do to the input?"
   ]
  },
  {
   "cell_type": "markdown",
   "metadata": {},
   "source": [
    "**Answer:** Moreover \"this review_to_words method removes the html format,\" also it split sentences to wordswith comma which’s leads to easy to work with it ,with review_to_word method  , Also, all letters are now lowercase and there are no uppercase letters at the beginning of each sentence as there were before the review_to_word method was applied."
   ]
  },
  {
   "cell_type": "markdown",
   "metadata": {},
   "source": [
    "The method below applies the `review_to_words` method to each of the reviews in the training and testing datasets. In addition it caches the results. This is because performing this processing step can take a long time. This way if you are unable to complete the notebook in the current session, you can come back without needing to process the data a second time."
   ]
  },
  {
   "cell_type": "code",
   "execution_count": 14,
   "metadata": {},
   "outputs": [],
   "source": [
    "import pickle\n",
    "\n",
    "cache_dir = os.path.join(\"../cache\", \"sentiment_analysis\")  # where to store cache files\n",
    "os.makedirs(cache_dir, exist_ok=True)  # ensure cache directory exists\n",
    "\n",
    "def preprocess_data(data_train, data_test, labels_train, labels_test,\n",
    "                    cache_dir=cache_dir, cache_file=\"preprocessed_data.pkl\"):\n",
    "    \"\"\"Convert each review to words; read from cache if available.\"\"\"\n",
    "\n",
    "    # If cache_file is not None, try to read from it first\n",
    "    cache_data = None\n",
    "    if cache_file is not None:\n",
    "        try:\n",
    "            with open(os.path.join(cache_dir, cache_file), \"rb\") as f:\n",
    "                cache_data = pickle.load(f)\n",
    "            print(\"Read preprocessed data from cache file:\", cache_file)\n",
    "        except:\n",
    "            pass  # unable to read from cache, but that's okay\n",
    "    \n",
    "    # If cache is missing, then do the heavy lifting\n",
    "    if cache_data is None:\n",
    "        # Preprocess training and test data to obtain words for each review\n",
    "        #words_train = list(map(review_to_words, data_train))\n",
    "        #words_test = list(map(review_to_words, data_test))\n",
    "        words_train = [review_to_words(review) for review in data_train]\n",
    "        words_test = [review_to_words(review) for review in data_test]\n",
    "        \n",
    "        # Write to cache file for future runs\n",
    "        if cache_file is not None:\n",
    "            cache_data = dict(words_train=words_train, words_test=words_test,\n",
    "                              labels_train=labels_train, labels_test=labels_test)\n",
    "            with open(os.path.join(cache_dir, cache_file), \"wb\") as f:\n",
    "                pickle.dump(cache_data, f)\n",
    "            print(\"Wrote preprocessed data to cache file:\", cache_file)\n",
    "    else:\n",
    "        # Unpack data loaded from cache file\n",
    "        words_train, words_test, labels_train, labels_test = (cache_data['words_train'],\n",
    "                cache_data['words_test'], cache_data['labels_train'], cache_data['labels_test'])\n",
    "    \n",
    "    return words_train, words_test, labels_train, labels_test"
   ]
  },
  {
   "cell_type": "code",
   "execution_count": 15,
   "metadata": {},
   "outputs": [
    {
     "name": "stdout",
     "output_type": "stream",
     "text": [
      "Read preprocessed data from cache file: preprocessed_data.pkl\n"
     ]
    }
   ],
   "source": [
    "# Preprocess data\n",
    "train_X, test_X, train_y, test_y = preprocess_data(train_X, test_X, train_y, test_y)"
   ]
  },
  {
   "cell_type": "markdown",
   "metadata": {},
   "source": [
    "## Transform the data\n",
    "\n",
    "In the XGBoost notebook we transformed the data from its word representation to a bag-of-words feature representation. For the model we are going to construct in this notebook we will construct a feature representation which is very similar. To start, we will represent each word as an integer. Of course, some of the words that appear in the reviews occur very infrequently and so likely don't contain much information for the purposes of sentiment analysis. The way we will deal with this problem is that we will fix the size of our working vocabulary and we will only include the words that appear most frequently. We will then combine all of the infrequent words into a single category and, in our case, we will label it as `1`.\n",
    "\n",
    "Since we will be using a recurrent neural network, it will be convenient if the length of each review is the same. To do this, we will fix a size for our reviews and then pad short reviews with the category 'no word' (which we will label `0`) and truncate long reviews."
   ]
  },
  {
   "cell_type": "markdown",
   "metadata": {},
   "source": [
    "### (TODO) Create a word dictionary\n",
    "\n",
    "To begin with, we need to construct a way to map words that appear in the reviews to integers. Here we fix the size of our vocabulary (including the 'no word' and 'infrequent' categories) to be `5000` but you may wish to change this to see how it affects the model.\n",
    "\n",
    "> **TODO:** Complete the implementation for the `build_dict()` method below. Note that even though the vocab_size is set to `5000`, we only want to construct a mapping for the most frequently appearing `4998` words. This is because we want to reserve the special labels `0` for 'no word' and `1` for 'infrequent word'."
   ]
  },
  {
   "cell_type": "code",
   "execution_count": 16,
   "metadata": {},
   "outputs": [],
   "source": [
    "import numpy as np\n",
    "\n",
    "def build_dict(data, vocab_size = 5000):\n",
    "    \"\"\"Construct and return a dictionary mapping each of the most frequently appearing words to a unique integer.\"\"\"\n",
    "    \n",
    "    # TODO: Determine how often each word appears in `data`. Note that `data` is a list of sentences and that a\n",
    "    #       sentence is a list of words.\n",
    "    word_count = {} # A dict storing the words that appear in the reviews along with how often they occur\n",
    "    for reviews_sentence in data:\n",
    "        for reviews_words in reviews_sentence:\n",
    "            if reviews_words in word_count:\n",
    "                #word_count[reviews_words] = None\n",
    "                 word_count[reviews_words] = word_count[reviews_words]+1\n",
    "                #word_count[reviews_words]+=1\n",
    "            elif reviews_words not in word_count:\n",
    "                #word_count[reviews_words] = None\n",
    "                 word_count[reviews_words]=1\n",
    "            else:\n",
    "                #word_count[reviews_words] = None\n",
    "                 word_count[reviews_words]=1\n",
    "    # TODO: Sort the words found in `data` so that sorted_words[0] is the most frequently appearing word and\n",
    "    # we only want to construct a mapping for the most frequently appearing 4998 words. This is because we want to reserve the special labels 0 for 'no word' and 1 for 'infrequent word  \n",
    "    #sorted_words = None\n",
    "    sorted_words = sorted(word_count, key=word_count.get, reverse=True)# word_count: dict storing the words\n",
    "    word_dict = {} # This is what we are building, a dictionary that translates words into integers\n",
    "    for idx, word in enumerate(sorted_words[:vocab_size - 2]): # The -2 is so that we save room for the 'no word'\n",
    "        word_dict[word] = idx + 2                              # 'infrequent' labels\n",
    "    return word_dict"
   ]
  },
  {
   "cell_type": "code",
   "execution_count": 17,
   "metadata": {},
   "outputs": [
    {
     "data": {
      "text/plain": [
       "{'movi': 2,\n",
       " 'film': 3,\n",
       " 'one': 4,\n",
       " 'like': 5,\n",
       " 'time': 6,\n",
       " 'good': 7,\n",
       " 'make': 8,\n",
       " 'charact': 9,\n",
       " 'get': 10,\n",
       " 'see': 11,\n",
       " 'watch': 12,\n",
       " 'stori': 13,\n",
       " 'even': 14,\n",
       " 'would': 15,\n",
       " 'realli': 16,\n",
       " 'well': 17,\n",
       " 'scene': 18,\n",
       " 'look': 19,\n",
       " 'show': 20,\n",
       " 'much': 21,\n",
       " 'end': 22,\n",
       " 'peopl': 23,\n",
       " 'bad': 24,\n",
       " 'go': 25,\n",
       " 'great': 26,\n",
       " 'also': 27,\n",
       " 'first': 28,\n",
       " 'love': 29,\n",
       " 'think': 30,\n",
       " 'way': 31,\n",
       " 'act': 32,\n",
       " 'play': 33,\n",
       " 'made': 34,\n",
       " 'thing': 35,\n",
       " 'could': 36,\n",
       " 'know': 37,\n",
       " 'say': 38,\n",
       " 'seem': 39,\n",
       " 'work': 40,\n",
       " 'plot': 41,\n",
       " 'two': 42,\n",
       " 'actor': 43,\n",
       " 'year': 44,\n",
       " 'come': 45,\n",
       " 'mani': 46,\n",
       " 'seen': 47,\n",
       " 'take': 48,\n",
       " 'want': 49,\n",
       " 'life': 50,\n",
       " 'never': 51,\n",
       " 'littl': 52,\n",
       " 'best': 53,\n",
       " 'tri': 54,\n",
       " 'man': 55,\n",
       " 'ever': 56,\n",
       " 'give': 57,\n",
       " 'better': 58,\n",
       " 'still': 59,\n",
       " 'perform': 60,\n",
       " 'find': 61,\n",
       " 'feel': 62,\n",
       " 'part': 63,\n",
       " 'back': 64,\n",
       " 'use': 65,\n",
       " 'someth': 66,\n",
       " 'director': 67,\n",
       " 'actual': 68,\n",
       " 'interest': 69,\n",
       " 'lot': 70,\n",
       " 'real': 71,\n",
       " 'old': 72,\n",
       " 'cast': 73,\n",
       " 'though': 74,\n",
       " 'live': 75,\n",
       " 'star': 76,\n",
       " 'enjoy': 77,\n",
       " 'guy': 78,\n",
       " 'anoth': 79,\n",
       " 'new': 80,\n",
       " 'role': 81,\n",
       " 'noth': 82,\n",
       " '10': 83,\n",
       " 'funni': 84,\n",
       " 'music': 85,\n",
       " 'point': 86,\n",
       " 'start': 87,\n",
       " 'set': 88,\n",
       " 'girl': 89,\n",
       " 'origin': 90,\n",
       " 'day': 91,\n",
       " 'world': 92,\n",
       " 'everi': 93,\n",
       " 'believ': 94,\n",
       " 'turn': 95,\n",
       " 'quit': 96,\n",
       " 'direct': 97,\n",
       " 'us': 98,\n",
       " 'thought': 99,\n",
       " 'fact': 100,\n",
       " 'minut': 101,\n",
       " 'horror': 102,\n",
       " 'kill': 103,\n",
       " 'action': 104,\n",
       " 'comedi': 105,\n",
       " 'pretti': 106,\n",
       " 'young': 107,\n",
       " 'wonder': 108,\n",
       " 'happen': 109,\n",
       " 'around': 110,\n",
       " 'got': 111,\n",
       " 'effect': 112,\n",
       " 'right': 113,\n",
       " 'long': 114,\n",
       " 'howev': 115,\n",
       " 'big': 116,\n",
       " 'line': 117,\n",
       " 'famili': 118,\n",
       " 'enough': 119,\n",
       " 'seri': 120,\n",
       " 'may': 121,\n",
       " 'need': 122,\n",
       " 'fan': 123,\n",
       " 'bit': 124,\n",
       " 'script': 125,\n",
       " 'beauti': 126,\n",
       " 'person': 127,\n",
       " 'becom': 128,\n",
       " 'without': 129,\n",
       " 'must': 130,\n",
       " 'alway': 131,\n",
       " 'friend': 132,\n",
       " 'tell': 133,\n",
       " 'reason': 134,\n",
       " 'saw': 135,\n",
       " 'last': 136,\n",
       " 'final': 137,\n",
       " 'kid': 138,\n",
       " 'almost': 139,\n",
       " 'put': 140,\n",
       " 'least': 141,\n",
       " 'sure': 142,\n",
       " 'done': 143,\n",
       " 'whole': 144,\n",
       " 'place': 145,\n",
       " 'complet': 146,\n",
       " 'kind': 147,\n",
       " 'expect': 148,\n",
       " 'differ': 149,\n",
       " 'shot': 150,\n",
       " 'far': 151,\n",
       " 'mean': 152,\n",
       " 'anyth': 153,\n",
       " 'book': 154,\n",
       " 'laugh': 155,\n",
       " 'might': 156,\n",
       " 'name': 157,\n",
       " 'sinc': 158,\n",
       " 'begin': 159,\n",
       " '2': 160,\n",
       " 'probabl': 161,\n",
       " 'woman': 162,\n",
       " 'help': 163,\n",
       " 'entertain': 164,\n",
       " 'let': 165,\n",
       " 'screen': 166,\n",
       " 'call': 167,\n",
       " 'tv': 168,\n",
       " 'moment': 169,\n",
       " 'away': 170,\n",
       " 'read': 171,\n",
       " 'yet': 172,\n",
       " 'rather': 173,\n",
       " 'worst': 174,\n",
       " 'run': 175,\n",
       " 'fun': 176,\n",
       " 'lead': 177,\n",
       " 'hard': 178,\n",
       " 'audienc': 179,\n",
       " 'idea': 180,\n",
       " 'anyon': 181,\n",
       " 'episod': 182,\n",
       " 'american': 183,\n",
       " 'found': 184,\n",
       " 'appear': 185,\n",
       " 'bore': 186,\n",
       " 'especi': 187,\n",
       " 'although': 188,\n",
       " 'hope': 189,\n",
       " 'keep': 190,\n",
       " 'cours': 191,\n",
       " 'anim': 192,\n",
       " 'job': 193,\n",
       " 'goe': 194,\n",
       " 'move': 195,\n",
       " 'sens': 196,\n",
       " 'dvd': 197,\n",
       " 'version': 198,\n",
       " 'war': 199,\n",
       " 'money': 200,\n",
       " 'someon': 201,\n",
       " 'mind': 202,\n",
       " 'mayb': 203,\n",
       " 'problem': 204,\n",
       " 'true': 205,\n",
       " 'hous': 206,\n",
       " 'everyth': 207,\n",
       " 'nice': 208,\n",
       " 'second': 209,\n",
       " 'rate': 210,\n",
       " 'three': 211,\n",
       " 'night': 212,\n",
       " 'follow': 213,\n",
       " 'face': 214,\n",
       " 'recommend': 215,\n",
       " 'product': 216,\n",
       " 'main': 217,\n",
       " 'worth': 218,\n",
       " 'leav': 219,\n",
       " 'human': 220,\n",
       " 'special': 221,\n",
       " 'excel': 222,\n",
       " 'togeth': 223,\n",
       " 'wast': 224,\n",
       " 'everyon': 225,\n",
       " 'sound': 226,\n",
       " 'john': 227,\n",
       " 'hand': 228,\n",
       " '1': 229,\n",
       " 'father': 230,\n",
       " 'later': 231,\n",
       " 'eye': 232,\n",
       " 'said': 233,\n",
       " 'view': 234,\n",
       " 'instead': 235,\n",
       " 'review': 236,\n",
       " 'boy': 237,\n",
       " 'high': 238,\n",
       " 'hour': 239,\n",
       " 'miss': 240,\n",
       " 'classic': 241,\n",
       " 'talk': 242,\n",
       " 'wife': 243,\n",
       " 'understand': 244,\n",
       " 'left': 245,\n",
       " 'care': 246,\n",
       " 'black': 247,\n",
       " 'death': 248,\n",
       " 'open': 249,\n",
       " 'murder': 250,\n",
       " 'write': 251,\n",
       " 'half': 252,\n",
       " 'head': 253,\n",
       " 'rememb': 254,\n",
       " 'chang': 255,\n",
       " 'viewer': 256,\n",
       " 'fight': 257,\n",
       " 'gener': 258,\n",
       " 'surpris': 259,\n",
       " 'includ': 260,\n",
       " 'short': 261,\n",
       " 'die': 262,\n",
       " 'fall': 263,\n",
       " 'less': 264,\n",
       " 'els': 265,\n",
       " 'entir': 266,\n",
       " 'piec': 267,\n",
       " 'involv': 268,\n",
       " 'pictur': 269,\n",
       " 'simpli': 270,\n",
       " 'power': 271,\n",
       " 'home': 272,\n",
       " 'top': 273,\n",
       " 'total': 274,\n",
       " 'usual': 275,\n",
       " 'budget': 276,\n",
       " 'attempt': 277,\n",
       " 'suppos': 278,\n",
       " 'releas': 279,\n",
       " 'hollywood': 280,\n",
       " 'terribl': 281,\n",
       " 'song': 282,\n",
       " 'men': 283,\n",
       " 'possibl': 284,\n",
       " 'featur': 285,\n",
       " 'portray': 286,\n",
       " 'disappoint': 287,\n",
       " 'poor': 288,\n",
       " '3': 289,\n",
       " 'coupl': 290,\n",
       " 'camera': 291,\n",
       " 'stupid': 292,\n",
       " 'dead': 293,\n",
       " 'wrong': 294,\n",
       " 'low': 295,\n",
       " 'produc': 296,\n",
       " 'video': 297,\n",
       " 'either': 298,\n",
       " 'aw': 299,\n",
       " 'definit': 300,\n",
       " 'except': 301,\n",
       " 'rest': 302,\n",
       " 'given': 303,\n",
       " 'absolut': 304,\n",
       " 'women': 305,\n",
       " 'lack': 306,\n",
       " 'word': 307,\n",
       " 'writer': 308,\n",
       " 'titl': 309,\n",
       " 'talent': 310,\n",
       " 'decid': 311,\n",
       " 'full': 312,\n",
       " 'perfect': 313,\n",
       " 'along': 314,\n",
       " 'style': 315,\n",
       " 'close': 316,\n",
       " 'truli': 317,\n",
       " 'school': 318,\n",
       " 'save': 319,\n",
       " 'emot': 320,\n",
       " 'age': 321,\n",
       " 'sex': 322,\n",
       " 'next': 323,\n",
       " 'bring': 324,\n",
       " 'mr': 325,\n",
       " 'case': 326,\n",
       " 'killer': 327,\n",
       " 'heart': 328,\n",
       " 'comment': 329,\n",
       " 'sort': 330,\n",
       " 'creat': 331,\n",
       " 'perhap': 332,\n",
       " 'came': 333,\n",
       " 'brother': 334,\n",
       " 'sever': 335,\n",
       " 'joke': 336,\n",
       " 'art': 337,\n",
       " 'dialogu': 338,\n",
       " 'game': 339,\n",
       " 'small': 340,\n",
       " 'base': 341,\n",
       " 'flick': 342,\n",
       " 'written': 343,\n",
       " 'sequenc': 344,\n",
       " 'meet': 345,\n",
       " 'earli': 346,\n",
       " 'often': 347,\n",
       " 'other': 348,\n",
       " 'mother': 349,\n",
       " 'develop': 350,\n",
       " 'humor': 351,\n",
       " 'actress': 352,\n",
       " 'consid': 353,\n",
       " 'dark': 354,\n",
       " 'guess': 355,\n",
       " 'amaz': 356,\n",
       " 'unfortun': 357,\n",
       " 'lost': 358,\n",
       " 'light': 359,\n",
       " 'exampl': 360,\n",
       " 'cinema': 361,\n",
       " 'drama': 362,\n",
       " 'white': 363,\n",
       " 'ye': 364,\n",
       " 'experi': 365,\n",
       " 'imagin': 366,\n",
       " 'mention': 367,\n",
       " 'stop': 368,\n",
       " 'natur': 369,\n",
       " 'forc': 370,\n",
       " 'manag': 371,\n",
       " 'felt': 372,\n",
       " 'present': 373,\n",
       " 'cut': 374,\n",
       " 'children': 375,\n",
       " 'fail': 376,\n",
       " 'son': 377,\n",
       " 'support': 378,\n",
       " 'qualiti': 379,\n",
       " 'car': 380,\n",
       " 'ask': 381,\n",
       " 'hit': 382,\n",
       " 'side': 383,\n",
       " 'voic': 384,\n",
       " 'extrem': 385,\n",
       " 'impress': 386,\n",
       " 'evil': 387,\n",
       " 'wors': 388,\n",
       " 'stand': 389,\n",
       " 'went': 390,\n",
       " 'certainli': 391,\n",
       " 'basic': 392,\n",
       " 'oh': 393,\n",
       " 'overal': 394,\n",
       " 'favorit': 395,\n",
       " 'horribl': 396,\n",
       " 'mysteri': 397,\n",
       " 'number': 398,\n",
       " 'type': 399,\n",
       " 'danc': 400,\n",
       " 'wait': 401,\n",
       " 'hero': 402,\n",
       " 'alreadi': 403,\n",
       " '5': 404,\n",
       " 'learn': 405,\n",
       " 'matter': 406,\n",
       " '4': 407,\n",
       " 'michael': 408,\n",
       " 'genr': 409,\n",
       " 'fine': 410,\n",
       " 'despit': 411,\n",
       " 'throughout': 412,\n",
       " 'walk': 413,\n",
       " 'success': 414,\n",
       " 'histori': 415,\n",
       " 'question': 416,\n",
       " 'zombi': 417,\n",
       " 'town': 418,\n",
       " 'relationship': 419,\n",
       " 'realiz': 420,\n",
       " 'child': 421,\n",
       " 'past': 422,\n",
       " 'daughter': 423,\n",
       " 'late': 424,\n",
       " 'b': 425,\n",
       " 'wish': 426,\n",
       " 'hate': 427,\n",
       " 'credit': 428,\n",
       " 'event': 429,\n",
       " 'theme': 430,\n",
       " 'touch': 431,\n",
       " 'citi': 432,\n",
       " 'today': 433,\n",
       " 'sometim': 434,\n",
       " 'behind': 435,\n",
       " 'god': 436,\n",
       " 'twist': 437,\n",
       " 'sit': 438,\n",
       " 'deal': 439,\n",
       " 'stay': 440,\n",
       " 'annoy': 441,\n",
       " 'abl': 442,\n",
       " 'rent': 443,\n",
       " 'pleas': 444,\n",
       " 'edit': 445,\n",
       " 'blood': 446,\n",
       " 'deserv': 447,\n",
       " 'comic': 448,\n",
       " 'anyway': 449,\n",
       " 'appar': 450,\n",
       " 'soon': 451,\n",
       " 'gave': 452,\n",
       " 'etc': 453,\n",
       " 'level': 454,\n",
       " 'slow': 455,\n",
       " 'chanc': 456,\n",
       " 'score': 457,\n",
       " 'bodi': 458,\n",
       " 'brilliant': 459,\n",
       " 'incred': 460,\n",
       " 'figur': 461,\n",
       " 'situat': 462,\n",
       " 'self': 463,\n",
       " 'major': 464,\n",
       " 'stuff': 465,\n",
       " 'decent': 466,\n",
       " 'element': 467,\n",
       " 'return': 468,\n",
       " 'dream': 469,\n",
       " 'obvious': 470,\n",
       " 'continu': 471,\n",
       " 'order': 472,\n",
       " 'pace': 473,\n",
       " 'ridicul': 474,\n",
       " 'happi': 475,\n",
       " 'add': 476,\n",
       " 'group': 477,\n",
       " 'highli': 478,\n",
       " 'thank': 479,\n",
       " 'ladi': 480,\n",
       " 'novel': 481,\n",
       " 'pain': 482,\n",
       " 'speak': 483,\n",
       " 'career': 484,\n",
       " 'shoot': 485,\n",
       " 'strang': 486,\n",
       " 'heard': 487,\n",
       " 'sad': 488,\n",
       " 'husband': 489,\n",
       " 'polic': 490,\n",
       " 'import': 491,\n",
       " 'break': 492,\n",
       " 'took': 493,\n",
       " 'strong': 494,\n",
       " 'cannot': 495,\n",
       " 'predict': 496,\n",
       " 'robert': 497,\n",
       " 'violenc': 498,\n",
       " 'hilari': 499,\n",
       " 'recent': 500,\n",
       " 'countri': 501,\n",
       " 'known': 502,\n",
       " 'particularli': 503,\n",
       " 'pick': 504,\n",
       " 'documentari': 505,\n",
       " 'season': 506,\n",
       " 'critic': 507,\n",
       " 'jame': 508,\n",
       " 'compar': 509,\n",
       " 'obviou': 510,\n",
       " 'alon': 511,\n",
       " 'told': 512,\n",
       " 'state': 513,\n",
       " 'rock': 514,\n",
       " 'visual': 515,\n",
       " 'theater': 516,\n",
       " 'exist': 517,\n",
       " 'offer': 518,\n",
       " 'opinion': 519,\n",
       " 'gore': 520,\n",
       " 'hold': 521,\n",
       " 'crap': 522,\n",
       " 'result': 523,\n",
       " 'hear': 524,\n",
       " 'room': 525,\n",
       " 'realiti': 526,\n",
       " 'effort': 527,\n",
       " 'clich': 528,\n",
       " 'thriller': 529,\n",
       " 'caus': 530,\n",
       " 'sequel': 531,\n",
       " 'serious': 532,\n",
       " 'explain': 533,\n",
       " 'king': 534,\n",
       " 'local': 535,\n",
       " 'ago': 536,\n",
       " 'hell': 537,\n",
       " 'none': 538,\n",
       " 'note': 539,\n",
       " 'allow': 540,\n",
       " 'sister': 541,\n",
       " 'david': 542,\n",
       " 'simpl': 543,\n",
       " 'femal': 544,\n",
       " 'deliv': 545,\n",
       " 'ok': 546,\n",
       " 'convinc': 547,\n",
       " 'class': 548,\n",
       " 'check': 549,\n",
       " 'suspens': 550,\n",
       " 'win': 551,\n",
       " 'buy': 552,\n",
       " 'oscar': 553,\n",
       " 'huge': 554,\n",
       " 'valu': 555,\n",
       " 'sexual': 556,\n",
       " 'scari': 557,\n",
       " 'cool': 558,\n",
       " 'similar': 559,\n",
       " 'excit': 560,\n",
       " 'exactli': 561,\n",
       " 'provid': 562,\n",
       " 'apart': 563,\n",
       " 'shown': 564,\n",
       " 'avoid': 565,\n",
       " 'seriou': 566,\n",
       " 'english': 567,\n",
       " 'taken': 568,\n",
       " 'whose': 569,\n",
       " 'cinematographi': 570,\n",
       " 'shock': 571,\n",
       " 'polit': 572,\n",
       " 'spoiler': 573,\n",
       " 'offic': 574,\n",
       " 'across': 575,\n",
       " 'middl': 576,\n",
       " 'street': 577,\n",
       " 'pass': 578,\n",
       " 'messag': 579,\n",
       " 'silli': 580,\n",
       " 'somewhat': 581,\n",
       " 'charm': 582,\n",
       " 'modern': 583,\n",
       " 'confus': 584,\n",
       " 'filmmak': 585,\n",
       " 'form': 586,\n",
       " 'tale': 587,\n",
       " 'singl': 588,\n",
       " 'jack': 589,\n",
       " 'mostli': 590,\n",
       " 'carri': 591,\n",
       " 'attent': 592,\n",
       " 'william': 593,\n",
       " 'sing': 594,\n",
       " 'subject': 595,\n",
       " 'five': 596,\n",
       " 'richard': 597,\n",
       " 'prove': 598,\n",
       " 'stage': 599,\n",
       " 'team': 600,\n",
       " 'unlik': 601,\n",
       " 'cop': 602,\n",
       " 'georg': 603,\n",
       " 'monster': 604,\n",
       " 'televis': 605,\n",
       " 'earth': 606,\n",
       " 'villain': 607,\n",
       " 'cover': 608,\n",
       " 'pay': 609,\n",
       " 'marri': 610,\n",
       " 'toward': 611,\n",
       " 'build': 612,\n",
       " 'parent': 613,\n",
       " 'pull': 614,\n",
       " 'due': 615,\n",
       " 'respect': 616,\n",
       " 'fill': 617,\n",
       " 'dialog': 618,\n",
       " 'four': 619,\n",
       " 'remind': 620,\n",
       " 'futur': 621,\n",
       " 'typic': 622,\n",
       " 'weak': 623,\n",
       " '7': 624,\n",
       " 'cheap': 625,\n",
       " 'intellig': 626,\n",
       " 'british': 627,\n",
       " 'atmospher': 628,\n",
       " '80': 629,\n",
       " 'clearli': 630,\n",
       " 'dog': 631,\n",
       " 'non': 632,\n",
       " 'paul': 633,\n",
       " 'knew': 634,\n",
       " 'artist': 635,\n",
       " 'fast': 636,\n",
       " '8': 637,\n",
       " 'crime': 638,\n",
       " 'easili': 639,\n",
       " 'escap': 640,\n",
       " 'adult': 641,\n",
       " 'doubt': 642,\n",
       " 'detail': 643,\n",
       " 'date': 644,\n",
       " 'romant': 645,\n",
       " 'member': 646,\n",
       " 'fire': 647,\n",
       " 'gun': 648,\n",
       " 'drive': 649,\n",
       " 'straight': 650,\n",
       " 'fit': 651,\n",
       " 'beyond': 652,\n",
       " 'attack': 653,\n",
       " 'imag': 654,\n",
       " 'upon': 655,\n",
       " 'posit': 656,\n",
       " 'whether': 657,\n",
       " 'fantast': 658,\n",
       " 'peter': 659,\n",
       " 'appreci': 660,\n",
       " 'aspect': 661,\n",
       " 'captur': 662,\n",
       " 'ten': 663,\n",
       " 'plan': 664,\n",
       " 'discov': 665,\n",
       " 'remain': 666,\n",
       " 'near': 667,\n",
       " 'period': 668,\n",
       " 'realist': 669,\n",
       " 'air': 670,\n",
       " 'mark': 671,\n",
       " 'red': 672,\n",
       " 'dull': 673,\n",
       " 'adapt': 674,\n",
       " 'within': 675,\n",
       " 'spend': 676,\n",
       " 'lose': 677,\n",
       " 'materi': 678,\n",
       " 'color': 679,\n",
       " 'chase': 680,\n",
       " 'mari': 681,\n",
       " 'storylin': 682,\n",
       " 'forget': 683,\n",
       " 'bunch': 684,\n",
       " 'clear': 685,\n",
       " 'lee': 686,\n",
       " 'victim': 687,\n",
       " 'nearli': 688,\n",
       " 'box': 689,\n",
       " 'york': 690,\n",
       " 'inspir': 691,\n",
       " 'match': 692,\n",
       " 'mess': 693,\n",
       " 'finish': 694,\n",
       " 'standard': 695,\n",
       " 'easi': 696,\n",
       " 'truth': 697,\n",
       " 'suffer': 698,\n",
       " 'busi': 699,\n",
       " 'bill': 700,\n",
       " 'dramat': 701,\n",
       " 'space': 702,\n",
       " 'western': 703,\n",
       " 'e': 704,\n",
       " 'list': 705,\n",
       " 'battl': 706,\n",
       " 'notic': 707,\n",
       " 'de': 708,\n",
       " 'french': 709,\n",
       " 'ad': 710,\n",
       " '9': 711,\n",
       " 'tom': 712,\n",
       " 'larg': 713,\n",
       " 'among': 714,\n",
       " 'eventu': 715,\n",
       " 'train': 716,\n",
       " 'accept': 717,\n",
       " 'agre': 718,\n",
       " 'soundtrack': 719,\n",
       " 'spirit': 720,\n",
       " 'third': 721,\n",
       " 'teenag': 722,\n",
       " 'adventur': 723,\n",
       " 'soldier': 724,\n",
       " 'sorri': 725,\n",
       " 'famou': 726,\n",
       " 'suggest': 727,\n",
       " 'drug': 728,\n",
       " 'cri': 729,\n",
       " 'normal': 730,\n",
       " 'babi': 731,\n",
       " 'troubl': 732,\n",
       " 'ultim': 733,\n",
       " 'contain': 734,\n",
       " 'certain': 735,\n",
       " 'cultur': 736,\n",
       " 'romanc': 737,\n",
       " 'rare': 738,\n",
       " 'lame': 739,\n",
       " 'somehow': 740,\n",
       " 'mix': 741,\n",
       " 'disney': 742,\n",
       " 'gone': 743,\n",
       " 'cartoon': 744,\n",
       " 'student': 745,\n",
       " 'fear': 746,\n",
       " 'reveal': 747,\n",
       " 'suck': 748,\n",
       " 'kept': 749,\n",
       " 'attract': 750,\n",
       " 'appeal': 751,\n",
       " 'premis': 752,\n",
       " 'design': 753,\n",
       " 'greatest': 754,\n",
       " 'secret': 755,\n",
       " 'shame': 756,\n",
       " 'throw': 757,\n",
       " 'scare': 758,\n",
       " 'copi': 759,\n",
       " 'wit': 760,\n",
       " 'admit': 761,\n",
       " 'america': 762,\n",
       " 'relat': 763,\n",
       " 'brought': 764,\n",
       " 'particular': 765,\n",
       " 'screenplay': 766,\n",
       " 'whatev': 767,\n",
       " 'pure': 768,\n",
       " '70': 769,\n",
       " 'averag': 770,\n",
       " 'harri': 771,\n",
       " 'master': 772,\n",
       " 'describ': 773,\n",
       " 'treat': 774,\n",
       " 'male': 775,\n",
       " '20': 776,\n",
       " 'issu': 777,\n",
       " 'fantasi': 778,\n",
       " 'warn': 779,\n",
       " 'inde': 780,\n",
       " 'background': 781,\n",
       " 'forward': 782,\n",
       " 'free': 783,\n",
       " 'project': 784,\n",
       " 'memor': 785,\n",
       " 'japanes': 786,\n",
       " 'poorli': 787,\n",
       " 'award': 788,\n",
       " 'locat': 789,\n",
       " 'potenti': 790,\n",
       " 'amus': 791,\n",
       " 'struggl': 792,\n",
       " 'magic': 793,\n",
       " 'weird': 794,\n",
       " 'societi': 795,\n",
       " 'okay': 796,\n",
       " 'imdb': 797,\n",
       " 'doctor': 798,\n",
       " 'accent': 799,\n",
       " 'hot': 800,\n",
       " 'water': 801,\n",
       " 'alien': 802,\n",
       " '30': 803,\n",
       " 'dr': 804,\n",
       " 'express': 805,\n",
       " 'odd': 806,\n",
       " 'choic': 807,\n",
       " 'crazi': 808,\n",
       " 'fiction': 809,\n",
       " 'studio': 810,\n",
       " 'becam': 811,\n",
       " 'control': 812,\n",
       " 'masterpiec': 813,\n",
       " 'difficult': 814,\n",
       " 'fli': 815,\n",
       " 'joe': 816,\n",
       " 'scream': 817,\n",
       " 'costum': 818,\n",
       " 'lover': 819,\n",
       " 'refer': 820,\n",
       " 'uniqu': 821,\n",
       " 'remak': 822,\n",
       " 'girlfriend': 823,\n",
       " 'vampir': 824,\n",
       " 'prison': 825,\n",
       " 'execut': 826,\n",
       " 'wear': 827,\n",
       " 'jump': 828,\n",
       " 'wood': 829,\n",
       " 'unless': 830,\n",
       " 'creepi': 831,\n",
       " 'cheesi': 832,\n",
       " 'superb': 833,\n",
       " 'otherwis': 834,\n",
       " 'parti': 835,\n",
       " 'roll': 836,\n",
       " 'ghost': 837,\n",
       " 'mad': 838,\n",
       " 'public': 839,\n",
       " 'depict': 840,\n",
       " 'jane': 841,\n",
       " 'week': 842,\n",
       " 'earlier': 843,\n",
       " 'badli': 844,\n",
       " 'moral': 845,\n",
       " 'fi': 846,\n",
       " 'dumb': 847,\n",
       " 'grow': 848,\n",
       " 'flaw': 849,\n",
       " 'sci': 850,\n",
       " 'deep': 851,\n",
       " 'maker': 852,\n",
       " 'cat': 853,\n",
       " 'connect': 854,\n",
       " 'older': 855,\n",
       " 'footag': 856,\n",
       " 'plenti': 857,\n",
       " 'bother': 858,\n",
       " 'outsid': 859,\n",
       " 'stick': 860,\n",
       " 'gay': 861,\n",
       " 'catch': 862,\n",
       " 'co': 863,\n",
       " 'plu': 864,\n",
       " 'popular': 865,\n",
       " 'equal': 866,\n",
       " 'social': 867,\n",
       " 'quickli': 868,\n",
       " 'disturb': 869,\n",
       " 'perfectli': 870,\n",
       " 'dress': 871,\n",
       " '90': 872,\n",
       " 'era': 873,\n",
       " 'mistak': 874,\n",
       " 'lie': 875,\n",
       " 'previou': 876,\n",
       " 'ride': 877,\n",
       " 'combin': 878,\n",
       " 'concept': 879,\n",
       " 'band': 880,\n",
       " 'rich': 881,\n",
       " 'answer': 882,\n",
       " 'surviv': 883,\n",
       " 'front': 884,\n",
       " 'sweet': 885,\n",
       " 'christma': 886,\n",
       " 'insid': 887,\n",
       " 'concern': 888,\n",
       " 'eat': 889,\n",
       " 'bare': 890,\n",
       " 'listen': 891,\n",
       " 'beat': 892,\n",
       " 'ben': 893,\n",
       " 'c': 894,\n",
       " 'serv': 895,\n",
       " 'term': 896,\n",
       " 'meant': 897,\n",
       " 'german': 898,\n",
       " 'la': 899,\n",
       " 'hardli': 900,\n",
       " 'stereotyp': 901,\n",
       " 'law': 902,\n",
       " 'innoc': 903,\n",
       " 'desper': 904,\n",
       " 'promis': 905,\n",
       " 'memori': 906,\n",
       " 'intent': 907,\n",
       " 'cute': 908,\n",
       " 'steal': 909,\n",
       " 'variou': 910,\n",
       " 'inform': 911,\n",
       " 'brain': 912,\n",
       " 'post': 913,\n",
       " 'tone': 914,\n",
       " 'island': 915,\n",
       " 'amount': 916,\n",
       " 'track': 917,\n",
       " 'compani': 918,\n",
       " 'nuditi': 919,\n",
       " 'store': 920,\n",
       " 'claim': 921,\n",
       " 'flat': 922,\n",
       " 'hair': 923,\n",
       " '50': 924,\n",
       " 'land': 925,\n",
       " 'univers': 926,\n",
       " 'fairli': 927,\n",
       " 'danger': 928,\n",
       " 'scott': 929,\n",
       " 'kick': 930,\n",
       " 'player': 931,\n",
       " 'crew': 932,\n",
       " 'step': 933,\n",
       " 'plain': 934,\n",
       " 'toni': 935,\n",
       " 'share': 936,\n",
       " 'tast': 937,\n",
       " 'centuri': 938,\n",
       " 'achiev': 939,\n",
       " 'engag': 940,\n",
       " 'cold': 941,\n",
       " 'travel': 942,\n",
       " 'suit': 943,\n",
       " 'record': 944,\n",
       " 'rip': 945,\n",
       " 'manner': 946,\n",
       " 'sadli': 947,\n",
       " 'tension': 948,\n",
       " 'wrote': 949,\n",
       " 'spot': 950,\n",
       " 'intens': 951,\n",
       " 'fascin': 952,\n",
       " 'familiar': 953,\n",
       " 'remark': 954,\n",
       " 'burn': 955,\n",
       " 'depth': 956,\n",
       " 'destroy': 957,\n",
       " 'histor': 958,\n",
       " 'sleep': 959,\n",
       " 'purpos': 960,\n",
       " 'languag': 961,\n",
       " 'ignor': 962,\n",
       " 'ruin': 963,\n",
       " 'delight': 964,\n",
       " 'unbeliev': 965,\n",
       " 'italian': 966,\n",
       " 'soul': 967,\n",
       " 'collect': 968,\n",
       " 'abil': 969,\n",
       " 'clever': 970,\n",
       " 'detect': 971,\n",
       " 'violent': 972,\n",
       " 'rape': 973,\n",
       " 'reach': 974,\n",
       " 'door': 975,\n",
       " 'scienc': 976,\n",
       " 'liter': 977,\n",
       " 'trash': 978,\n",
       " 'commun': 979,\n",
       " 'caught': 980,\n",
       " 'reveng': 981,\n",
       " 'creatur': 982,\n",
       " 'trip': 983,\n",
       " 'approach': 984,\n",
       " 'intrigu': 985,\n",
       " 'fashion': 986,\n",
       " 'paint': 987,\n",
       " 'introduc': 988,\n",
       " 'skill': 989,\n",
       " 'channel': 990,\n",
       " 'complex': 991,\n",
       " 'camp': 992,\n",
       " 'christian': 993,\n",
       " 'hole': 994,\n",
       " 'extra': 995,\n",
       " 'immedi': 996,\n",
       " 'limit': 997,\n",
       " 'mental': 998,\n",
       " 'ann': 999,\n",
       " 'million': 1000,\n",
       " '6': 1001,\n",
       " ...}"
      ]
     },
     "execution_count": 17,
     "metadata": {},
     "output_type": "execute_result"
    }
   ],
   "source": [
    "word_dict = build_dict(train_X)\n",
    "word_dict"
   ]
  },
  {
   "cell_type": "code",
   "execution_count": 18,
   "metadata": {},
   "outputs": [
    {
     "name": "stdout",
     "output_type": "stream",
     "text": [
      "{'movi': 2, 'film': 3, 'one': 4, 'like': 5, 'time': 6, 'good': 7, 'make': 8, 'charact': 9, 'get': 10, 'see': 11, 'watch': 12, 'stori': 13, 'even': 14, 'would': 15, 'realli': 16, 'well': 17, 'scene': 18, 'look': 19, 'show': 20, 'much': 21, 'end': 22, 'peopl': 23, 'bad': 24, 'go': 25, 'great': 26, 'also': 27, 'first': 28, 'love': 29, 'think': 30, 'way': 31, 'act': 32, 'play': 33, 'made': 34, 'thing': 35, 'could': 36, 'know': 37, 'say': 38, 'seem': 39, 'work': 40, 'plot': 41, 'two': 42, 'actor': 43, 'year': 44, 'come': 45, 'mani': 46, 'seen': 47, 'take': 48, 'want': 49, 'life': 50, 'never': 51, 'littl': 52, 'best': 53, 'tri': 54, 'man': 55, 'ever': 56, 'give': 57, 'better': 58, 'still': 59, 'perform': 60, 'find': 61, 'feel': 62, 'part': 63, 'back': 64, 'use': 65, 'someth': 66, 'director': 67, 'actual': 68, 'interest': 69, 'lot': 70, 'real': 71, 'old': 72, 'cast': 73, 'though': 74, 'live': 75, 'star': 76, 'enjoy': 77, 'guy': 78, 'anoth': 79, 'new': 80, 'role': 81, 'noth': 82, '10': 83, 'funni': 84, 'music': 85, 'point': 86, 'start': 87, 'set': 88, 'girl': 89, 'origin': 90, 'day': 91, 'world': 92, 'everi': 93, 'believ': 94, 'turn': 95, 'quit': 96, 'direct': 97, 'us': 98, 'thought': 99, 'fact': 100, 'minut': 101, 'horror': 102, 'kill': 103, 'action': 104, 'comedi': 105, 'pretti': 106, 'young': 107, 'wonder': 108, 'happen': 109, 'around': 110, 'got': 111, 'effect': 112, 'right': 113, 'long': 114, 'howev': 115, 'big': 116, 'line': 117, 'famili': 118, 'enough': 119, 'seri': 120, 'may': 121, 'need': 122, 'fan': 123, 'bit': 124, 'script': 125, 'beauti': 126, 'person': 127, 'becom': 128, 'without': 129, 'must': 130, 'alway': 131, 'friend': 132, 'tell': 133, 'reason': 134, 'saw': 135, 'last': 136, 'final': 137, 'kid': 138, 'almost': 139, 'put': 140, 'least': 141, 'sure': 142, 'done': 143, 'whole': 144, 'place': 145, 'complet': 146, 'kind': 147, 'expect': 148, 'differ': 149, 'shot': 150, 'far': 151, 'mean': 152, 'anyth': 153, 'book': 154, 'laugh': 155, 'might': 156, 'name': 157, 'sinc': 158, 'begin': 159, '2': 160, 'probabl': 161, 'woman': 162, 'help': 163, 'entertain': 164, 'let': 165, 'screen': 166, 'call': 167, 'tv': 168, 'moment': 169, 'away': 170, 'read': 171, 'yet': 172, 'rather': 173, 'worst': 174, 'run': 175, 'fun': 176, 'lead': 177, 'hard': 178, 'audienc': 179, 'idea': 180, 'anyon': 181, 'episod': 182, 'american': 183, 'found': 184, 'appear': 185, 'bore': 186, 'especi': 187, 'although': 188, 'hope': 189, 'keep': 190, 'cours': 191, 'anim': 192, 'job': 193, 'goe': 194, 'move': 195, 'sens': 196, 'dvd': 197, 'version': 198, 'war': 199, 'money': 200, 'someon': 201, 'mind': 202, 'mayb': 203, 'problem': 204, 'true': 205, 'hous': 206, 'everyth': 207, 'nice': 208, 'second': 209, 'rate': 210, 'three': 211, 'night': 212, 'follow': 213, 'face': 214, 'recommend': 215, 'product': 216, 'main': 217, 'worth': 218, 'leav': 219, 'human': 220, 'special': 221, 'excel': 222, 'togeth': 223, 'wast': 224, 'everyon': 225, 'sound': 226, 'john': 227, 'hand': 228, '1': 229, 'father': 230, 'later': 231, 'eye': 232, 'said': 233, 'view': 234, 'instead': 235, 'review': 236, 'boy': 237, 'high': 238, 'hour': 239, 'miss': 240, 'classic': 241, 'talk': 242, 'wife': 243, 'understand': 244, 'left': 245, 'care': 246, 'black': 247, 'death': 248, 'open': 249, 'murder': 250, 'write': 251, 'half': 252, 'head': 253, 'rememb': 254, 'chang': 255, 'viewer': 256, 'fight': 257, 'gener': 258, 'surpris': 259, 'includ': 260, 'short': 261, 'die': 262, 'fall': 263, 'less': 264, 'els': 265, 'entir': 266, 'piec': 267, 'involv': 268, 'pictur': 269, 'simpli': 270, 'power': 271, 'home': 272, 'top': 273, 'total': 274, 'usual': 275, 'budget': 276, 'attempt': 277, 'suppos': 278, 'releas': 279, 'hollywood': 280, 'terribl': 281, 'song': 282, 'men': 283, 'possibl': 284, 'featur': 285, 'portray': 286, 'disappoint': 287, 'poor': 288, '3': 289, 'coupl': 290, 'camera': 291, 'stupid': 292, 'dead': 293, 'wrong': 294, 'low': 295, 'produc': 296, 'video': 297, 'either': 298, 'aw': 299, 'definit': 300, 'except': 301, 'rest': 302, 'given': 303, 'absolut': 304, 'women': 305, 'lack': 306, 'word': 307, 'writer': 308, 'titl': 309, 'talent': 310, 'decid': 311, 'full': 312, 'perfect': 313, 'along': 314, 'style': 315, 'close': 316, 'truli': 317, 'school': 318, 'save': 319, 'emot': 320, 'age': 321, 'sex': 322, 'next': 323, 'bring': 324, 'mr': 325, 'case': 326, 'killer': 327, 'heart': 328, 'comment': 329, 'sort': 330, 'creat': 331, 'perhap': 332, 'came': 333, 'brother': 334, 'sever': 335, 'joke': 336, 'art': 337, 'dialogu': 338, 'game': 339, 'small': 340, 'base': 341, 'flick': 342, 'written': 343, 'sequenc': 344, 'meet': 345, 'earli': 346, 'often': 347, 'other': 348, 'mother': 349, 'develop': 350, 'humor': 351, 'actress': 352, 'consid': 353, 'dark': 354, 'guess': 355, 'amaz': 356, 'unfortun': 357, 'lost': 358, 'light': 359, 'exampl': 360, 'cinema': 361, 'drama': 362, 'white': 363, 'ye': 364, 'experi': 365, 'imagin': 366, 'mention': 367, 'stop': 368, 'natur': 369, 'forc': 370, 'manag': 371, 'felt': 372, 'present': 373, 'cut': 374, 'children': 375, 'fail': 376, 'son': 377, 'support': 378, 'qualiti': 379, 'car': 380, 'ask': 381, 'hit': 382, 'side': 383, 'voic': 384, 'extrem': 385, 'impress': 386, 'evil': 387, 'wors': 388, 'stand': 389, 'went': 390, 'certainli': 391, 'basic': 392, 'oh': 393, 'overal': 394, 'favorit': 395, 'horribl': 396, 'mysteri': 397, 'number': 398, 'type': 399, 'danc': 400, 'wait': 401, 'hero': 402, 'alreadi': 403, '5': 404, 'learn': 405, 'matter': 406, '4': 407, 'michael': 408, 'genr': 409, 'fine': 410, 'despit': 411, 'throughout': 412, 'walk': 413, 'success': 414, 'histori': 415, 'question': 416, 'zombi': 417, 'town': 418, 'relationship': 419, 'realiz': 420, 'child': 421, 'past': 422, 'daughter': 423, 'late': 424, 'b': 425, 'wish': 426, 'hate': 427, 'credit': 428, 'event': 429, 'theme': 430, 'touch': 431, 'citi': 432, 'today': 433, 'sometim': 434, 'behind': 435, 'god': 436, 'twist': 437, 'sit': 438, 'deal': 439, 'stay': 440, 'annoy': 441, 'abl': 442, 'rent': 443, 'pleas': 444, 'edit': 445, 'blood': 446, 'deserv': 447, 'comic': 448, 'anyway': 449, 'appar': 450, 'soon': 451, 'gave': 452, 'etc': 453, 'level': 454, 'slow': 455, 'chanc': 456, 'score': 457, 'bodi': 458, 'brilliant': 459, 'incred': 460, 'figur': 461, 'situat': 462, 'self': 463, 'major': 464, 'stuff': 465, 'decent': 466, 'element': 467, 'return': 468, 'dream': 469, 'obvious': 470, 'continu': 471, 'order': 472, 'pace': 473, 'ridicul': 474, 'happi': 475, 'add': 476, 'group': 477, 'highli': 478, 'thank': 479, 'ladi': 480, 'novel': 481, 'pain': 482, 'speak': 483, 'career': 484, 'shoot': 485, 'strang': 486, 'heard': 487, 'sad': 488, 'husband': 489, 'polic': 490, 'import': 491, 'break': 492, 'took': 493, 'strong': 494, 'cannot': 495, 'predict': 496, 'robert': 497, 'violenc': 498, 'hilari': 499, 'recent': 500, 'countri': 501, 'known': 502, 'particularli': 503, 'pick': 504, 'documentari': 505, 'season': 506, 'critic': 507, 'jame': 508, 'compar': 509, 'obviou': 510, 'alon': 511, 'told': 512, 'state': 513, 'rock': 514, 'visual': 515, 'theater': 516, 'exist': 517, 'offer': 518, 'opinion': 519, 'gore': 520, 'hold': 521, 'crap': 522, 'result': 523, 'hear': 524, 'room': 525, 'realiti': 526, 'effort': 527, 'clich': 528, 'thriller': 529, 'caus': 530, 'sequel': 531, 'serious': 532, 'explain': 533, 'king': 534, 'local': 535, 'ago': 536, 'hell': 537, 'none': 538, 'note': 539, 'allow': 540, 'sister': 541, 'david': 542, 'simpl': 543, 'femal': 544, 'deliv': 545, 'ok': 546, 'convinc': 547, 'class': 548, 'check': 549, 'suspens': 550, 'win': 551, 'buy': 552, 'oscar': 553, 'huge': 554, 'valu': 555, 'sexual': 556, 'scari': 557, 'cool': 558, 'similar': 559, 'excit': 560, 'exactli': 561, 'provid': 562, 'apart': 563, 'shown': 564, 'avoid': 565, 'seriou': 566, 'english': 567, 'taken': 568, 'whose': 569, 'cinematographi': 570, 'shock': 571, 'polit': 572, 'spoiler': 573, 'offic': 574, 'across': 575, 'middl': 576, 'street': 577, 'pass': 578, 'messag': 579, 'silli': 580, 'somewhat': 581, 'charm': 582, 'modern': 583, 'confus': 584, 'filmmak': 585, 'form': 586, 'tale': 587, 'singl': 588, 'jack': 589, 'mostli': 590, 'carri': 591, 'attent': 592, 'william': 593, 'sing': 594, 'subject': 595, 'five': 596, 'richard': 597, 'prove': 598, 'stage': 599, 'team': 600, 'unlik': 601, 'cop': 602, 'georg': 603, 'monster': 604, 'televis': 605, 'earth': 606, 'villain': 607, 'cover': 608, 'pay': 609, 'marri': 610, 'toward': 611, 'build': 612, 'parent': 613, 'pull': 614, 'due': 615, 'respect': 616, 'fill': 617, 'dialog': 618, 'four': 619, 'remind': 620, 'futur': 621, 'typic': 622, 'weak': 623, '7': 624, 'cheap': 625, 'intellig': 626, 'british': 627, 'atmospher': 628, '80': 629, 'clearli': 630, 'dog': 631, 'non': 632, 'paul': 633, 'knew': 634, 'artist': 635, 'fast': 636, '8': 637, 'crime': 638, 'easili': 639, 'escap': 640, 'adult': 641, 'doubt': 642, 'detail': 643, 'date': 644, 'romant': 645, 'member': 646, 'fire': 647, 'gun': 648, 'drive': 649, 'straight': 650, 'fit': 651, 'beyond': 652, 'attack': 653, 'imag': 654, 'upon': 655, 'posit': 656, 'whether': 657, 'fantast': 658, 'peter': 659, 'appreci': 660, 'aspect': 661, 'captur': 662, 'ten': 663, 'plan': 664, 'discov': 665, 'remain': 666, 'near': 667, 'period': 668, 'realist': 669, 'air': 670, 'mark': 671, 'red': 672, 'dull': 673, 'adapt': 674, 'within': 675, 'spend': 676, 'lose': 677, 'materi': 678, 'color': 679, 'chase': 680, 'mari': 681, 'storylin': 682, 'forget': 683, 'bunch': 684, 'clear': 685, 'lee': 686, 'victim': 687, 'nearli': 688, 'box': 689, 'york': 690, 'inspir': 691, 'match': 692, 'mess': 693, 'finish': 694, 'standard': 695, 'easi': 696, 'truth': 697, 'suffer': 698, 'busi': 699, 'bill': 700, 'dramat': 701, 'space': 702, 'western': 703, 'e': 704, 'list': 705, 'battl': 706, 'notic': 707, 'de': 708, 'french': 709, 'ad': 710, '9': 711, 'tom': 712, 'larg': 713, 'among': 714, 'eventu': 715, 'train': 716, 'accept': 717, 'agre': 718, 'soundtrack': 719, 'spirit': 720, 'third': 721, 'teenag': 722, 'adventur': 723, 'soldier': 724, 'sorri': 725, 'famou': 726, 'suggest': 727, 'drug': 728, 'cri': 729, 'normal': 730, 'babi': 731, 'troubl': 732, 'ultim': 733, 'contain': 734, 'certain': 735, 'cultur': 736, 'romanc': 737, 'rare': 738, 'lame': 739, 'somehow': 740, 'mix': 741, 'disney': 742, 'gone': 743, 'cartoon': 744, 'student': 745, 'fear': 746, 'reveal': 747, 'suck': 748, 'kept': 749, 'attract': 750, 'appeal': 751, 'premis': 752, 'design': 753, 'greatest': 754, 'secret': 755, 'shame': 756, 'throw': 757, 'scare': 758, 'copi': 759, 'wit': 760, 'admit': 761, 'america': 762, 'relat': 763, 'brought': 764, 'particular': 765, 'screenplay': 766, 'whatev': 767, 'pure': 768, '70': 769, 'averag': 770, 'harri': 771, 'master': 772, 'describ': 773, 'treat': 774, 'male': 775, '20': 776, 'issu': 777, 'fantasi': 778, 'warn': 779, 'inde': 780, 'background': 781, 'forward': 782, 'free': 783, 'project': 784, 'memor': 785, 'japanes': 786, 'poorli': 787, 'award': 788, 'locat': 789, 'potenti': 790, 'amus': 791, 'struggl': 792, 'magic': 793, 'weird': 794, 'societi': 795, 'okay': 796, 'imdb': 797, 'doctor': 798, 'accent': 799, 'hot': 800, 'water': 801, 'alien': 802, '30': 803, 'dr': 804, 'express': 805, 'odd': 806, 'choic': 807, 'crazi': 808, 'fiction': 809, 'studio': 810, 'becam': 811, 'control': 812, 'masterpiec': 813, 'difficult': 814, 'fli': 815, 'joe': 816, 'scream': 817, 'costum': 818, 'lover': 819, 'refer': 820, 'uniqu': 821, 'remak': 822, 'girlfriend': 823, 'vampir': 824, 'prison': 825, 'execut': 826, 'wear': 827, 'jump': 828, 'wood': 829, 'unless': 830, 'creepi': 831, 'cheesi': 832, 'superb': 833, 'otherwis': 834, 'parti': 835, 'roll': 836, 'ghost': 837, 'mad': 838, 'public': 839, 'depict': 840, 'jane': 841, 'week': 842, 'earlier': 843, 'badli': 844, 'moral': 845, 'fi': 846, 'dumb': 847, 'grow': 848, 'flaw': 849, 'sci': 850, 'deep': 851, 'maker': 852, 'cat': 853, 'connect': 854, 'older': 855, 'footag': 856, 'plenti': 857, 'bother': 858, 'outsid': 859, 'stick': 860, 'gay': 861, 'catch': 862, 'co': 863, 'plu': 864, 'popular': 865, 'equal': 866, 'social': 867, 'quickli': 868, 'disturb': 869, 'perfectli': 870, 'dress': 871, '90': 872, 'era': 873, 'mistak': 874, 'lie': 875, 'previou': 876, 'ride': 877, 'combin': 878, 'concept': 879, 'band': 880, 'rich': 881, 'answer': 882, 'surviv': 883, 'front': 884, 'sweet': 885, 'christma': 886, 'insid': 887, 'concern': 888, 'eat': 889, 'bare': 890, 'listen': 891, 'beat': 892, 'ben': 893, 'c': 894, 'serv': 895, 'term': 896, 'meant': 897, 'german': 898, 'la': 899, 'hardli': 900, 'stereotyp': 901, 'law': 902, 'innoc': 903, 'desper': 904, 'promis': 905, 'memori': 906, 'intent': 907, 'cute': 908, 'steal': 909, 'variou': 910, 'inform': 911, 'brain': 912, 'post': 913, 'tone': 914, 'island': 915, 'amount': 916, 'track': 917, 'compani': 918, 'nuditi': 919, 'store': 920, 'claim': 921, 'flat': 922, 'hair': 923, '50': 924, 'land': 925, 'univers': 926, 'fairli': 927, 'danger': 928, 'scott': 929, 'kick': 930, 'player': 931, 'crew': 932, 'step': 933, 'plain': 934, 'toni': 935, 'share': 936, 'tast': 937, 'centuri': 938, 'achiev': 939, 'engag': 940, 'cold': 941, 'travel': 942, 'suit': 943, 'record': 944, 'rip': 945, 'manner': 946, 'sadli': 947, 'tension': 948, 'wrote': 949, 'spot': 950, 'intens': 951, 'fascin': 952, 'familiar': 953, 'remark': 954, 'burn': 955, 'depth': 956, 'destroy': 957, 'histor': 958, 'sleep': 959, 'purpos': 960, 'languag': 961, 'ignor': 962, 'ruin': 963, 'delight': 964, 'unbeliev': 965, 'italian': 966, 'soul': 967, 'collect': 968, 'abil': 969, 'clever': 970, 'detect': 971, 'violent': 972, 'rape': 973, 'reach': 974, 'door': 975, 'scienc': 976, 'liter': 977, 'trash': 978, 'commun': 979, 'caught': 980, 'reveng': 981, 'creatur': 982, 'trip': 983, 'approach': 984, 'intrigu': 985, 'fashion': 986, 'paint': 987, 'introduc': 988, 'skill': 989, 'channel': 990, 'complex': 991, 'camp': 992, 'christian': 993, 'hole': 994, 'extra': 995, 'immedi': 996, 'limit': 997, 'mental': 998, 'ann': 999, 'million': 1000, '6': 1001, 'slightli': 1002, 'comput': 1003, 'mere': 1004, 'slasher': 1005, 'conclus': 1006, 'imposs': 1007, 'suddenli': 1008, 'crimin': 1009, 'neither': 1010, 'teen': 1011, 'physic': 1012, 'nation': 1013, 'spent': 1014, 'respons': 1015, 'planet': 1016, 'fake': 1017, 'receiv': 1018, 'blue': 1019, 'sick': 1020, 'bizarr': 1021, 'embarrass': 1022, 'indian': 1023, '15': 1024, 'ring': 1025, 'drop': 1026, 'pop': 1027, 'drag': 1028, 'haunt': 1029, 'suspect': 1030, 'pointless': 1031, 'edg': 1032, 'search': 1033, 'handl': 1034, 'common': 1035, 'biggest': 1036, 'arriv': 1037, 'faith': 1038, 'hurt': 1039, 'technic': 1040, 'angel': 1041, 'dad': 1042, 'genuin': 1043, 'f': 1044, 'solid': 1045, 'awesom': 1046, 'colleg': 1047, 'van': 1048, 'focu': 1049, 'former': 1050, 'count': 1051, 'tear': 1052, 'heavi': 1053, 'rais': 1054, 'wall': 1055, 'visit': 1056, 'laughabl': 1057, 'younger': 1058, 'excus': 1059, 'fair': 1060, 'sign': 1061, 'cult': 1062, 'tough': 1063, 'motion': 1064, 'key': 1065, 'desir': 1066, 'super': 1067, 'addit': 1068, 'stun': 1069, 'exploit': 1070, 'cloth': 1071, 'smith': 1072, 'tortur': 1073, 'davi': 1074, 'race': 1075, 'cross': 1076, 'author': 1077, 'jim': 1078, 'consist': 1079, 'compel': 1080, 'minor': 1081, 'focus': 1082, 'chemistri': 1083, 'pathet': 1084, 'commit': 1085, 'park': 1086, 'tradit': 1087, 'obsess': 1088, 'frank': 1089, 'grade': 1090, 'asid': 1091, '60': 1092, 'brutal': 1093, 'somewher': 1094, 'steve': 1095, 'depress': 1096, 'rule': 1097, 'opportun': 1098, 'explor': 1099, 'grant': 1100, 'u': 1101, 'besid': 1102, 'honest': 1103, 'dub': 1104, 'anti': 1105, 'intend': 1106, 'trailer': 1107, 'bar': 1108, 'scientist': 1109, 'longer': 1110, 'west': 1111, 'regard': 1112, 'judg': 1113, 'decad': 1114, 'silent': 1115, 'creativ': 1116, 'armi': 1117, 'wild': 1118, 'g': 1119, 'stewart': 1120, 'south': 1121, 'draw': 1122, 'road': 1123, 'govern': 1124, 'ex': 1125, 'boss': 1126, 'practic': 1127, 'club': 1128, 'festiv': 1129, 'motiv': 1130, 'surprisingli': 1131, 'gang': 1132, 'page': 1133, 'green': 1134, 'redeem': 1135, 'london': 1136, 'militari': 1137, 'aliv': 1138, 'machin': 1139, 'idiot': 1140, 'display': 1141, 'thrill': 1142, 'repeat': 1143, 'folk': 1144, 'yeah': 1145, '100': 1146, 'nobodi': 1147, '40': 1148, 'journey': 1149, 'garbag': 1150, 'ground': 1151, 'smile': 1152, 'tire': 1153, 'bought': 1154, 'mood': 1155, 'sam': 1156, 'stone': 1157, 'cost': 1158, 'noir': 1159, 'mouth': 1160, 'terrif': 1161, 'agent': 1162, 'utterli': 1163, 'requir': 1164, 'honestli': 1165, 'area': 1166, 'sexi': 1167, 'report': 1168, 'geniu': 1169, 'humour': 1170, 'investig': 1171, 'glad': 1172, 'enter': 1173, 'serial': 1174, 'passion': 1175, 'narr': 1176, 'occasion': 1177, 'marriag': 1178, 'climax': 1179, 'studi': 1180, 'industri': 1181, 'center': 1182, 'ship': 1183, 'nowher': 1184, 'demon': 1185, 'charli': 1186, 'loos': 1187, 'bear': 1188, 'hors': 1189, 'wow': 1190, 'hang': 1191, 'graphic': 1192, 'admir': 1193, 'giant': 1194, 'send': 1195, 'damn': 1196, 'loud': 1197, 'rel': 1198, 'subtl': 1199, 'profession': 1200, 'nake': 1201, 'blow': 1202, 'bottom': 1203, 'insult': 1204, 'batman': 1205, 'r': 1206, 'kelli': 1207, 'boyfriend': 1208, 'doubl': 1209, 'initi': 1210, 'frame': 1211, 'gem': 1212, 'opera': 1213, 'cinemat': 1214, 'affect': 1215, 'challeng': 1216, 'drawn': 1217, 'church': 1218, 'j': 1219, 'seek': 1220, 'fulli': 1221, 'evid': 1222, 'l': 1223, 'nightmar': 1224, 'conflict': 1225, 'arm': 1226, 'essenti': 1227, 'grace': 1228, 'wind': 1229, 'christoph': 1230, 'henri': 1231, 'narrat': 1232, 'witch': 1233, 'assum': 1234, 'push': 1235, 'hunt': 1236, 'chri': 1237, 'wise': 1238, 'repres': 1239, 'month': 1240, 'nomin': 1241, 'hide': 1242, 'avail': 1243, 'sceneri': 1244, 'affair': 1245, 'thu': 1246, 'smart': 1247, 'bond': 1248, 'justic': 1249, 'interview': 1250, 'flashback': 1251, 'outstand': 1252, 'presenc': 1253, 'satisfi': 1254, 'constantli': 1255, 'bed': 1256, 'central': 1257, 'content': 1258, 'iron': 1259, 'sell': 1260, 'gag': 1261, 'everybodi': 1262, 'slowli': 1263, 'hotel': 1264, 'hire': 1265, 'system': 1266, 'charl': 1267, 'hey': 1268, 'adam': 1269, 'individu': 1270, 'thrown': 1271, 'mediocr': 1272, 'jone': 1273, 'allen': 1274, 'billi': 1275, 'lesson': 1276, 'ray': 1277, 'photographi': 1278, 'cameo': 1279, 'fellow': 1280, 'pari': 1281, 'strike': 1282, 'brief': 1283, 'independ': 1284, 'rise': 1285, 'absurd': 1286, 'neg': 1287, 'impact': 1288, 'phone': 1289, 'born': 1290, 'ill': 1291, 'model': 1292, 'angl': 1293, 'fresh': 1294, 'spoil': 1295, 'abus': 1296, 'likabl': 1297, 'discuss': 1298, 'hill': 1299, 'sight': 1300, 'ahead': 1301, 'sent': 1302, 'photograph': 1303, 'blame': 1304, 'shine': 1305, 'logic': 1306, 'occur': 1307, 'mainli': 1308, 'bruce': 1309, 'skip': 1310, 'forev': 1311, 'commerci': 1312, 'surround': 1313, 'teacher': 1314, 'segment': 1315, 'held': 1316, 'blond': 1317, 'zero': 1318, 'summer': 1319, 'satir': 1320, 'resembl': 1321, 'trap': 1322, 'fool': 1323, 'queen': 1324, 'ball': 1325, 'six': 1326, 'sub': 1327, 'twice': 1328, 'tragedi': 1329, 'reaction': 1330, 'pack': 1331, 'bomb': 1332, 'will': 1333, 'hospit': 1334, 'protagonist': 1335, 'sport': 1336, 'mile': 1337, 'mom': 1338, 'vote': 1339, 'jerri': 1340, 'trust': 1341, 'drink': 1342, 'encount': 1343, 'plane': 1344, 'station': 1345, 'current': 1346, 'al': 1347, 'program': 1348, 'choos': 1349, 'celebr': 1350, 'martin': 1351, 'join': 1352, 'field': 1353, 'favourit': 1354, 'tragic': 1355, 'lord': 1356, 'round': 1357, 'jean': 1358, 'vision': 1359, 'robot': 1360, 'tie': 1361, 'arthur': 1362, 'fortun': 1363, 'roger': 1364, 'random': 1365, 'psycholog': 1366, 'intern': 1367, 'dread': 1368, 'nonsens': 1369, 'epic': 1370, 'prefer': 1371, 'improv': 1372, 'highlight': 1373, 'pleasur': 1374, 'formula': 1375, 'legend': 1376, 'dollar': 1377, '11': 1378, 'tape': 1379, 'fox': 1380, 'thin': 1381, 'wide': 1382, 'object': 1383, 'porn': 1384, 'gorgeou': 1385, 'buddi': 1386, 'influenc': 1387, 'ugli': 1388, 'nasti': 1389, 'prepar': 1390, 'ii': 1391, 'progress': 1392, 'warm': 1393, 'reflect': 1394, 'supposedli': 1395, 'worthi': 1396, 'youth': 1397, 'length': 1398, 'latter': 1399, 'unusu': 1400, 'crash': 1401, 'childhood': 1402, 'superior': 1403, 'seven': 1404, 'shop': 1405, 'remot': 1406, 'theatr': 1407, 'pilot': 1408, 'paid': 1409, 'funniest': 1410, 'disgust': 1411, 'convers': 1412, 'fell': 1413, 'trick': 1414, 'castl': 1415, 'disast': 1416, 'establish': 1417, 'gangster': 1418, 'rob': 1419, 'heaven': 1420, 'disappear': 1421, 'mine': 1422, 'ident': 1423, 'suicid': 1424, 'heroin': 1425, 'mask': 1426, 'forgotten': 1427, 'decis': 1428, 'tend': 1429, 'singer': 1430, 'partner': 1431, 'brian': 1432, 'recogn': 1433, 'alan': 1434, 'desert': 1435, 'stuck': 1436, 'sky': 1437, 'ms': 1438, 'thoroughli': 1439, 'p': 1440, 'replac': 1441, 'accur': 1442, 'market': 1443, 'seemingli': 1444, 'commentari': 1445, 'clue': 1446, 'eddi': 1447, 'uncl': 1448, 'andi': 1449, 'danni': 1450, 'jackson': 1451, 'devil': 1452, 'pair': 1453, 'therefor': 1454, 'refus': 1455, 'that': 1456, 'accid': 1457, 'fault': 1458, 'ed': 1459, 'river': 1460, 'unit': 1461, 'fate': 1462, 'afraid': 1463, 'tune': 1464, 'stephen': 1465, 'hidden': 1466, 'clean': 1467, 'russian': 1468, 'irrit': 1469, 'readi': 1470, 'quick': 1471, 'instanc': 1472, 'captain': 1473, 'test': 1474, 'convey': 1475, 'european': 1476, 'frustrat': 1477, 'insan': 1478, 'daniel': 1479, 'wed': 1480, 'chines': 1481, '1950': 1482, 'rescu': 1483, 'food': 1484, 'angri': 1485, 'dirti': 1486, 'lock': 1487, 'joy': 1488, 'price': 1489, 'steven': 1490, 'bland': 1491, 'cage': 1492, 'anymor': 1493, 'rang': 1494, 'wooden': 1495, 'jason': 1496, 'news': 1497, 'n': 1498, 'rush': 1499, 'twenti': 1500, 'board': 1501, '12': 1502, 'martial': 1503, 'led': 1504, 'worri': 1505, 'hunter': 1506, 'cgi': 1507, 'transform': 1508, 'symbol': 1509, 'johnni': 1510, 'sentiment': 1511, 'piti': 1512, 'x': 1513, 'onto': 1514, 'invent': 1515, 'process': 1516, 'attitud': 1517, 'explan': 1518, 'owner': 1519, 'awar': 1520, 'aim': 1521, 'favor': 1522, 'target': 1523, 'floor': 1524, 'necessari': 1525, 'energi': 1526, 'religi': 1527, 'opposit': 1528, 'insight': 1529, 'window': 1530, 'blind': 1531, 'chick': 1532, 'movement': 1533, 'possess': 1534, 'research': 1535, 'deepli': 1536, 'comparison': 1537, 'mountain': 1538, 'comed': 1539, 'whatsoev': 1540, 'grand': 1541, 'rain': 1542, 'began': 1543, 'shadow': 1544, 'mid': 1545, 'bank': 1546, 'parodi': 1547, 'princ': 1548, 'pre': 1549, 'friendship': 1550, 'credibl': 1551, 'taylor': 1552, 'weapon': 1553, 'dougla': 1554, 'flesh': 1555, 'teach': 1556, 'terror': 1557, 'bloodi': 1558, 'hint': 1559, 'protect': 1560, 'marvel': 1561, 'accord': 1562, 'anybodi': 1563, 'load': 1564, 'drunk': 1565, 'leader': 1566, 'watchabl': 1567, 'superman': 1568, 'freddi': 1569, 'brown': 1570, 'appropri': 1571, 'seat': 1572, 'hitler': 1573, 'tim': 1574, 'jeff': 1575, 'knock': 1576, 'unknown': 1577, 'charg': 1578, 'villag': 1579, 'keaton': 1580, 'england': 1581, 'media': 1582, 'enemi': 1583, 'unnecessari': 1584, 'empti': 1585, 'utter': 1586, 'perspect': 1587, 'wave': 1588, 'strength': 1589, 'craft': 1590, 'dare': 1591, 'buck': 1592, 'kiss': 1593, 'correct': 1594, 'ford': 1595, 'contrast': 1596, 'nativ': 1597, 'knowledg': 1598, 'soap': 1599, 'anywher': 1600, 'magnific': 1601, 'distract': 1602, 'speed': 1603, 'chill': 1604, 'nazi': 1605, 'ice': 1606, 'breath': 1607, 'fred': 1608, 'mission': 1609, '1980': 1610, 'joan': 1611, 'moon': 1612, 'jr': 1613, 'crowd': 1614, 'soft': 1615, 'kate': 1616, 'frighten': 1617, '000': 1618, 'hundr': 1619, 'dan': 1620, 'dick': 1621, 'nick': 1622, 'dozen': 1623, 'radio': 1624, 'simon': 1625, 'somebodi': 1626, 'andrew': 1627, 'thousand': 1628, 'loss': 1629, 'shakespear': 1630, 'academi': 1631, 'quot': 1632, 'vehicl': 1633, 'sum': 1634, 'account': 1635, 'root': 1636, 'leg': 1637, 'behavior': 1638, '1970': 1639, 'convent': 1640, 'regular': 1641, 'gold': 1642, 'pretenti': 1643, 'demand': 1644, 'compet': 1645, 'worker': 1646, 'candi': 1647, 'notabl': 1648, 'interpret': 1649, 'stretch': 1650, 'japan': 1651, 'privat': 1652, 'explos': 1653, 'lynch': 1654, 'tarzan': 1655, 'constant': 1656, 'debut': 1657, 'revolv': 1658, 'sea': 1659, 'translat': 1660, 'spi': 1661, 'prais': 1662, 'sat': 1663, 'failur': 1664, 'franc': 1665, 'threaten': 1666, 'technolog': 1667, 'ass': 1668, 'jesu': 1669, 'quiet': 1670, 'higher': 1671, 'punch': 1672, 'aid': 1673, 'kevin': 1674, 'toy': 1675, 'met': 1676, 'mike': 1677, 'abandon': 1678, 'interact': 1679, 'vh': 1680, 'command': 1681, 'confront': 1682, 'bet': 1683, 'separ': 1684, 'recal': 1685, 'servic': 1686, 'belong': 1687, 'techniqu': 1688, 'stunt': 1689, 'gotten': 1690, 'site': 1691, 'freak': 1692, 'foot': 1693, 'cabl': 1694, 'bug': 1695, 'jimmi': 1696, 'fu': 1697, 'african': 1698, 'capabl': 1699, 'bright': 1700, 'presid': 1701, 'stock': 1702, 'boat': 1703, 'fat': 1704, 'succeed': 1705, 'clark': 1706, 'spanish': 1707, 'structur': 1708, 'gene': 1709, 'kidnap': 1710, 'paper': 1711, 'whilst': 1712, 'factor': 1713, 'belief': 1714, 'complic': 1715, 'witti': 1716, 'tree': 1717, 'realism': 1718, 'attend': 1719, 'educ': 1720, 'realis': 1721, 'bob': 1722, 'broken': 1723, 'assist': 1724, 'santa': 1725, 'finest': 1726, 'up': 1727, 'depart': 1728, 'observ': 1729, 'smoke': 1730, 'determin': 1731, 'v': 1732, 'fame': 1733, 'lewi': 1734, 'hat': 1735, 'rubbish': 1736, 'domin': 1737, 'routin': 1738, 'oper': 1739, 'foreign': 1740, 'lone': 1741, 'kinda': 1742, 'hook': 1743, 'morgan': 1744, 'safe': 1745, 'advanc': 1746, 'rank': 1747, 'numer': 1748, 'shallow': 1749, 'civil': 1750, 'werewolf': 1751, 'rose': 1752, 'vs': 1753, 'washington': 1754, 'shape': 1755, 'morn': 1756, 'gari': 1757, 'accomplish': 1758, 'winner': 1759, 'ordinari': 1760, 'kong': 1761, 'virtual': 1762, 'peac': 1763, 'grab': 1764, 'whenev': 1765, 'luck': 1766, 'h': 1767, 'offens': 1768, 'welcom': 1769, 'contriv': 1770, 'unfunni': 1771, 'complain': 1772, 'bigger': 1773, 'activ': 1774, 'patient': 1775, 'pretend': 1776, 'trek': 1777, 'dimension': 1778, 'con': 1779, 'cain': 1780, 'wake': 1781, 'flash': 1782, 'code': 1783, 'lesbian': 1784, 'eric': 1785, 'dri': 1786, 'manipul': 1787, 'guard': 1788, 'dancer': 1789, 'corrupt': 1790, 'albert': 1791, 'statu': 1792, 'signific': 1793, 'awkward': 1794, 'speech': 1795, 'sourc': 1796, 'context': 1797, 'gain': 1798, 'anthoni': 1799, 'clip': 1800, '13': 1801, 'psycho': 1802, 'sean': 1803, 'corni': 1804, 'reli': 1805, 'advic': 1806, 'theatric': 1807, 'w': 1808, 'priest': 1809, 'curiou': 1810, 'religion': 1811, 'addict': 1812, 'flow': 1813, 'secur': 1814, 'skin': 1815, 'jennif': 1816, 'asian': 1817, 'howard': 1818, 'specif': 1819, 'golden': 1820, 'comfort': 1821, 'core': 1822, 'organ': 1823, 'promot': 1824, 'luke': 1825, 'lucki': 1826, 'cheat': 1827, 'cash': 1828, 'associ': 1829, 'lower': 1830, 'dislik': 1831, 'contribut': 1832, 'frequent': 1833, 'spell': 1834, 'regret': 1835, 'wing': 1836, 'degre': 1837, 'devic': 1838, 'balanc': 1839, 'frankli': 1840, 'sake': 1841, 'print': 1842, 'forgiv': 1843, 'lake': 1844, 'thoma': 1845, 'mass': 1846, 'betti': 1847, 'gordon': 1848, 'unexpect': 1849, 'crack': 1850, 'depend': 1851, 'construct': 1852, 'amateur': 1853, 'unfold': 1854, 'categori': 1855, 'grown': 1856, 'invit': 1857, 'grew': 1858, 'intellectu': 1859, 'anna': 1860, 'condit': 1861, 'walter': 1862, 'matur': 1863, 'honor': 1864, 'spectacular': 1865, 'mirror': 1866, 'sudden': 1867, 'veteran': 1868, 'sole': 1869, 'freedom': 1870, 'grip': 1871, 'overli': 1872, 'demonstr': 1873, 'gift': 1874, 'experienc': 1875, 'card': 1876, 'meanwhil': 1877, 'liner': 1878, 'robin': 1879, 'circumst': 1880, 'sheriff': 1881, 'subtitl': 1882, 'brilliantli': 1883, 'crappi': 1884, 'drew': 1885, 'oliv': 1886, 'colour': 1887, 'theori': 1888, 'unabl': 1889, 'section': 1890, 'sheer': 1891, 'matt': 1892, 'altern': 1893, 'cook': 1894, 'pile': 1895, 'path': 1896, 'laughter': 1897, 'parker': 1898, 'defin': 1899, 'wander': 1900, 'sinatra': 1901, 'accident': 1902, 'relief': 1903, 'hall': 1904, 'lawyer': 1905, 'treatment': 1906, 'hank': 1907, 'captiv': 1908, 'dragon': 1909, 'halloween': 1910, 'gratuit': 1911, 'moor': 1912, 'broadway': 1913, 'unintent': 1914, 'kung': 1915, 'jacki': 1916, 'barbara': 1917, 'wound': 1918, 'k': 1919, 'wayn': 1920, 'cowboy': 1921, 'surreal': 1922, 'spoof': 1923, 'canadian': 1924, 'statement': 1925, 'winter': 1926, 'cheer': 1927, 'compos': 1928, 'fare': 1929, 'fish': 1930, 'treasur': 1931, 'gonna': 1932, 'unrealist': 1933, 'emerg': 1934, 'sensit': 1935, 'victor': 1936, 'woodi': 1937, 'neighbor': 1938, 'driven': 1939, 'sympathet': 1940, 'ran': 1941, 'overlook': 1942, 'expos': 1943, 'topic': 1944, 'authent': 1945, 'menac': 1946, 'glass': 1947, 'chief': 1948, 'handsom': 1949, 'gross': 1950, 'michel': 1951, 'ancient': 1952, 'feet': 1953, 'cinderella': 1954, 'russel': 1955, 'pleasant': 1956, 'built': 1957, 'comedian': 1958, 'stranger': 1959, 'network': 1960, 'contemporari': 1961, 'nevertheless': 1962, 'blockbust': 1963, 'letter': 1964, 'gori': 1965, 'underr': 1966, 'consider': 1967, 'miser': 1968, 'endless': 1969, 'earn': 1970, 'solv': 1971, 'brook': 1972, 'switch': 1973, 'virgin': 1974, 'joseph': 1975, 'bullet': 1976, 'convict': 1977, 'edward': 1978, 'victoria': 1979, 'chosen': 1980, 'scenario': 1981, 'scale': 1982, '0': 1983, 'cynic': 1984, 'alex': 1985, 'gut': 1986, 'curs': 1987, 'sword': 1988, 'com': 1989, 'outrag': 1990, 'juli': 1991, 'screenwrit': 1992, 'proper': 1993, 'uk': 1994, 'driver': 1995, 'monkey': 1996, 'wrap': 1997, 'substanc': 1998, 'indic': 1999, 'par': 2000, 'court': 2001, 'remov': 2002, 'bird': 2003, 'grave': 2004, 'rental': 2005, 'inevit': 2006, 'advertis': 2007, 'loser': 2008, 'consequ': 2009, 'naiv': 2010, 'nanci': 2011, 'roy': 2012, 'brave': 2013, 'fatal': 2014, 'bridg': 2015, 'slap': 2016, 'germani': 2017, 'le': 2018, 'invis': 2019, 'ador': 2020, 'provok': 2021, 'anger': 2022, 'footbal': 2023, 'loui': 2024, 'alcohol': 2025, 'chan': 2026, 'anderson': 2027, 'ryan': 2028, 'stumbl': 2029, 'professor': 2030, 'willi': 2031, 'sharp': 2032, 'bat': 2033, 'assassin': 2034, 'australian': 2035, '1930': 2036, 'patrick': 2037, 'saturday': 2038, 'deni': 2039, 'eight': 2040, 'amateurish': 2041, 'strongli': 2042, 'heck': 2043, 'ape': 2044, 'liber': 2045, 'cell': 2046, 'refresh': 2047, 'lousi': 2048, 'trilog': 2049, 'sin': 2050, 'vagu': 2051, 'justifi': 2052, 'resid': 2053, 'san': 2054, 'defeat': 2055, 'creator': 2056, 'sympathi': 2057, 'terrifi': 2058, 'reput': 2059, 'indi': 2060, 'mini': 2061, 'tediou': 2062, 'task': 2063, 'endur': 2064, 'prevent': 2065, 'expert': 2066, 'tabl': 2067, 'imit': 2068, 'trial': 2069, 'employ': 2070, 'offend': 2071, 'rival': 2072, 'basebal': 2073, 'che': 2074, 'pitch': 2075, 'europ': 2076, 'fairi': 2077, 'beach': 2078, 'complaint': 2079, 'max': 2080, 'dig': 2081, 'weekend': 2082, 'murphi': 2083, 'risk': 2084, 'format': 2085, 'purchas': 2086, 'glimps': 2087, 'nois': 2088, 'titan': 2089, 'bite': 2090, 'reminisc': 2091, 'harsh': 2092, 'hype': 2093, 'tini': 2094, 'powel': 2095, 'fals': 2096, 'strip': 2097, 'north': 2098, 'asleep': 2099, '14': 2100, 'till': 2101, 'prime': 2102, 'revel': 2103, 'destruct': 2104, 'africa': 2105, 'texa': 2106, 'descript': 2107, 'arrest': 2108, 'uninterest': 2109, 'inner': 2110, 'surfac': 2111, 'sitcom': 2112, 'spin': 2113, 'excess': 2114, 'semi': 2115, 'dinosaur': 2116, 'makeup': 2117, 'maintain': 2118, 'twin': 2119, 'controversi': 2120, 'massiv': 2121, 'hitchcock': 2122, 'argu': 2123, 'stare': 2124, 'expens': 2125, 'insist': 2126, 'ideal': 2127, 'ludicr': 2128, 'kim': 2129, 'reject': 2130, 'melodrama': 2131, 'forest': 2132, 'atroci': 2133, 'subplot': 2134, 'ga': 2135, 'supernatur': 2136, 'columbo': 2137, 'nail': 2138, 'erot': 2139, 'ala': 2140, 'press': 2141, 'host': 2142, 'identifi': 2143, 'presum': 2144, 'notch': 2145, 'cant': 2146, 'dude': 2147, 'character': 2148, 'forgett': 2149, 'crude': 2150, 'closer': 2151, 'plagu': 2152, 'guest': 2153, 'method': 2154, 'foster': 2155, 'landscap': 2156, 'beast': 2157, 'princess': 2158, 'border': 2159, 'ear': 2160, 'lion': 2161, 'birth': 2162, 'urban': 2163, 'storytel': 2164, 'previous': 2165, 'aunt': 2166, 'accus': 2167, 'bound': 2168, 'damag': 2169, 'pacino': 2170, 'jungl': 2171, 'chose': 2172, 'thirti': 2173, 'emma': 2174, 'nude': 2175, 'guid': 2176, 'jess': 2177, 'doll': 2178, 'propaganda': 2179, 'mate': 2180, 'whoever': 2181, 'warrior': 2182, 'pet': 2183, '25': 2184, 'mainstream': 2185, 'friday': 2186, 'latest': 2187, 'exact': 2188, 'merit': 2189, 'size': 2190, 'poster': 2191, 'gritti': 2192, 'cooper': 2193, 'upset': 2194, 'deadli': 2195, 'blend': 2196, 'citizen': 2197, 'contest': 2198, '1990': 2199, 'wilson': 2200, 'popul': 2201, 'ton': 2202, 'rough': 2203, 'buff': 2204, 'sun': 2205, 'warner': 2206, 'corps': 2207, 'contact': 2208, 'settl': 2209, 'alic': 2210, 'select': 2211, 'metal': 2212, 'rat': 2213, 'widow': 2214, 'environ': 2215, 'bu': 2216, 'pitt': 2217, 'mgm': 2218, 'overcom': 2219, 'link': 2220, 'ted': 2221, 'lift': 2222, 'particip': 2223, 'revolut': 2224, 'guilti': 2225, 'exagger': 2226, 'corner': 2227, 'corpor': 2228, 'afternoon': 2229, 'accompani': 2230, 'prostitut': 2231, '1960': 2232, 'matrix': 2233, 'moron': 2234, 'johnson': 2235, 'sincer': 2236, 'instal': 2237, 'hood': 2238, 'doom': 2239, 'holm': 2240, 'leagu': 2241, 'multipl': 2242, 'clair': 2243, 'friendli': 2244, 'defend': 2245, 'blah': 2246, 'sunday': 2247, 'aka': 2248, 'hip': 2249, 'campi': 2250, 'examin': 2251, 'junk': 2252, 'grim': 2253, 'string': 2254, 'advis': 2255, 'lugosi': 2256, 'irish': 2257, 'varieti': 2258, 'icon': 2259, 'shake': 2260, 'tight': 2261, 'confid': 2262, 'rachel': 2263, 'pro': 2264, 'shut': 2265, 'medic': 2266, 'attach': 2267, 'mexican': 2268, 'sullivan': 2269, 'jaw': 2270, 'denni': 2271, 'directli': 2272, 'goal': 2273, 'dean': 2274, 'sentenc': 2275, 'truck': 2276, 'breast': 2277, 'duke': 2278, 'prior': 2279, 'terrorist': 2280, 'sarah': 2281, 'courag': 2282, 'legendari': 2283, 'vietnam': 2284, 'bourn': 2285, 'donald': 2286, 'nose': 2287, 'un': 2288, 'entri': 2289, 'behav': 2290, 'proceed': 2291, 'yell': 2292, 'split': 2293, 'hong': 2294, 'buri': 2295, 'everywher': 2296, 'crush': 2297, 'lifetim': 2298, 'confess': 2299, 'swim': 2300, 'forth': 2301, 'stolen': 2302, 'jerk': 2303, 'gather': 2304, 'borrow': 2305, 'unconvinc': 2306, 'concentr': 2307, 'california': 2308, 'spite': 2309, 'pan': 2310, 'turkey': 2311, 'lip': 2312, 'julia': 2313, 'deliveri': 2314, 'offici': 2315, 'reward': 2316, 'freeman': 2317, 'flight': 2318, 'china': 2319, 'downright': 2320, 'hoffman': 2321, 'proud': 2322, 'quest': 2323, 'jon': 2324, 'worthwhil': 2325, 'inept': 2326, 'encourag': 2327, 'fade': 2328, 'notori': 2329, 'betray': 2330, 'lazi': 2331, 'fabul': 2332, 'sir': 2333, 'jail': 2334, 'sink': 2335, 'teeth': 2336, 'storm': 2337, 'bell': 2338, 'susan': 2339, 'relev': 2340, 'cousin': 2341, 'bag': 2342, 'branagh': 2343, 'retard': 2344, 'shower': 2345, 'imageri': 2346, 'survivor': 2347, 'lisa': 2348, 'shark': 2349, 'mexico': 2350, 'trade': 2351, 'summari': 2352, 'alright': 2353, 'toler': 2354, 'quirki': 2355, 'facial': 2356, 'tremend': 2357, 'hugh': 2358, 'stab': 2359, 'bride': 2360, 'finger': 2361, 'pose': 2362, 'bitter': 2363, 'hyster': 2364, 'blown': 2365, 'von': 2366, 'ha': 2367, 'bone': 2368, 'larri': 2369, 'ned': 2370, 'address': 2371, 'scheme': 2372, 'afterward': 2373, 'christ': 2374, 'cruel': 2375, 'ron': 2376, 'swear': 2377, 'screw': 2378, 'pursu': 2379, 'feed': 2380, 'tour': 2381, 'thumb': 2382, 'traci': 2383, 'snake': 2384, 'beg': 2385, 'distinct': 2386, 'obscur': 2387, 'raw': 2388, 'occas': 2389, 'photo': 2390, 'mechan': 2391, 'stomach': 2392, 'chair': 2393, 'cabin': 2394, 'holiday': 2395, 'southern': 2396, 'heavili': 2397, 'gruesom': 2398, 'hardi': 2399, 'necessarili': 2400, 'sidney': 2401, 'resist': 2402, 'render': 2403, 'argument': 2404, 'chain': 2405, 'india': 2406, 'understood': 2407, 'racist': 2408, 'indulg': 2409, 'satan': 2410, 'philip': 2411, 'stalk': 2412, 'fourth': 2413, 'tongu': 2414, 'outfit': 2415, 'obnoxi': 2416, 'forgot': 2417, 'midnight': 2418, 'belov': 2419, 'pregnant': 2420, 'integr': 2421, 'lay': 2422, 'restor': 2423, 'magazin': 2424, 'garden': 2425, '17': 2426, 'ticket': 2427, 'slapstick': 2428, 'inhabit': 2429, 'carol': 2430, 'deeper': 2431, 'incid': 2432, 'shoe': 2433, 'devot': 2434, 'lincoln': 2435, 'brad': 2436, 'underground': 2437, 'guarante': 2438, 'benefit': 2439, 'maria': 2440, 'divorc': 2441, 'elizabeth': 2442, 'lili': 2443, 'anticip': 2444, 'disbelief': 2445, 'sandler': 2446, 'creation': 2447, 'amazingli': 2448, 'slave': 2449, 'mildli': 2450, 'explod': 2451, 'greater': 2452, 'princip': 2453, 'capit': 2454, 'bbc': 2455, 'cring': 2456, 'extraordinari': 2457, 'halfway': 2458, 'funnier': 2459, 'lesli': 2460, 'introduct': 2461, 'advantag': 2462, 'extent': 2463, 'wreck': 2464, 'transfer': 2465, 'overwhelm': 2466, 'tap': 2467, 'text': 2468, 'punish': 2469, 'enhanc': 2470, 'deliber': 2471, 'plant': 2472, 'horrif': 2473, 'lane': 2474, 'east': 2475, 'lo': 2476, 'jessica': 2477, 'dynam': 2478, 'preview': 2479, 'error': 2480, 'vacat': 2481, 'appli': 2482, 'homosexu': 2483, 'miller': 2484, 'basi': 2485, 'sophist': 2486, 'miscast': 2487, 'ensu': 2488, '2000': 2489, 'vincent': 2490, 'spoken': 2491, 'elev': 2492, 'uncomfort': 2493, 'reed': 2494, 'mansion': 2495, 'bollywood': 2496, 'sleazi': 2497, 'measur': 2498, 'via': 2499, 'extend': 2500, 'steel': 2501, 'goofi': 2502, 'melt': 2503, 'overact': 2504, 'alter': 2505, 'breathtak': 2506, 'fix': 2507, 'beer': 2508, 'hippi': 2509, 'cathol': 2510, 'savag': 2511, 'conceiv': 2512, 'blair': 2513, 'dentist': 2514, 'daili': 2515, 'stanley': 2516, 'mous': 2517, 'assign': 2518, 'nowaday': 2519, 'subsequ': 2520, 'burt': 2521, 'succe': 2522, 'sacrific': 2523, 'everyday': 2524, 'oppos': 2525, 'inspector': 2526, 'properli': 2527, 'carpent': 2528, 'block': 2529, 'laura': 2530, 'massacr': 2531, 'circl': 2532, 'neck': 2533, 'access': 2534, 'pool': 2535, 'portrait': 2536, 'grey': 2537, 'seagal': 2538, 'fallen': 2539, 'concert': 2540, 'lesser': 2541, 'mob': 2542, 'fay': 2543, 'christi': 2544, 'relax': 2545, 'chees': 2546, 'usa': 2547, 'sinist': 2548, 'isol': 2549, 'jake': 2550, 'jewish': 2551, 'react': 2552, 'competit': 2553, 'ironi': 2554, 'nine': 2555, 'chop': 2556, 'stink': 2557, 'spiritu': 2558, 'appal': 2559, 'lyric': 2560, 'nonetheless': 2561, '2006': 2562, 'immens': 2563, 'creep': 2564, 'suitabl': 2565, 'user': 2566, 'reduc': 2567, 'nut': 2568, 'showcas': 2569, 'shirt': 2570, 'adopt': 2571, 'franchis': 2572, 'needless': 2573, 'spring': 2574, 'sold': 2575, 'rage': 2576, 'retir': 2577, 'navi': 2578, 'luci': 2579, 'per': 2580, 'bath': 2581, 'digit': 2582, 'bulli': 2583, 'uninspir': 2584, 'zone': 2585, 'jay': 2586, 'asham': 2587, 'nurs': 2588, 'stanwyck': 2589, '2001': 2590, 'sutherland': 2591, 'oddli': 2592, 'broadcast': 2593, 'illustr': 2594, 'laid': 2595, 'amongst': 2596, 'upper': 2597, '1940': 2598, 'fulfil': 2599, 'disguis': 2600, 'baker': 2601, 'aspir': 2602, 'stylish': 2603, 'throat': 2604, 'brando': 2605, 'nobl': 2606, 'em': 2607, 'impli': 2608, 'wanna': 2609, '18': 2610, 'wwii': 2611, 'endear': 2612, 'thief': 2613, 'neighborhood': 2614, 'pride': 2615, 'pound': 2616, 'shift': 2617, 'diseas': 2618, 'shoulder': 2619, 'cinematograph': 2620, 'distribut': 2621, 'prop': 2622, '16': 2623, 'tens': 2624, 'dinner': 2625, 'rochest': 2626, 'coher': 2627, 'bett': 2628, 'dawn': 2629, 'albeit': 2630, 'bo': 2631, 'function': 2632, 'shout': 2633, 'wash': 2634, 'knife': 2635, 'surf': 2636, 'rebel': 2637, 'forti': 2638, 'matthau': 2639, 'contract': 2640, 'silenc': 2641, 'snow': 2642, 'poignant': 2643, 'eeri': 2644, 'height': 2645, 'instinct': 2646, 'horrend': 2647, 'derek': 2648, 'heat': 2649, 'elvira': 2650, 'henc': 2651, 'proof': 2652, 'mindless': 2653, 'chuck': 2654, 'duti': 2655, 'cannib': 2656, 'cancel': 2657, 'internet': 2658, 'reunion': 2659, 'silver': 2660, 'widmark': 2661, 'musician': 2662, 'mill': 2663, 'neat': 2664, 'greatli': 2665, 'spielberg': 2666, 'incoher': 2667, 'repetit': 2668, 'premier': 2669, 'glori': 2670, 'pie': 2671, 'absorb': 2672, 'alik': 2673, 'innov': 2674, 'etern': 2675, 'torn': 2676, 'elvi': 2677, 'nelson': 2678, 'blank': 2679, 'infam': 2680, 'racism': 2681, 'redempt': 2682, 'lovabl': 2683, 'britain': 2684, 'trite': 2685, 'wealthi': 2686, 'diamond': 2687, 'horrifi': 2688, 'announc': 2689, 'precis': 2690, 'itali': 2691, 'homag': 2692, 'fbi': 2693, 'bang': 2694, 'crisi': 2695, 'burton': 2696, 'helen': 2697, 'resolut': 2698, 'chaplin': 2699, 'ensembl': 2700, 'wilder': 2701, 'happili': 2702, 'streisand': 2703, 'parallel': 2704, 'pat': 2705, 'flop': 2706, 'hammer': 2707, 'dedic': 2708, 'mar': 2709, 'cube': 2710, 'factori': 2711, 'triumph': 2712, 'disagre': 2713, 'conclud': 2714, 'oil': 2715, 'plastic': 2716, 'carter': 2717, 'broke': 2718, 'st': 2719, 'chuckl': 2720, 'weight': 2721, 'row': 2722, 'march': 2723, 'own': 2724, 'bush': 2725, 'climb': 2726, 'fighter': 2727, 'vega': 2728, 'rocket': 2729, 'sensibl': 2730, 'boot': 2731, 'kurt': 2732, 'thug': 2733, 'wherea': 2734, 'spare': 2735, 'meaning': 2736, 'dump': 2737, 'luca': 2738, 'enorm': 2739, 'lust': 2740, 'mst3k': 2741, 'unforgett': 2742, 'dane': 2743, 'brand': 2744, 'caricatur': 2745, 'dear': 2746, 'fifti': 2747, 'engin': 2748, 'threat': 2749, 'difficulti': 2750, 'bobbi': 2751, 'arnold': 2752, 'rap': 2753, 'adequ': 2754, 'stress': 2755, 'butt': 2756, 'karloff': 2757, 'homeless': 2758, 'journalist': 2759, 'polish': 2760, 'elabor': 2761, 'secretari': 2762, 'swing': 2763, 'ego': 2764, 'barri': 2765, 'fest': 2766, 'flynn': 2767, 'arrog': 2768, 'ralph': 2769, 'hamlet': 2770, 'conspiraci': 2771, 'arrang': 2772, 'induc': 2773, 'grate': 2774, 'resort': 2775, 'unbear': 2776, 'fanci': 2777, 'float': 2778, 'spike': 2779, 'simpson': 2780, 'tool': 2781, 'puppet': 2782, 'cruis': 2783, 'basement': 2784, 'exercis': 2785, 'choreograph': 2786, 'guilt': 2787, 'phillip': 2788, 'tribut': 2789, 'boll': 2790, 'pig': 2791, 'muppet': 2792, 'slip': 2793, 'babe': 2794, 'editor': 2795, 'tower': 2796, 'puzzl': 2797, 'item': 2798, 'layer': 2799, 'stan': 2800, 'toilet': 2801, 'fianc': 2802, '24': 2803, 'medium': 2804, 'ham': 2805, 'ward': 2806, 'file': 2807, 'korean': 2808, 'document': 2809, 'scarecrow': 2810, 'spark': 2811, 'inexplic': 2812, 'assur': 2813, 'persona': 2814, 'minim': 2815, 'larger': 2816, 'catherin': 2817, 'transit': 2818, 'denzel': 2819, 'superfici': 2820, 'orient': 2821, 'philosoph': 2822, 'glover': 2823, 'slaughter': 2824, 'portion': 2825, 'librari': 2826, 'doc': 2827, 'territori': 2828, 'jeremi': 2829, 'wolf': 2830, 'owe': 2831, 'financi': 2832, 'dorothi': 2833, 'walken': 2834, 'boredom': 2835, 'ban': 2836, 'shi': 2837, 'pg': 2838, 'sneak': 2839, 'jet': 2840, 'curti': 2841, 'metaphor': 2842, 'cusack': 2843, 'eleph': 2844, 'whale': 2845, 'profound': 2846, 'ambigu': 2847, 'multi': 2848, 'backdrop': 2849, 'hudson': 2850, 'union': 2851, 'birthday': 2852, '2005': 2853, 'hack': 2854, 'viru': 2855, 'elsewher': 2856, 'implaus': 2857, 'stiff': 2858, 'notion': 2859, 'ultra': 2860, 'rave': 2861, 'gadget': 2862, 'canada': 2863, 'eastwood': 2864, 'afford': 2865, 'distanc': 2866, 'squar': 2867, 'slight': 2868, 'deriv': 2869, 'lloyd': 2870, 'hawk': 2871, 'eva': 2872, 'newspap': 2873, 'reader': 2874, 'urg': 2875, 'bibl': 2876, 'disc': 2877, 'superhero': 2878, '1st': 2879, 'pad': 2880, 'poison': 2881, 'sadist': 2882, 'charisma': 2883, 'button': 2884, 'restaur': 2885, 'spread': 2886, 'huh': 2887, 'essenc': 2888, 'cure': 2889, 'montag': 2890, 'heston': 2891, 'skit': 2892, 'health': 2893, 'drown': 2894, 'lab': 2895, 'peak': 2896, 'fetch': 2897, 'dealt': 2898, 'muslim': 2899, 'scoobi': 2900, 'gradual': 2901, 'godfath': 2902, 'estat': 2903, 'companion': 2904, 'maniac': 2905, 'invest': 2906, 'countless': 2907, 'cup': 2908, 'tea': 2909, 'subtleti': 2910, 'servant': 2911, 'ritter': 2912, 'gothic': 2913, 'alli': 2914, 'miik': 2915, 'kane': 2916, 'salli': 2917, 'iii': 2918, 'charismat': 2919, 'elect': 2920, 'electr': 2921, 'briefli': 2922, 'heroic': 2923, 'resourc': 2924, 'toss': 2925, 'tender': 2926, 'reel': 2927, 'wannab': 2928, 'ingredi': 2929, 'nuanc': 2930, 'bud': 2931, 'admittedli': 2932, 'neil': 2933, 'grandmoth': 2934, 'cole': 2935, 'punk': 2936, 'pit': 2937, 'shall': 2938, 'label': 2939, 'dawson': 2940, 'reev': 2941, 'mild': 2942, 'poverti': 2943, 'mafia': 2944, 'stronger': 2945, 'gate': 2946, 'kubrick': 2947, 'carrey': 2948, 'pauli': 2949, 'stood': 2950, 'updat': 2951, 'terri': 2952, 'tag': 2953, 'fond': 2954, 'bakshi': 2955, 'assault': 2956, 'smash': 2957, 'astair': 2958, 'outcom': 2959, 'burst': 2960, 'smooth': 2961, 'cox': 2962, 'cardboard': 2963, 'useless': 2964, 'easier': 2965, 'ian': 2966, 'coincid': 2967, 'exchang': 2968, 'sketch': 2969, 'qualifi': 2970, 'resolv': 2971, 'melodramat': 2972, 'samurai': 2973, 'increasingli': 2974, 'vulner': 2975, 'fist': 2976, '2002': 2977, 'divers': 2978, 'vari': 2979, 'rex': 2980, 'tame': 2981, 'reynold': 2982, 'templ': 2983, 'scratch': 2984, 'conveni': 2985, 'suspend': 2986, 'insert': 2987, 'luckili': 2988, 'be': 2989, 'blast': 2990, 'brillianc': 2991, 'gotta': 2992, 'pin': 2993, 'seventi': 2994, 'fisher': 2995, 'strictli': 2996, 'walker': 2997, 'coach': 2998, 'meat': 2999, 'farm': 3000, 'soprano': 3001, 'matthew': 3002, 'jami': 3003, 'ambiti': 3004, 'hamilton': 3005, 'nuclear': 3006, 'brosnan': 3007, 'timeless': 3008, 'discoveri': 3009, 'cave': 3010, 'closet': 3011, 'joey': 3012, 'grasp': 3013, 'convolut': 3014, 'butcher': 3015, 'spooki': 3016, 'recreat': 3017, 'kudo': 3018, 'revers': 3019, 'instantli': 3020, 'eccentr': 3021, 'ninja': 3022, 'worthless': 3023, 'empir': 3024, 'struck': 3025, 'clock': 3026, 'monk': 3027, 'sloppi': 3028, 'communist': 3029, 'selfish': 3030, 'wipe': 3031, 'gray': 3032, 'bleak': 3033, 'mitchel': 3034, 'partli': 3035, 'evok': 3036, 'pal': 3037, 'clown': 3038, 'eighti': 3039, 'declar': 3040, 'inconsist': 3041, 'norman': 3042, 'miracl': 3043, 'importantli': 3044, 'cliff': 3045, 'seller': 3046, 'fifteen': 3047, 'sidekick': 3048, 'superbl': 3049, 'flawless': 3050, 'destin': 3051, 'debat': 3052, '45': 3053, 'cheek': 3054, 'chew': 3055, 'psychiatrist': 3056, 'farc': 3057, 'websit': 3058, 'aforement': 3059, 'piano': 3060, 'seed': 3061, 'lifestyl': 3062, 'australia': 3063, 'enthusiast': 3064, 'stoog': 3065, 'ho': 3066, 'soviet': 3067, 'bash': 3068, 'pressur': 3069, 'dash': 3070, 'abc': 3071, 'akshay': 3072, 'wick': 3073, 'incompet': 3074, 'dire': 3075, 'emili': 3076, 'regardless': 3077, 'splatter': 3078, 'wrestl': 3079, 'slice': 3080, 'kitchen': 3081, 'drivel': 3082, 'directori': 3083, 'anni': 3084, 'helicopt': 3085, 'boil': 3086, 'seduc': 3087, 'prize': 3088, 'glow': 3089, 'cameron': 3090, 'increas': 3091, 'distant': 3092, 'flower': 3093, 'judi': 3094, 'artifici': 3095, 'recov': 3096, 'ken': 3097, 'beaten': 3098, 'duo': 3099, 'cia': 3100, 'doo': 3101, 'chapter': 3102, 'curios': 3103, 'pleasantli': 3104, 'dave': 3105, 'lou': 3106, 'suppli': 3107, 'jar': 3108, 'blob': 3109, 'cagney': 3110, 'mann': 3111, 'craven': 3112, 'eleg': 3113, 'web': 3114, 'ellen': 3115, 'hop': 3116, 'favour': 3117, 'craig': 3118, 'psychot': 3119, 'turner': 3120, 'panic': 3121, 'laurel': 3122, 'splendid': 3123, 'glenn': 3124, 'combat': 3125, 'perri': 3126, 'drunken': 3127, 'goldberg': 3128, 'francisco': 3129, 'ranger': 3130, 'rid': 3131, 'graduat': 3132, 'plausibl': 3133, 'gentl': 3134, 'alexand': 3135, 'ruth': 3136, 'falk': 3137, '20th': 3138, 'philosophi': 3139, 'wizard': 3140, 'greek': 3141, 'shortli': 3142, 'slightest': 3143, 'fx': 3144, 'min': 3145, 'hatr': 3146, 'gandhi': 3147, 'flip': 3148, 'modesti': 3149, 'manhattan': 3150, 'lend': 3151, 'ocean': 3152, 'dracula': 3153, 'legal': 3154, 'unpleas': 3155, 'harm': 3156, 'holi': 3157, 'we': 3158, 'jealou': 3159, 'futurist': 3160, 'fund': 3161, 'preciou': 3162, 'tall': 3163, 'knight': 3164, 'felix': 3165, 'mock': 3166, 'reviv': 3167, 'digniti': 3168, 'bless': 3169, 'overdon': 3170, 'childish': 3171, 'ami': 3172, 'nod': 3173, 'scientif': 3174, 'forbidden': 3175, 'explicit': 3176, 'tank': 3177, 'thread': 3178, 'giallo': 3179, 'fever': 3180, 'repeatedli': 3181, '99': 3182, '2004': 3183, 'pirat': 3184, 'mel': 3185, 'nerv': 3186, 'yesterday': 3187, 'thick': 3188, 'awaken': 3189, 'broad': 3190, 'eve': 3191, 'elderli': 3192, 'unwatch': 3193, 'margaret': 3194, 'awe': 3195, 'verhoeven': 3196, 'torment': 3197, 'eas': 3198, 'launch': 3199, 'bin': 3200, 'roman': 3201, 'romero': 3202, 'royal': 3203, 'lean': 3204, 'kay': 3205, 'acclaim': 3206, 'absenc': 3207, 'ambit': 3208, 'timothi': 3209, 'publish': 3210, 'rivet': 3211, 'custom': 3212, 'ah': 3213, 'politician': 3214, 'automat': 3215, 'griffith': 3216, 'stiller': 3217, 'uniform': 3218, 'homicid': 3219, 'phrase': 3220, 'antic': 3221, 'bathroom': 3222, 'foul': 3223, 'crook': 3224, 'purpl': 3225, 'pulp': 3226, 'wallac': 3227, 'transport': 3228, 'darker': 3229, 'termin': 3230, 'pierc': 3231, 'gabriel': 3232, 'tomato': 3233, 'stinker': 3234, 'sunshin': 3235, 'warren': 3236, 'saint': 3237, 'kenneth': 3238, 'brazil': 3239, 'packag': 3240, '2003': 3241, 'contrari': 3242, 'sixti': 3243, 'prom': 3244, 'pray': 3245, 'choreographi': 3246, 'revolutionari': 3247, 'eyr': 3248, 'juvenil': 3249, 'viciou': 3250, 'ought': 3251, 'donna': 3252, 'coloni': 3253, 'album': 3254, 'evolv': 3255, 'karen': 3256, 'hollow': 3257, 'horrid': 3258, 'marin': 3259, 'q': 3260, 'awak': 3261, 'rambo': 3262, 'li': 3263, 'kapoor': 3264, 'dose': 3265, 'option': 3266, 'overr': 3267, 'boast': 3268, 'blade': 3269, 'nerd': 3270, 'conserv': 3271, 'mildr': 3272, 'stole': 3273, 'defi': 3274, 'mummi': 3275, 'twelv': 3276, 'candid': 3277, 'ireland': 3278, 'ramon': 3279, 'beatti': 3280, 'kirk': 3281, 'astonish': 3282, 'confirm': 3283, 'jazz': 3284, 'global': 3285, 'trio': 3286, 'altman': 3287, 'natali': 3288, 'flame': 3289, 'collabor': 3290, 'protest': 3291, 'funer': 3292, 'detract': 3293, 'fulci': 3294, 'mystic': 3295, 'audio': 3296, 'spit': 3297, 'whip': 3298, 'delici': 3299, 'leap': 3300, 'destini': 3301, 'bull': 3302, 'yellow': 3303, 'racial': 3304, 'blake': 3305, 'bottl': 3306, 'shade': 3307, 'nicholson': 3308, 'tommi': 3309, 'enterpris': 3310, 'adolesc': 3311, 'inherit': 3312, 'neo': 3313, 'visibl': 3314, 'threw': 3315, 'reunit': 3316, 'meaningless': 3317, 'todd': 3318, 'harder': 3319, 'vivid': 3320, 'merci': 3321, 'enchant': 3322, 'bedroom': 3323, 'pseudo': 3324, 'swedish': 3325, 'popcorn': 3326, 'fonda': 3327, 'altogeth': 3328, 'staff': 3329, 'uneven': 3330, 'tip': 3331, 'crocodil': 3332, 'moodi': 3333, 'befriend': 3334, 'atlanti': 3335, 'roommat': 3336, 'exhibit': 3337, 'reserv': 3338, 'suspici': 3339, 'fanat': 3340, 'kennedi': 3341, 'decor': 3342, 'wire': 3343, 'bust': 3344, 'leonard': 3345, 'lawrenc': 3346, 'edi': 3347, 'await': 3348, 'jew': 3349, 'ruthless': 3350, 'synopsi': 3351, 'respond': 3352, 'lemmon': 3353, 'voight': 3354, 'madonna': 3355, 'abysm': 3356, 'voyag': 3357, 'clint': 3358, '2007': 3359, 'carl': 3360, 'audit': 3361, 'unsettl': 3362, 'bold': 3363, 'chao': 3364, 'rural': 3365, 'centr': 3366, 'incident': 3367, 'bargain': 3368, 'holli': 3369, 'palma': 3370, 'clumsi': 3371, 'garner': 3372, 'bradi': 3373, 'ventur': 3374, 'dimens': 3375, 'hart': 3376, 'cari': 3377, 'cuba': 3378, 'echo': 3379, 'versu': 3380, 'poetic': 3381, 'acknowledg': 3382, 'nearbi': 3383, 'characterist': 3384, 'elimin': 3385, 'tiger': 3386, 'humili': 3387, 'mall': 3388, 'neglect': 3389, 'lit': 3390, 'troop': 3391, 'imperson': 3392, '2nd': 3393, 'daddi': 3394, 'immigr': 3395, 'ant': 3396, 'wealth': 3397, 'trail': 3398, 'cd': 3399, 'timon': 3400, 'celluloid': 3401, 'pun': 3402, 'jeffrey': 3403, 'infect': 3404, 'mistaken': 3405, 'domest': 3406, 'mickey': 3407, 'collaps': 3408, 'prejudic': 3409, 'solo': 3410, 'repuls': 3411, 'homer': 3412, 'saga': 3413, 'paus': 3414, 'marshal': 3415, 'olivi': 3416, 'assembl': 3417, 'coat': 3418, 'inan': 3419, 'apolog': 3420, 'cake': 3421, 'inappropri': 3422, 'undoubtedli': 3423, 'harvey': 3424, 'ginger': 3425, 'interrupt': 3426, 'coffe': 3427, 'chest': 3428, 'hbo': 3429, '1996': 3430, 'equip': 3431, 'sore': 3432, 'gear': 3433, 'tribe': 3434, 'pant': 3435, 'milk': 3436, 'promin': 3437, 'leon': 3438, 'embrac': 3439, 'trace': 3440, 'aveng': 3441, 'instant': 3442, 'solut': 3443, 'florida': 3444, 'pen': 3445, 'maggi': 3446, 'highest': 3447, 'exot': 3448, 'retain': 3449, 'institut': 3450, 'humbl': 3451, 'primari': 3452, 'furthermor': 3453, 'airplan': 3454, 'devast': 3455, 'consum': 3456, 'polanski': 3457, 'colleagu': 3458, 'brooklyn': 3459, 'vulgar': 3460, 'colonel': 3461, 'pot': 3462, 'jenni': 3463, 'descend': 3464, 'illog': 3465, 'outer': 3466, 'ya': 3467, '3rd': 3468, 'gender': 3469, 'wive': 3470, 'rick': 3471, 'smaller': 3472, 'principl': 3473, 'godzilla': 3474, 'seduct': 3475, 'linda': 3476, 'strain': 3477, 'poke': 3478, 'sale': 3479, 'cope': 3480, 'dian': 3481, 'dutch': 3482, 'bowl': 3483, '1999': 3484, 'disabl': 3485, 'bubbl': 3486, 'inferior': 3487, 'glamor': 3488, 'vast': 3489, 'beneath': 3490, 'secondli': 3491, 'mixtur': 3492, 'primarili': 3493, 'cue': 3494, 'dud': 3495, 'scope': 3496, 'gloriou': 3497, 'devoid': 3498, 'hal': 3499, 'blatant': 3500, 'dive': 3501, 'yard': 3502, 'rabbit': 3503, 'predecessor': 3504, 'lol': 3505, 'gundam': 3506, 'invas': 3507, 'z': 3508, 'hideou': 3509, 'disjoint': 3510, 'countrysid': 3511, 'pearl': 3512, 'simplist': 3513, 'talki': 3514, 'senseless': 3515, 'aggress': 3516, 'alert': 3517, 'arab': 3518, 'breed': 3519, 'museum': 3520, 'shelf': 3521, 'april': 3522, 'grinch': 3523, 'myer': 3524, 'alfr': 3525, 'casual': 3526, 'garbo': 3527, 'shirley': 3528, 'et': 3529, 'trademark': 3530, 'streep': 3531, 'domino': 3532, 'slide': 3533, 'sh': 3534, 'experiment': 3535, 'unhappi': 3536, 'disgrac': 3537, 'boom': 3538, 'stir': 3539, 'defens': 3540, 'hopeless': 3541, 'maci': 3542, 'rendit': 3543, 'oz': 3544, 'robberi': 3545, 'loyal': 3546, 'uwe': 3547, 'applaud': 3548, 'acid': 3549, 'robinson': 3550, 'hardcor': 3551, 'obtain': 3552, 'illeg': 3553, 'khan': 3554, 'stellar': 3555, 'vanish': 3556, 'mayor': 3557, 'mail': 3558, 'stack': 3559, 'wont': 3560, 'craze': 3561, 'spider': 3562, 'psychic': 3563, 'incomprehens': 3564, 'tempt': 3565, 'hartley': 3566, 'rifl': 3567, 'berlin': 3568, 'span': 3569, 'recruit': 3570, 'emphasi': 3571, 'blew': 3572, 'amanda': 3573, 'fri': 3574, 'topless': 3575, 'scroog': 3576, 'tenant': 3577, 'diana': 3578, 'counter': 3579, 'dismiss': 3580, 'declin': 3581, 'soccer': 3582, 'grandfath': 3583, 'dicken': 3584, 'bitch': 3585, 'justin': 3586, 'revolt': 3587, 'shaw': 3588, 'ration': 3589, 'sibl': 3590, 'shed': 3591, 'ethnic': 3592, 'lumet': 3593, 'sympath': 3594, 'goer': 3595, 'faster': 3596, 'wet': 3597, 'trashi': 3598, 'intim': 3599, 'resurrect': 3600, 'porno': 3601, 'parad': 3602, 'riot': 3603, 'woo': 3604, 'niro': 3605, 'commend': 3606, 'gap': 3607, 'hopper': 3608, 'feminist': 3609, 'eager': 3610, 'slick': 3611, 'honesti': 3612, 'choru': 3613, 'ballet': 3614, 'rider': 3615, 'wheel': 3616, 'patriot': 3617, 'unreal': 3618, 'weakest': 3619, 'andr': 3620, 'region': 3621, 'steam': 3622, 'mario': 3623, 'immort': 3624, 'hesit': 3625, 'farmer': 3626, 'biographi': 3627, 'enlighten': 3628, 'ensur': 3629, 'dealer': 3630, 'partial': 3631, 'jonathan': 3632, 'wendi': 3633, 'worm': 3634, 'nephew': 3635, 'lena': 3636, '00': 3637, 'confin': 3638, 'charlott': 3639, 'sandra': 3640, 'vice': 3641, 'victori': 3642, 'properti': 3643, 'snap': 3644, 'sappi': 3645, 'nostalg': 3646, 'morri': 3647, 'wore': 3648, 'leo': 3649, 'util': 3650, 'similarli': 3651, 'owen': 3652, 'kingdom': 3653, 'psychopath': 3654, 'safeti': 3655, 'hung': 3656, 'skull': 3657, 'prequel': 3658, 'composit': 3659, 'franco': 3660, 'macarthur': 3661, 'blunt': 3662, 'mutant': 3663, 'repress': 3664, 'recycl': 3665, 'thru': 3666, 'repli': 3667, 'strand': 3668, 'bonu': 3669, 'compass': 3670, 'farrel': 3671, 'latin': 3672, 'rope': 3673, 'speci': 3674, 'campbel': 3675, 'rocki': 3676, 'despair': 3677, 'miseri': 3678, 'pattern': 3679, 'tad': 3680, 'dust': 3681, 'bow': 3682, 'tail': 3683, 'rambl': 3684, 'compens': 3685, 'nervou': 3686, 'cg': 3687, 'acquir': 3688, 'del': 3689, 'heartbreak': 3690, '1972': 3691, 'bumbl': 3692, 'kyle': 3693, 'valuabl': 3694, 'dalton': 3695, 'hyde': 3696, 'drum': 3697, 'emperor': 3698, 'exit': 3699, 'montana': 3700, 'drain': 3701, 'deed': 3702, 'snl': 3703, 'whoopi': 3704, 'bergman': 3705, 'roth': 3706, 'tonight': 3707, 'rotten': 3708, 'carradin': 3709, 'airport': 3710, 'rapist': 3711, 'contempl': 3712, 'olli': 3713, 'wacki': 3714, 'da': 3715, 'romp': 3716, 'bleed': 3717, 'martian': 3718, 'pour': 3719, 'gimmick': 3720, 'gal': 3721, '35': 3722, 'oppress': 3723, 'percept': 3724, 'downhil': 3725, 'radic': 3726, 'orson': 3727, 'chess': 3728, 'mistress': 3729, 'slug': 3730, 'shelley': 3731, 'mislead': 3732, 'paltrow': 3733, 'pursuit': 3734, 'preach': 3735, 'arguabl': 3736, 'dazzl': 3737, 'belt': 3738, 'pervert': 3739, 'arc': 3740, '1983': 3741, 'banal': 3742, 'attorney': 3743, 'unpredict': 3744, 'pervers': 3745, 'champion': 3746, 'edgar': 3747, 'taught': 3748, 'tooth': 3749, 'heal': 3750, 'tackl': 3751, 'programm': 3752, 'stilt': 3753, 'melodi': 3754, 'slash': 3755, 'vengeanc': 3756, 'tiresom': 3757, 'virginia': 3758, 'maid': 3759, 'vocal': 3760, 'graham': 3761, 'dixon': 3762, 'orang': 3763, 'plight': 3764, 'gambl': 3765, 'cleverli': 3766, 'passeng': 3767, 'mesmer': 3768, 'uplift': 3769, 'marti': 3770, 'sensat': 3771, 'closest': 3772, 'chicken': 3773, 'bela': 3774, 'rubi': 3775, 'raymond': 3776, 'poem': 3777, 'franki': 3778, 'employe': 3779, 'duval': 3780, 'conneri': 3781, 'clone': 3782, 'calm': 3783, 'mute': 3784, 'yawn': 3785, 'volum': 3786, 'outing': 3787, '1968': 3788, 'tube': 3789, 'inject': 3790, 'secretli': 3791, 'swallow': 3792, 'amitabh': 3793, 'abraham': 3794, 'quarter': 3795, 'numb': 3796, 'whine': 3797, 'habit': 3798, 'climact': 3799, 'paranoia': 3800, 'bay': 3801, 'engross': 3802, 'scottish': 3803, 'extens': 3804, 'monologu': 3805, 'gerard': 3806, 'convincingli': 3807, 'profan': 3808, 'iran': 3809, 'crystal': 3810, 'suffic': 3811, 'giggl': 3812, 'lundgren': 3813, 'sirk': 3814, 'pokemon': 3815, 'trend': 3816, 'austen': 3817, 'bend': 3818, 'linger': 3819, 'nichola': 3820, 'plod': 3821, 'im': 3822, 'poetri': 3823, 'backward': 3824, 'profess': 3825, 'surpass': 3826, 'ethan': 3827, 'dispos': 3828, 'grotesqu': 3829, 'expand': 3830, 'lowest': 3831, 'fed': 3832, 'taxi': 3833, 'chicago': 3834, 'meander': 3835, 'septemb': 3836, 'underst': 3837, 'frankenstein': 3838, 'abort': 3839, 'earl': 3840, 'franci': 3841, 'junior': 3842, 'richardson': 3843, 'spock': 3844, 'catchi': 3845, 'simplic': 3846, 'cannon': 3847, 'spoke': 3848, 'muddl': 3849, 'tourist': 3850, 'myth': 3851, 'rubber': 3852, 'dysfunct': 3853, 'nostalgia': 3854, 'waitress': 3855, 'lure': 3856, 'eugen': 3857, 'hum': 3858, 'econom': 3859, 'sue': 3860, 'literatur': 3861, 'descent': 3862, 'der': 3863, 'compliment': 3864, 'mundan': 3865, 'rant': 3866, 'instrument': 3867, 'greedi': 3868, 'stallon': 3869, 'household': 3870, 'omen': 3871, 'cent': 3872, 'molli': 3873, 'damon': 3874, 'hello': 3875, 'recognit': 3876, 'map': 3877, 'mankind': 3878, 'alongsid': 3879, 'dement': 3880, 'june': 3881, 'firstli': 3882, 'occupi': 3883, 'louis': 3884, 'lang': 3885, 'phoni': 3886, 'crucial': 3887, 'duck': 3888, 'coast': 3889, 'recognis': 3890, 'randi': 3891, 'bacal': 3892, 'phantom': 3893, 'flee': 3894, 'equival': 3895, 'dictat': 3896, 'stale': 3897, 'furi': 3898, 'irrelev': 3899, 'eaten': 3900, 'insur': 3901, 'mortal': 3902, 'sissi': 3903, 'deaf': 3904, 'carel': 3905, 'newli': 3906, 'freez': 3907, 'dreari': 3908, 'distinguish': 3909, 'drake': 3910, 'onlin': 3911, 'bump': 3912, 'antwon': 3913, 'ashley': 3914, 'daisi': 3915, 'loyalti': 3916, 'twilight': 3917, 'heel': 3918, 'rooney': 3919, 'cyborg': 3920, 'reign': 3921, 'wisdom': 3922, 'likewis': 3923, 'rude': 3924, 'bike': 3925, '1973': 3926, 'blackmail': 3927, 'labor': 3928, 'lengthi': 3929, 'damm': 3930, 'grayson': 3931, 'buffalo': 3932, 'biko': 3933, 'worn': 3934, 'baddi': 3935, 'pink': 3936, 'incorpor': 3937, 'vein': 3938, 'keith': 3939, 'provoc': 3940, 'proce': 3941, 'prey': 3942, 'nineti': 3943, 'exposur': 3944, 'startl': 3945, 'butler': 3946, 'approv': 3947, 'boxer': 3948, 'unorigin': 3949, 'attribut': 3950, 'basketbal': 3951, 'inher': 3952, 'interior': 3953, 'ridden': 3954, 'barrymor': 3955, 'chronicl': 3956, 'emphas': 3957, 'analysi': 3958, 'sailor': 3959, 'tunnel': 3960, 'julian': 3961, 'underli': 3962, 'predat': 3963, 'meyer': 3964, 'barrel': 3965, 'meg': 3966, 'er': 3967, 'unrel': 3968, 'millionair': 3969, 'substitut': 3970, 'hypnot': 3971, 'robbin': 3972, 'drift': 3973, 'undeni': 3974, 'condemn': 3975, 'belushi': 3976, 'stalker': 3977, 'mighti': 3978, 'degrad': 3979, 'fleet': 3980, 'elm': 3981, 'carla': 3982, 'mormon': 3983, 'othello': 3984, 'improvis': 3985, 'bunni': 3986, 'indiffer': 3987, 'walsh': 3988, 'simmon': 3989, 'nicol': 3990, 'greed': 3991, 'nyc': 3992, 'edgi': 3993, 'palac': 3994, 'marion': 3995, 'exquisit': 3996, 'shove': 3997, 'unawar': 3998, 'roof': 3999, 'enthusiasm': 4000, 'lampoon': 4001, 'firm': 4002, 'alarm': 4003, 'hay': 4004, 'watson': 4005, '3d': 4006, 'mtv': 4007, 'alison': 4008, 'novak': 4009, 'priceless': 4010, 'disord': 4011, 'agenda': 4012, 'rukh': 4013, 'reid': 4014, 'warmth': 4015, 'vital': 4016, 'dolph': 4017, 'errol': 4018, '13th': 4019, 'drip': 4020, 'valentin': 4021, 'cassidi': 4022, 'coup': 4023, 'ponder': 4024, 'what': 4025, 'eastern': 4026, 'beatl': 4027, 'petti': 4028, 'thompson': 4029, 'preserv': 4030, 'israel': 4031, 'orlean': 4032, 'crown': 4033, 'session': 4034, 'randomli': 4035, 'gestur': 4036, '1933': 4037, 'nun': 4038, 'glanc': 4039, 'distort': 4040, 'peril': 4041, 'minimum': 4042, 'campaign': 4043, 'sergeant': 4044, 'showdown': 4045, 'peck': 4046, 'angela': 4047, 'iraq': 4048, 'zizek': 4049, 'unleash': 4050, 'spain': 4051, 'profit': 4052, 'testament': 4053, 'simultan': 4054, 'pamela': 4055, 'championship': 4056, 'climat': 4057, 'contradict': 4058, 'crow': 4059, 'fido': 4060, 'mon': 4061, 'represent': 4062, 'miyazaki': 4063, 'empathi': 4064, '1984': 4065, 'perpetu': 4066, 'unimagin': 4067, 'stake': 4068, 'regist': 4069, 'cream': 4070, 'wig': 4071, 'travesti': 4072, 'exposit': 4073, 'scotland': 4074, 'rout': 4075, 'reson': 4076, 'calib': 4077, 'stroke': 4078, 'gentleman': 4079, 'restrain': 4080, 'shootout': 4081, 'bro': 4082, 'brenda': 4083, 'din': 4084, 'crawl': 4085, 'han': 4086, 'kurosawa': 4087, 'buster': 4088, 'sabrina': 4089, 'jan': 4090, 'cooki': 4091, 'valley': 4092, 'quinn': 4093, 'realm': 4094, 'unseen': 4095, 'greg': 4096, 'unsatisfi': 4097, 'traumat': 4098, 'femm': 4099, 'cloud': 4100, 'dana': 4101, 'painter': 4102, 'pole': 4103, 'spacey': 4104, 'josh': 4105, 'warrant': 4106, 'ustinov': 4107, 'tacki': 4108, 'derang': 4109, 'wax': 4110, 'abomin': 4111, 'passabl': 4112, 'monoton': 4113, 'absent': 4114, '1987': 4115, 'perceiv': 4116, 'distress': 4117, 'businessman': 4118, 'pretens': 4119, 'darren': 4120, '1997': 4121, 'mclaglen': 4122, 'geek': 4123, 'stargat': 4124, 'shaki': 4125, 'crawford': 4126, 'baldwin': 4127, 'ross': 4128, 'demis': 4129, 'delic': 4130, 'shoddi': 4131, 'compromis': 4132, 'meryl': 4133, 'censor': 4134, 'sammi': 4135, 'sucker': 4136, 'soderbergh': 4137, 'fuller': 4138, 'clash': 4139, 'norm': 4140, 'fenc': 4141, 'seal': 4142, 'deceas': 4143, 'expedit': 4144, 'jewel': 4145, 'reluct': 4146, 'kumar': 4147, '1993': 4148, 'nathan': 4149, 'tarantino': 4150, 'wholli': 4151, 'dee': 4152, 'unravel': 4153, 'anchor': 4154, 'exclus': 4155, 'verbal': 4156, 'judgment': 4157, 'polici': 4158, 'click': 4159, 'antonioni': 4160, 'tech': 4161, 'valid': 4162, 'correctli': 4163, 'sid': 4164, 'primit': 4165, 'fog': 4166, 'accuraci': 4167, 'deniro': 4168, 'uncov': 4169, 'austin': 4170, 'furiou': 4171, '1995': 4172, 'dreck': 4173, 'nicola': 4174, '1971': 4175, 'clerk': 4176, 'bake': 4177, 'sheet': 4178, 'conduct': 4179, 'slam': 4180, 'roller': 4181, 'wretch': 4182, 'fart': 4183, '3000': 4184, 'patienc': 4185, 'hallucin': 4186, 'behold': 4187, 'mode': 4188, 'enforc': 4189, 'trait': 4190, 'logan': 4191, 'unfair': 4192, 'debt': 4193, 'pocket': 4194, 'darn': 4195, 'murray': 4196, 'fabric': 4197, 'sustain': 4198, 'joel': 4199, 'ritual': 4200, 'vanc': 4201, 'sunni': 4202, 'alec': 4203, 'crippl': 4204, 'sand': 4205, 'fought': 4206, 'wang': 4207, 'seldom': 4208, 'tax': 4209, 'shanghai': 4210, 'temper': 4211, 'malon': 4212, '2008': 4213, 'preston': 4214, 'exhaust': 4215, 'divid': 4216, 'sweep': 4217, 'technicolor': 4218, 'runner': 4219, 'squad': 4220, 'stark': 4221, 'despis': 4222, 'tactic': 4223, 'penni': 4224, 'conscious': 4225, 'outlin': 4226, 'guitar': 4227, 'isabel': 4228, 'schedul': 4229, 'phil': 4230, 'stuart': 4231, 'shell': 4232, 'bias': 4233, 'scriptwrit': 4234, 'preposter': 4235, 'legaci': 4236, 'pete': 4237, 'soup': 4238, 'fundament': 4239, 'grief': 4240, 'helpless': 4241, 'clau': 4242, 'rita': 4243, 'bridget': 4244, 'canyon': 4245, 'robber': 4246, 'critiqu': 4247, 'sugar': 4248, 'jacket': 4249, 'jodi': 4250, 'boyl': 4251, 'flair': 4252, 'passag': 4253, 'marc': 4254, 'consciou': 4255, 'vomit': 4256, 'delv': 4257, 'downey': 4258, 'alley': 4259, 'newman': 4260, 'invad': 4261, 'liberti': 4262, 'russia': 4263, 'alicia': 4264, 'gregori': 4265, 'inabl': 4266, 'culmin': 4267, 'propos': 4268, 'rehash': 4269, 'drove': 4270, 'rear': 4271, 'unexpectedli': 4272, 'sentinel': 4273, 'kansa': 4274, 'cigarett': 4275, 'lacklust': 4276, 'bloom': 4277, 'implic': 4278, 'agenc': 4279, 'restrict': 4280, 'connor': 4281, 'sniper': 4282, 'palanc': 4283, 'behaviour': 4284, 'sharon': 4285, 'aesthet': 4286, 'karl': 4287, 'pale': 4288, 'foxx': 4289, 'improb': 4290, 'cap': 4291, 'rod': 4292, 'wrench': 4293, 'rehears': 4294, 'awhil': 4295, 'arrow': 4296, 'yeti': 4297, 'feat': 4298, 'bacon': 4299, '22': 4300, 'tendenc': 4301, 'rampag': 4302, 'lush': 4303, '1936': 4304, 'tripe': 4305, 'horn': 4306, 'delet': 4307, 'asylum': 4308, 'vet': 4309, 'ladder': 4310, 'kolchak': 4311, 'chainsaw': 4312, 'mccoy': 4313, 'financ': 4314, 'prank': 4315, 'loneli': 4316, 'suffici': 4317, 'minu': 4318, 'visitor': 4319, 'wildli': 4320, 'amazon': 4321, 'weav': 4322, 'spice': 4323, 'paramount': 4324, 'sung': 4325, 'tasteless': 4326, 'coaster': 4327, 'suspicion': 4328, 'fright': 4329, 'filler': 4330, '1920': 4331, 'lurk': 4332, 'paradis': 4333, '19th': 4334, 'rumor': 4335, '1978': 4336, '1988': 4337, 'stream': 4338, 'el': 4339, 'globe': 4340, 'rhythm': 4341, 'newcom': 4342, 'conscienc': 4343, 'scoop': 4344, 'basing': 4345, 'hackney': 4346, 'elit': 4347, 'tomorrow': 4348, 'underneath': 4349, 'hungri': 4350, 'hulk': 4351, 'aristocrat': 4352, 'wagner': 4353, 'shortcom': 4354, 'thunderbird': 4355, 'standout': 4356, 'bread': 4357, 'rub': 4358, 'worship': 4359, 'straightforward': 4360, 'hopkin': 4361, 'secondari': 4362, 'lectur': 4363, 'chavez': 4364, 'tierney': 4365, 'penn': 4366, 'immers': 4367, 'grudg': 4368, 'abrupt': 4369, 'impos': 4370, 'minist': 4371, 'teas': 4372, 'atroc': 4373, 'naughti': 4374, 'heist': 4375, 'en': 4376, 'literari': 4377, 'quietli': 4378, 'paxton': 4379, 'recogniz': 4380, 'dirt': 4381, 'choppi': 4382, 'beverli': 4383, 'smell': 4384, 'posey': 4385, 'cancer': 4386, '1939': 4387, 'brit': 4388, 'entranc': 4389, 'inmat': 4390, 'counterpart': 4391, 'couch': 4392, 'ingeni': 4393, 'leigh': 4394, 'chamberlain': 4395, '75': 4396, 'ram': 4397, 'iv': 4398, '1989': 4399, 'springer': 4400, 'curli': 4401, 'wwe': 4402, 'laurenc': 4403, 'sassi': 4404, 'injuri': 4405, '1986': 4406, 'yearn': 4407, 'lindsay': 4408, 'sublim': 4409, 'attenborough': 4410, 'heartfelt': 4411, 'watcher': 4412, 'policeman': 4413, 'geni': 4414, 'variat': 4415, 'bernard': 4416, 'esther': 4417, 'transcend': 4418, 'moreov': 4419, 'missil': 4420, 'quaid': 4421, 'skeptic': 4422, 'misguid': 4423, 'convert': 4424, 'duel': 4425, 'ace': 4426, 'nolan': 4427, 'clan': 4428, 'cattl': 4429, 'entitl': 4430, 'nemesi': 4431, 'net': 4432, 'enthral': 4433, 'ratso': 4434, 'morbid': 4435, 'poe': 4436, 'brood': 4437, 'grin': 4438, 'kitti': 4439, 'enabl': 4440, 'reliabl': 4441, 'artsi': 4442, 'hopelessli': 4443, 'steadi': 4444, 'facil': 4445, 'unexplain': 4446, 'buzz': 4447, 'rosemari': 4448, 'spiral': 4449, 'cruelti': 4450, 'dont': 4451, 'obstacl': 4452, 'graini': 4453, 'egg': 4454, '1979': 4455, 'setup': 4456, 'youngest': 4457, 'vader': 4458, 'bean': 4459, 'uncut': 4460, 'carlito': 4461, 'out': 4462, 'tyler': 4463, 'hk': 4464, 'mytholog': 4465, 'characteris': 4466, 'puppi': 4467, 'moder': 4468, 'bye': 4469, 'diari': 4470, 'kidman': 4471, 'bewar': 4472, 'sweat': 4473, 'effici': 4474, 'niec': 4475, 'spontan': 4476, 'preming': 4477, 'martha': 4478, 'decept': 4479, 'athlet': 4480, 'exterior': 4481, 'baffl': 4482, '1969': 4483, 'oblig': 4484, 'despic': 4485, 'clueless': 4486, 'patricia': 4487, 'hain': 4488, 'acquaint': 4489, 'gina': 4490, 'kline': 4491, 'bronson': 4492, 'weather': 4493, 'christin': 4494, 'underworld': 4495, 'fuel': 4496, 'disastr': 4497, 'gillian': 4498, 'narrow': 4499, 'heap': 4500, 'brendan': 4501, 'bounc': 4502, 'hammi': 4503, 'angst': 4504, 'housewif': 4505, 'virtu': 4506, 'tick': 4507, 'insipid': 4508, 'goof': 4509, 'renaiss': 4510, 'preachi': 4511, 'candl': 4512, 'scar': 4513, 'taboo': 4514, 'fontain': 4515, 'dilemma': 4516, 'analyz': 4517, 'shatter': 4518, 'injur': 4519, 'headach': 4520, 'uh': 4521, 'rome': 4522, 'viewpoint': 4523, 'sleepwalk': 4524, 'mermaid': 4525, 'mayhem': 4526, 'loi': 4527, 'dandi': 4528, '73': 4529, 'outlaw': 4530, 'trigger': 4531, 'astound': 4532, 'loath': 4533, 'harmless': 4534, 'enlist': 4535, 'circu': 4536, 'sooner': 4537, 'biker': 4538, 'suprem': 4539, '19': 4540, 'lester': 4541, 'hepburn': 4542, 'stimul': 4543, 'fluff': 4544, 'immatur': 4545, 'surgeri': 4546, 'hooker': 4547, 'macho': 4548, 'boston': 4549, 'claustrophob': 4550, 'dish': 4551, 'bent': 4552, 'amor': 4553, 'stair': 4554, 'foolish': 4555, 'whore': 4556, 'oldest': 4557, 'intric': 4558, 'overlong': 4559, 'scorses': 4560, 'camcord': 4561, 'idol': 4562, 'salt': 4563, 'ariel': 4564, 'glorifi': 4565, 'slimi': 4566, 'redund': 4567, 'ebert': 4568, 'steer': 4569, 'hostag': 4570, 'phenomenon': 4571, 'guin': 4572, 'hokey': 4573, 'contempt': 4574, 'zoom': 4575, 'spade': 4576, 'cassavet': 4577, 'filth': 4578, 'dismal': 4579, 'sox': 4580, 'gere': 4581, 'corbett': 4582, 'tripl': 4583, 'harold': 4584, 'astronaut': 4585, 'shred': 4586, 'transplant': 4587, 'widescreen': 4588, 'radiat': 4589, 'faint': 4590, 'remad': 4591, 'trivia': 4592, 'assert': 4593, 'dwarf': 4594, 'cohen': 4595, 'gasp': 4596, 'keen': 4597, 'rhyme': 4598, 'schlock': 4599, 'spree': 4600, 'mount': 4601, 'corman': 4602, 'muscl': 4603, 'margin': 4604, 'perman': 4605, 'shield': 4606, 'obligatori': 4607, 'frantic': 4608, 'alvin': 4609, 'mutual': 4610, '1976': 4611, 'conquer': 4612, 'cow': 4613, 'flashi': 4614, 'flag': 4615, 'proport': 4616, 'spinal': 4617, 'messi': 4618, 'naschi': 4619, 'strongest': 4620, 'beard': 4621, 'preced': 4622, 'fascist': 4623, 'flirt': 4624, 'cush': 4625, 'antagonist': 4626, 'down': 4627, 'zane': 4628, 'nolt': 4629, 'gabl': 4630, '1981': 4631, 'joker': 4632, 'scandal': 4633, 'bitten': 4634, 'vaniti': 4635, 'boob': 4636, 'bachelor': 4637, '95': 4638, 'instruct': 4639, 'archiv': 4640, 'departur': 4641, 'persuad': 4642, 'claud': 4643, 'www': 4644, 'triangl': 4645, 'flock': 4646, 'off': 4647, 'info': 4648, 'mol': 4649, 'discern': 4650, 'hara': 4651, 'aborigin': 4652, 'divin': 4653, 'deer': 4654, 'resum': 4655, 'inflict': 4656, 'brush': 4657, 'strive': 4658, 'repris': 4659, 'interestingli': 4660, '1945': 4661, '28': 4662, 'fishburn': 4663, 'mobil': 4664, 'danish': 4665, 'carey': 4666, 'neurot': 4667, 'barn': 4668, 'someday': 4669, 'ritchi': 4670, 'sensual': 4671, 'raj': 4672, 'wield': 4673, 'hug': 4674, 'colin': 4675, 'melissa': 4676, 'fragil': 4677, 'cliffhang': 4678, 'rot': 4679, 'hapless': 4680, 'miracul': 4681, 'timberlak': 4682, 'dylan': 4683, 'pacif': 4684, 'traffic': 4685, 'dim': 4686, 'wendigo': 4687, 'prophet': 4688, 'cb': 4689, 'cycl': 4690, 'dame': 4691, 'undermin': 4692, 'carlo': 4693, 'senior': 4694, 'ish': 4695, 'artwork': 4696, 'earnest': 4697, 'clad': 4698, 'banter': 4699, 'kathryn': 4700, 'heartwarm': 4701, 'proclaim': 4702, 'bate': 4703, 'parson': 4704, 'helm': 4705, 'mobster': 4706, 'anton': 4707, 'harrison': 4708, 'casino': 4709, 'cher': 4710, 'recit': 4711, 'hilar': 4712, 'neill': 4713, 'submit': 4714, 'biblic': 4715, 'luka': 4716, 'jade': 4717, 'axe': 4718, 'europa': 4719, 'pixar': 4720, 'loretta': 4721, 'vibrant': 4722, 'frontier': 4723, 'pickford': 4724, 'vile': 4725, 'milo': 4726, 'redneck': 4727, 'legitim': 4728, 'breakfast': 4729, 'eli': 4730, 'mathieu': 4731, 'nope': 4732, 'illus': 4733, 'toronto': 4734, 'articl': 4735, 'shepherd': 4736, 'aris': 4737, 'marlon': 4738, 'vanessa': 4739, 'sicken': 4740, 'uma': 4741, 'rooki': 4742, 'flavor': 4743, 'estrang': 4744, 'electron': 4745, 'choke': 4746, 'http': 4747, 'seedi': 4748, 'pc': 4749, 'token': 4750, 'wardrob': 4751, 'blatantli': 4752, 'foil': 4753, 'alexandr': 4754, 'orphan': 4755, 'holocaust': 4756, 'jordan': 4757, 'misfortun': 4758, 'bondag': 4759, 'bikini': 4760, 'antholog': 4761, 'lui': 4762, 'lucil': 4763, 'jo': 4764, 'akin': 4765, 'razor': 4766, 'feast': 4767, 'venom': 4768, 'static': 4769, 'cerebr': 4770, 'northern': 4771, 'trier': 4772, 'mason': 4773, 'isra': 4774, 'winchest': 4775, 'gilbert': 4776, 'retriev': 4777, 'glare': 4778, 'feminin': 4779, 'knightley': 4780, 'audrey': 4781, 'ideolog': 4782, 'smack': 4783, 'swept': 4784, 'cartoonish': 4785, 'outdat': 4786, 'disregard': 4787, 'dudley': 4788, 'shorter': 4789, 'nightclub': 4790, 'frog': 4791, 'fifth': 4792, 'linear': 4793, 'charlton': 4794, 'deem': 4795, 'clinic': 4796, 'turd': 4797, 'psych': 4798, 'affleck': 4799, 'gunga': 4800, 'howl': 4801, 'leather': 4802, 'magician': 4803, 'peer': 4804, 'comprehend': 4805, 'boyer': 4806, 'tack': 4807, 'ceremoni': 4808, 'abund': 4809, 'huston': 4810, 'oppon': 4811, 'wrestler': 4812, 'highway': 4813, 'styliz': 4814, 'summar': 4815, 'tara': 4816, 'sleaz': 4817, 'plate': 4818, 'uniformli': 4819, 'boo': 4820, 'lifeless': 4821, 'durat': 4822, 'energet': 4823, 'toe': 4824, 'braveheart': 4825, 'corn': 4826, 'bastard': 4827, '4th': 4828, 'einstein': 4829, 'senat': 4830, 'greet': 4831, 'conrad': 4832, 'lighter': 4833, 'btw': 4834, 'chip': 4835, 'whack': 4836, 'bogu': 4837, 'phenomen': 4838, 'compris': 4839, 'spawn': 4840, 'breakdown': 4841, 'monument': 4842, '1994': 4843, 'lavish': 4844, 'spine': 4845, 'potter': 4846, 'client': 4847, 'moe': 4848, 'cuban': 4849, '1991': 4850, 'evolut': 4851, 'collector': 4852, 'cemeteri': 4853, 'snatch': 4854, 'deliver': 4855, 'goldsworthi': 4856, 'mitch': 4857, 'salman': 4858, 'newer': 4859, 'embark': 4860, 'sorrow': 4861, 'luxuri': 4862, '1974': 4863, 'inaccuraci': 4864, 'creek': 4865, 'signal': 4866, 'jam': 4867, 'undead': 4868, 'firmli': 4869, 'alleg': 4870, 'historian': 4871, 'bulk': 4872, 'wtf': 4873, '1977': 4874, 'lex': 4875, 'cecil': 4876, 'randolph': 4877, 'ie': 4878, 'jare': 4879, 'constitut': 4880, 'capot': 4881, 'occup': 4882, 'replay': 4883, 'kent': 4884, 'spectacl': 4885, 'pronounc': 4886, 'jedi': 4887, 'belli': 4888, 'eleven': 4889, 'bori': 4890, 'ol': 4891, 'appl': 4892, 'mcqueen': 4893, 'fluid': 4894, 'clara': 4895, 'healthi': 4896, 'judd': 4897, 'neatli': 4898, 'trauma': 4899, 'outright': 4900, 'liu': 4901, 'gilliam': 4902, 'evelyn': 4903, 'nina': 4904, 'armstrong': 4905, 'undertak': 4906, 'jule': 4907, 'kazan': 4908, 'comb': 4909, 'rosario': 4910, 'groan': 4911, 'bait': 4912, 'relentless': 4913, 'antonio': 4914, 'sidewalk': 4915, 'inaccur': 4916, 'forgiven': 4917, 'curtain': 4918, 'conan': 4919, 'inclus': 4920, '1985': 4921, 'knee': 4922, 'ash': 4923, 'blur': 4924, 'vain': 4925, 'bsg': 4926, 'paula': 4927, 'pioneer': 4928, 'walt': 4929, 'sacrif': 4930, 'unsuspect': 4931, 'genet': 4932, 'decapit': 4933, 'palm': 4934, 'poker': 4935, 'pepper': 4936, 'congratul': 4937, 'tokyo': 4938, 'propheci': 4939, 'subtli': 4940, 'lauren': 4941, 'basket': 4942, 'goldblum': 4943, 'id': 4944, 'aussi': 4945, 'truman': 4946, 'miami': 4947, 'spray': 4948, 'miniseri': 4949, 'abound': 4950, 'galaxi': 4951, 'meal': 4952, 'kiddi': 4953, 'carmen': 4954, 'porter': 4955, 'unattract': 4956, 'mum': 4957, 'vignett': 4958, 'cape': 4959, 'roar': 4960, 'fruit': 4961, 'lanc': 4962, 'comprehens': 4963, 'detach': 4964, 'victorian': 4965, 'modest': 4966, 'epitom': 4967, 'assort': 4968, 'monti': 4969, 'playboy': 4970, 'profil': 4971, 'scariest': 4972, 'casper': 4973, 'frontal': 4974, 'masterson': 4975, 'mice': 4976, '21st': 4977, 'optimist': 4978, 'jill': 4979, 'drone': 4980, 'orchestr': 4981, 'vastli': 4982, 'asset': 4983, 'omin': 4984, 'rapidli': 4985, 'evan': 4986, 'dubiou': 4987, 'incorrect': 4988, 'reincarn': 4989, 'bravo': 4990, 'handicap': 4991, 'weaker': 4992, 'sparkl': 4993, 'turtl': 4994, 'verg': 4995, 'sophi': 4996, 'spill': 4997, 'scarfac': 4998, 'hackman': 4999}\n"
     ]
    }
   ],
   "source": [
    "print(word_dict)"
   ]
  },
  {
   "cell_type": "code",
   "execution_count": 19,
   "metadata": {},
   "outputs": [
    {
     "data": {
      "text/plain": [
       "4998"
      ]
     },
     "execution_count": 19,
     "metadata": {},
     "output_type": "execute_result"
    }
   ],
   "source": [
    "len(build_dict(train_X))"
   ]
  },
  {
   "cell_type": "markdown",
   "metadata": {},
   "source": [
    "**Question:** What are the five most frequently appearing (tokenized) words in the training set? Does it makes sense that these words appear frequently in the training set?"
   ]
  },
  {
   "cell_type": "code",
   "execution_count": 20,
   "metadata": {},
   "outputs": [
    {
     "data": {
      "text/plain": [
       "4998"
      ]
     },
     "execution_count": 20,
     "metadata": {},
     "output_type": "execute_result"
    }
   ],
   "source": [
    "len(word_dict.keys())"
   ]
  },
  {
   "cell_type": "code",
   "execution_count": 21,
   "metadata": {},
   "outputs": [],
   "source": [
    "# TODO: Use this space to determine the five most frequently appearing words in the training set.\n",
    "Five_most_frequently=None\n",
    "Twenty_most_frequently=None\n",
    "Twenty_most_frequently=list(word_dict.keys())[0:20]\n",
    "Five_most_frequently=list(word_dict.keys())[0:5]"
   ]
  },
  {
   "cell_type": "code",
   "execution_count": 22,
   "metadata": {},
   "outputs": [
    {
     "name": "stdout",
     "output_type": "stream",
     "text": [
      "['movi', 'film', 'one', 'like', 'time']\n"
     ]
    }
   ],
   "source": [
    "print(Five_most_frequently)"
   ]
  },
  {
   "cell_type": "code",
   "execution_count": 23,
   "metadata": {},
   "outputs": [
    {
     "name": "stdout",
     "output_type": "stream",
     "text": [
      "['movi', 'film', 'one', 'like', 'time', 'good', 'make', 'charact', 'get', 'see', 'watch', 'stori', 'even', 'would', 'realli', 'well', 'scene', 'look', 'show', 'much']\n"
     ]
    }
   ],
   "source": [
    "print(Twenty_most_frequently)"
   ]
  },
  {
   "cell_type": "markdown",
   "metadata": {},
   "source": [
    "**Answer:** The five most frequently appearing (tokenized) words in the training set is ['movi', 'film', 'one', 'like', 'time'] , yes it makes sense Because it reflects the truth and this is great we see that movi it started with 2 key and this was expectation and is started escalate and this is true."
   ]
  },
  {
   "cell_type": "markdown",
   "metadata": {},
   "source": [
    "### Save `word_dict`\n",
    "\n",
    "Later on when we construct an endpoint which processes a submitted review we will need to make use of the `word_dict` which we have created. As such, we will save it to a file now for future use."
   ]
  },
  {
   "cell_type": "code",
   "execution_count": 24,
   "metadata": {},
   "outputs": [],
   "source": [
    "data_dir = '../data/pytorch' # The folder we will use for storing data\n",
    "if not os.path.exists(data_dir): # Make sure that the folder exists\n",
    "    os.makedirs(data_dir)"
   ]
  },
  {
   "cell_type": "code",
   "execution_count": 25,
   "metadata": {},
   "outputs": [],
   "source": [
    "with open(os.path.join(data_dir, 'word_dict.pkl'), \"wb\") as f:\n",
    "    pickle.dump(word_dict, f)"
   ]
  },
  {
   "cell_type": "markdown",
   "metadata": {},
   "source": [
    "### Transform the reviews\n",
    "\n",
    "Now that we have our word dictionary which allows us to transform the words appearing in the reviews into integers, it is time to make use of it and convert our reviews to their integer sequence representation, making sure to pad or truncate to a fixed length, which in our case is `500`."
   ]
  },
  {
   "cell_type": "code",
   "execution_count": 26,
   "metadata": {},
   "outputs": [],
   "source": [
    "def convert_and_pad(word_dict, sentence, pad=500):\n",
    "    NOWORD = 0 # We will use 0 to represent the 'no word' category\n",
    "    INFREQ = 1 # and we use 1 to represent the infrequent words, i.e., words not appearing in word_dict\n",
    "    \n",
    "    working_sentence = [NOWORD] * pad\n",
    "    \n",
    "    for word_index, word in enumerate(sentence[:pad]):\n",
    "        if word in word_dict:\n",
    "            working_sentence[word_index] = word_dict[word]\n",
    "        else:\n",
    "            working_sentence[word_index] = INFREQ\n",
    "            \n",
    "    return working_sentence, min(len(sentence), pad)\n",
    "\n",
    "def convert_and_pad_data(word_dict, data, pad=500):\n",
    "    result = []\n",
    "    lengths = []\n",
    "    \n",
    "    for sentence in data:\n",
    "        converted, leng = convert_and_pad(word_dict, sentence, pad)\n",
    "        result.append(converted)\n",
    "        lengths.append(leng)\n",
    "        \n",
    "    return np.array(result), np.array(lengths)"
   ]
  },
  {
   "cell_type": "code",
   "execution_count": 27,
   "metadata": {},
   "outputs": [],
   "source": [
    "train_X, train_X_len = convert_and_pad_data(word_dict, train_X)\n",
    "test_X, test_X_len = convert_and_pad_data(word_dict, test_X)"
   ]
  },
  {
   "cell_type": "markdown",
   "metadata": {},
   "source": [
    "As a quick check to make sure that things are working as intended, check to see what one of the reviews in the training set looks like after having been processeed. Does this look reasonable? What is the length of a review in the training set?"
   ]
  },
  {
   "cell_type": "code",
   "execution_count": 28,
   "metadata": {},
   "outputs": [
    {
     "name": "stdout",
     "output_type": "stream",
     "text": [
      "[   1 1747  403    1    1  102 1327  409   45    1  587 2481  118 1557\n",
      "    1 4727  226  953   17  300  181   14    1 1598  102  409  304   80\n",
      "    3   39 1258 3665    1   72 3934  528    1    1 1763  118   95  648\n",
      "    1  327 1235   45   20    1  423    4 1692    7  328    1   14  252\n",
      "    1  119    8 1586  224    6 2149 4173  351  119  177 1219 3376   76\n",
      "    2  167    3  748  843  484   96 1259 3871  780 1090    0    0    0\n",
      "    0    0    0    0    0    0    0    0    0    0    0    0    0    0\n",
      "    0    0    0    0    0    0    0    0    0    0    0    0    0    0\n",
      "    0    0    0    0    0    0    0    0    0    0    0    0    0    0\n",
      "    0    0    0    0    0    0    0    0    0    0    0    0    0    0\n",
      "    0    0    0    0    0    0    0    0    0    0    0    0    0    0\n",
      "    0    0    0    0    0    0    0    0    0    0    0    0    0    0\n",
      "    0    0    0    0    0    0    0    0    0    0    0    0    0    0\n",
      "    0    0    0    0    0    0    0    0    0    0    0    0    0    0\n",
      "    0    0    0    0    0    0    0    0    0    0    0    0    0    0\n",
      "    0    0    0    0    0    0    0    0    0    0    0    0    0    0\n",
      "    0    0    0    0    0    0    0    0    0    0    0    0    0    0\n",
      "    0    0    0    0    0    0    0    0    0    0    0    0    0    0\n",
      "    0    0    0    0    0    0    0    0    0    0    0    0    0    0\n",
      "    0    0    0    0    0    0    0    0    0    0    0    0    0    0\n",
      "    0    0    0    0    0    0    0    0    0    0    0    0    0    0\n",
      "    0    0    0    0    0    0    0    0    0    0    0    0    0    0\n",
      "    0    0    0    0    0    0    0    0    0    0    0    0    0    0\n",
      "    0    0    0    0    0    0    0    0    0    0    0    0    0    0\n",
      "    0    0    0    0    0    0    0    0    0    0    0    0    0    0\n",
      "    0    0    0    0    0    0    0    0    0    0    0    0    0    0\n",
      "    0    0    0    0    0    0    0    0    0    0    0    0    0    0\n",
      "    0    0    0    0    0    0    0    0    0    0    0    0    0    0\n",
      "    0    0    0    0    0    0    0    0    0    0    0    0    0    0\n",
      "    0    0    0    0    0    0    0    0    0    0    0    0    0    0\n",
      "    0    0    0    0    0    0    0    0    0    0    0    0    0    0\n",
      "    0    0    0    0    0    0    0    0    0    0    0    0    0    0\n",
      "    0    0    0    0    0    0    0    0    0    0    0    0    0    0\n",
      "    0    0    0    0    0    0    0    0    0    0    0    0    0    0\n",
      "    0    0    0    0    0    0    0    0    0    0    0    0    0    0\n",
      "    0    0    0    0    0    0    0    0    0    0]\n"
     ]
    }
   ],
   "source": [
    "# Use this cell to examine one of the processed reviews to make sure everything is working as intended.\n",
    "print(train_X[10])"
   ]
  },
  {
   "cell_type": "code",
   "execution_count": 29,
   "metadata": {},
   "outputs": [
    {
     "name": "stdout",
     "output_type": "stream",
     "text": [
      "160\n"
     ]
    }
   ],
   "source": [
    "print(train_X_len[55])"
   ]
  },
  {
   "cell_type": "code",
   "execution_count": 30,
   "metadata": {
    "scrolled": true
   },
   "outputs": [
    {
     "name": "stdout",
     "output_type": "stream",
     "text": [
      "[  51   47 1933    2 3223  267    1   32  273   97 4108 2041  125  336\n",
      "   13   19 3445  127   51  110  238  318 2023  339   21  264 1200  339\n",
      " 1886 1157   62  122  145    2   43  281   33 1933 2689   56   36   14\n",
      "   10 1265 1200 3079 2198 3003 4289  757    5   89 3680 4480  321 2271\n",
      " 4421  532 1157   49   97    3 2623   44   72  775  476  524 1197   85\n",
      " 1471  374 1748  445  811   24 4007  297  756 1347 2170  522 3090    1\n",
      " 2043  310   48   81   45    1 3346 1552   53   43  111   25   17    2\n",
      "  748    4    0    0    0    0    0    0    0    0    0    0    0    0\n",
      "    0    0    0    0    0    0    0    0    0    0    0    0    0    0\n",
      "    0    0    0    0    0    0    0    0    0    0    0    0    0    0\n",
      "    0    0    0    0    0    0    0    0    0    0    0    0    0    0\n",
      "    0    0    0    0    0    0    0    0    0    0    0    0    0    0\n",
      "    0    0    0    0    0    0    0    0    0    0    0    0    0    0\n",
      "    0    0    0    0    0    0    0    0    0    0    0    0    0    0\n",
      "    0    0    0    0    0    0    0    0    0    0    0    0    0    0\n",
      "    0    0    0    0    0    0    0    0    0    0    0    0    0    0\n",
      "    0    0    0    0    0    0    0    0    0    0    0    0    0    0\n",
      "    0    0    0    0    0    0    0    0    0    0    0    0    0    0\n",
      "    0    0    0    0    0    0    0    0    0    0    0    0    0    0\n",
      "    0    0    0    0    0    0    0    0    0    0    0    0    0    0\n",
      "    0    0    0    0    0    0    0    0    0    0    0    0    0    0\n",
      "    0    0    0    0    0    0    0    0    0    0    0    0    0    0\n",
      "    0    0    0    0    0    0    0    0    0    0    0    0    0    0\n",
      "    0    0    0    0    0    0    0    0    0    0    0    0    0    0\n",
      "    0    0    0    0    0    0    0    0    0    0    0    0    0    0\n",
      "    0    0    0    0    0    0    0    0    0    0    0    0    0    0\n",
      "    0    0    0    0    0    0    0    0    0    0    0    0    0    0\n",
      "    0    0    0    0    0    0    0    0    0    0    0    0    0    0\n",
      "    0    0    0    0    0    0    0    0    0    0    0    0    0    0\n",
      "    0    0    0    0    0    0    0    0    0    0    0    0    0    0\n",
      "    0    0    0    0    0    0    0    0    0    0    0    0    0    0\n",
      "    0    0    0    0    0    0    0    0    0    0    0    0    0    0\n",
      "    0    0    0    0    0    0    0    0    0    0    0    0    0    0\n",
      "    0    0    0    0    0    0    0    0    0    0    0    0    0    0\n",
      "    0    0    0    0    0    0    0    0    0    0    0    0    0    0\n",
      "    0    0    0    0    0    0    0    0    0    0]\n"
     ]
    }
   ],
   "source": [
    "print(test_X[10])"
   ]
  },
  {
   "cell_type": "code",
   "execution_count": 31,
   "metadata": {},
   "outputs": [
    {
     "name": "stdout",
     "output_type": "stream",
     "text": [
      "87\n"
     ]
    }
   ],
   "source": [
    "print(test_X_len[55])"
   ]
  },
  {
   "cell_type": "markdown",
   "metadata": {},
   "source": [
    "**Question:** In the cells above we use the `preprocess_data` and `convert_and_pad_data` methods to process both the training and testing set. Why or why not might this be a problem?"
   ]
  },
  {
   "cell_type": "markdown",
   "metadata": {},
   "source": [
    "**Answer:** Great for category the reviews into integers(0,1)\n",
    "0:represent the 'no word' category 1:represent the infrequent words, i.e., words not appearing in word_dict, I just think that might this to be a problem for a lose some information Why may  lose some information because we have fixed length (pad=500) what dose this mean it means if we have length input greater than  the  fixed length(500 cher) in this case may we lose some information."
   ]
  },
  {
   "cell_type": "markdown",
   "metadata": {},
   "source": [
    "## Step 3: Upload the data to S3\n",
    "\n",
    "As in the XGBoost notebook, we will need to upload the training dataset to S3 in order for our training code to access it. For now we will save it locally and we will upload to S3 later on.\n",
    "\n",
    "### Save the processed training dataset locally\n",
    "\n",
    "It is important to note the format of the data that we are saving as we will need to know it when we write the training code. In our case, each row of the dataset has the form `label`, `length`, `review[500]` where `review[500]` is a sequence of `500` integers representing the words in the review."
   ]
  },
  {
   "cell_type": "code",
   "execution_count": 32,
   "metadata": {},
   "outputs": [],
   "source": [
    "import pandas as pd\n",
    "    \n",
    "pd.concat([pd.DataFrame(train_y), pd.DataFrame(train_X_len), pd.DataFrame(train_X)], axis=1) \\\n",
    "        .to_csv(os.path.join(data_dir, 'train.csv'), header=False, index=False)"
   ]
  },
  {
   "cell_type": "markdown",
   "metadata": {},
   "source": [
    "### Uploading the training data\n",
    "\n",
    "\n",
    "Next, we need to upload the training data to the SageMaker default S3 bucket so that we can provide access to it while training our model."
   ]
  },
  {
   "cell_type": "code",
   "execution_count": 33,
   "metadata": {},
   "outputs": [],
   "source": [
    "import sagemaker\n",
    "\n",
    "sagemaker_session = sagemaker.Session()\n",
    "\n",
    "bucket = sagemaker_session.default_bucket()\n",
    "prefix = 'sagemaker/sentiment_rnn'\n",
    "\n",
    "role = sagemaker.get_execution_role()"
   ]
  },
  {
   "cell_type": "code",
   "execution_count": 34,
   "metadata": {},
   "outputs": [],
   "source": [
    "input_data = sagemaker_session.upload_data(path=data_dir, bucket=bucket, key_prefix=prefix)"
   ]
  },
  {
   "cell_type": "markdown",
   "metadata": {},
   "source": [
    "**NOTE:** The cell above uploads the entire contents of our data directory. This includes the `word_dict.pkl` file. This is fortunate as we will need this later on when we create an endpoint that accepts an arbitrary review. For now, we will just take note of the fact that it resides in the data directory (and so also in the S3 training bucket) and that we will need to make sure it gets saved in the model directory."
   ]
  },
  {
   "cell_type": "markdown",
   "metadata": {},
   "source": [
    "## Step 4: Build and Train the PyTorch Model\n",
    "\n",
    "In the XGBoost notebook we discussed what a model is in the SageMaker framework. In particular, a model comprises three objects\n",
    "\n",
    " - Model Artifacts,\n",
    " - Training Code, and\n",
    " - Inference Code,\n",
    " \n",
    "each of which interact with one another. In the XGBoost example we used training and inference code that was provided by Amazon. Here we will still be using containers provided by Amazon with the added benefit of being able to include our own custom code.\n",
    "\n",
    "We will start by implementing our own neural network in PyTorch along with a training script. For the purposes of this project we have provided the necessary model object in the `model.py` file, inside of the `train` folder. You can see the provided implementation by running the cell below."
   ]
  },
  {
   "cell_type": "code",
   "execution_count": 35,
   "metadata": {},
   "outputs": [
    {
     "name": "stdout",
     "output_type": "stream",
     "text": [
      "\u001b[34mimport\u001b[39;49;00m \u001b[04m\u001b[36mtorch\u001b[39;49;00m\u001b[04m\u001b[36m.\u001b[39;49;00m\u001b[04m\u001b[36mnn\u001b[39;49;00m \u001b[34mas\u001b[39;49;00m \u001b[04m\u001b[36mnn\u001b[39;49;00m\r\n",
      "\r\n",
      "\u001b[34mclass\u001b[39;49;00m \u001b[04m\u001b[32mLSTMClassifier\u001b[39;49;00m(nn.Module):\r\n",
      "    \u001b[33m\"\"\"\u001b[39;49;00m\r\n",
      "\u001b[33m    This is the simple RNN model we will be using to perform Sentiment Analysis.\u001b[39;49;00m\r\n",
      "\u001b[33m    \"\"\"\u001b[39;49;00m\r\n",
      "\r\n",
      "    \u001b[34mdef\u001b[39;49;00m \u001b[32m__init__\u001b[39;49;00m(\u001b[36mself\u001b[39;49;00m, embedding_dim, hidden_dim, vocab_size):\r\n",
      "        \u001b[33m\"\"\"\u001b[39;49;00m\r\n",
      "\u001b[33m        Initialize the model by settingg up the various layers.\u001b[39;49;00m\r\n",
      "\u001b[33m        \"\"\"\u001b[39;49;00m\r\n",
      "        \u001b[36msuper\u001b[39;49;00m(LSTMClassifier, \u001b[36mself\u001b[39;49;00m).\u001b[32m__init__\u001b[39;49;00m()\r\n",
      "\r\n",
      "        \u001b[36mself\u001b[39;49;00m.embedding = nn.Embedding(vocab_size, embedding_dim, padding_idx=\u001b[34m0\u001b[39;49;00m)\r\n",
      "        \u001b[36mself\u001b[39;49;00m.lstm = nn.LSTM(embedding_dim, hidden_dim)\r\n",
      "        \u001b[36mself\u001b[39;49;00m.dense = nn.Linear(in_features=hidden_dim, out_features=\u001b[34m1\u001b[39;49;00m)\r\n",
      "        \u001b[36mself\u001b[39;49;00m.sig = nn.Sigmoid()\r\n",
      "        \r\n",
      "        \u001b[36mself\u001b[39;49;00m.word_dict = \u001b[34mNone\u001b[39;49;00m\r\n",
      "\r\n",
      "    \u001b[34mdef\u001b[39;49;00m \u001b[32mforward\u001b[39;49;00m(\u001b[36mself\u001b[39;49;00m, x):\r\n",
      "        \u001b[33m\"\"\"\u001b[39;49;00m\r\n",
      "\u001b[33m        Perform a forward pass of our model on some input.\u001b[39;49;00m\r\n",
      "\u001b[33m        \"\"\"\u001b[39;49;00m\r\n",
      "        x = x.t()\r\n",
      "        lengths = x[\u001b[34m0\u001b[39;49;00m,:]\r\n",
      "        reviews = x[\u001b[34m1\u001b[39;49;00m:,:]\r\n",
      "        embeds = \u001b[36mself\u001b[39;49;00m.embedding(reviews)\r\n",
      "        lstm_out, _ = \u001b[36mself\u001b[39;49;00m.lstm(embeds)\r\n",
      "        out = \u001b[36mself\u001b[39;49;00m.dense(lstm_out)\r\n",
      "        out = out[lengths - \u001b[34m1\u001b[39;49;00m, \u001b[36mrange\u001b[39;49;00m(\u001b[36mlen\u001b[39;49;00m(lengths))]\r\n",
      "        \u001b[34mreturn\u001b[39;49;00m \u001b[36mself\u001b[39;49;00m.sig(out.squeeze())\r\n"
     ]
    }
   ],
   "source": [
    "!pygmentize train/model.py"
   ]
  },
  {
   "cell_type": "markdown",
   "metadata": {},
   "source": [
    "The important takeaway from the implementation provided is that there are three parameters that we may wish to tweak to improve the performance of our model. These are the embedding dimension, the hidden dimension and the size of the vocabulary. We will likely want to make these parameters configurable in the training script so that if we wish to modify them we do not need to modify the script itself. We will see how to do this later on. To start we will write some of the training code in the notebook so that we can more easily diagnose any issues that arise.\n",
    "\n",
    "First we will load a small portion of the training data set to use as a sample. It would be very time consuming to try and train the model completely in the notebook as we do not have access to a gpu and the compute instance that we are using is not particularly powerful. However, we can work on a small bit of the data to get a feel for how our training script is behaving."
   ]
  },
  {
   "cell_type": "code",
   "execution_count": 36,
   "metadata": {},
   "outputs": [],
   "source": [
    "import torch\n",
    "import torch.utils.data\n",
    "\n",
    "# Read in only the first 250 rows\n",
    "train_sample = pd.read_csv(os.path.join(data_dir, 'train.csv'), header=None, names=None, nrows=250)\n",
    "\n",
    "# Turn the input pandas dataframe into tensors\n",
    "train_sample_y = torch.from_numpy(train_sample[[0]].values).float().squeeze()\n",
    "train_sample_X = torch.from_numpy(train_sample.drop([0], axis=1).values).long()\n",
    "\n",
    "# Build the dataset\n",
    "train_sample_ds = torch.utils.data.TensorDataset(train_sample_X, train_sample_y)\n",
    "# Build the dataloader\n",
    "train_sample_dl = torch.utils.data.DataLoader(train_sample_ds, batch_size=50)"
   ]
  },
  {
   "cell_type": "markdown",
   "metadata": {},
   "source": [
    "### (TODO) Writing the training method\n",
    "\n",
    "Next we need to write the training code itself. This should be very similar to training methods that you have written before to train PyTorch models. We will leave any difficult aspects such as model saving / loading and parameter loading until a little later."
   ]
  },
  {
   "cell_type": "code",
   "execution_count": 37,
   "metadata": {},
   "outputs": [],
   "source": [
    "def train(model, train_loader, epochs, optimizer, loss_fn, device):\n",
    "    for epoch in range(1, epochs + 1):\n",
    "        model.train()\n",
    "        total_loss = 0\n",
    "        for batch in train_loader:         \n",
    "            batch_X, batch_y = batch\n",
    "            \n",
    "            batch_X = batch_X.to(device)\n",
    "            batch_y = batch_y.to(device)\n",
    "            # TODO: Complete this train method to train the model provided.\n",
    "            #Optimizer\n",
    "            optimizer.zero_grad()\n",
    "            #batchX_OU_model=None\n",
    "            batchX_OU_model=model(batch_X)\n",
    "            # call loss_fn\n",
    "            #loss_result=None\n",
    "            loss_result=loss_fn(batchX_OU_model, batch_y)\n",
    "            loss_result.backward()\n",
    "            optimizer.step()\n",
    "            total_loss += loss_result.data.item()\n",
    "        print(\"Epoch: {}, BCELoss: {}\".format(epoch, total_loss / len(train_loader)))"
   ]
  },
  {
   "cell_type": "markdown",
   "metadata": {},
   "source": [
    "Supposing we have the training method above, we will test that it is working by writing a bit of code in the notebook that executes our training method on the small sample training set that we loaded earlier. The reason for doing this in the notebook is so that we have an opportunity to fix any errors that arise early when they are easier to diagnose."
   ]
  },
  {
   "cell_type": "code",
   "execution_count": 38,
   "metadata": {},
   "outputs": [
    {
     "name": "stdout",
     "output_type": "stream",
     "text": [
      "Epoch: 1, BCELoss: 0.69475759267807\n",
      "Epoch: 2, BCELoss: 0.6851401329040527\n",
      "Epoch: 3, BCELoss: 0.6768843054771423\n",
      "Epoch: 4, BCELoss: 0.6679085493087769\n",
      "Epoch: 5, BCELoss: 0.657328748703003\n"
     ]
    }
   ],
   "source": [
    "import torch.optim as optim\n",
    "from train.model import LSTMClassifier\n",
    "\n",
    "device = torch.device(\"cuda\" if torch.cuda.is_available() else \"cpu\")\n",
    "model = LSTMClassifier(32, 100, 5000).to(device)\n",
    "optimizer = optim.Adam(model.parameters())\n",
    "loss_fn = torch.nn.BCELoss()\n",
    "\n",
    "train(model, train_sample_dl, 5, optimizer, loss_fn, device)"
   ]
  },
  {
   "cell_type": "markdown",
   "metadata": {},
   "source": [
    "In order to construct a PyTorch model using SageMaker we must provide SageMaker with a training script. We may optionally include a directory which will be copied to the container and from which our training code will be run. When the training container is executed it will check the uploaded directory (if there is one) for a `requirements.txt` file and install any required Python libraries, after which the training script will be run."
   ]
  },
  {
   "cell_type": "markdown",
   "metadata": {},
   "source": [
    "### (TODO) Training the model\n",
    "\n",
    "When a PyTorch model is constructed in SageMaker, an entry point must be specified. This is the Python file which will be executed when the model is trained. Inside of the `train` directory is a file called `train.py` which has been provided and which contains most of the necessary code to train our model. The only thing that is missing is the implementation of the `train()` method which you wrote earlier in this notebook.\n",
    "\n",
    "**TODO**: Copy the `train()` method written above and paste it into the `train/train.py` file where required.\n",
    "\n",
    "The way that SageMaker passes hyperparameters to the training script is by way of arguments. These arguments can then be parsed and used in the training script. To see how this is done take a look at the provided `train/train.py` file."
   ]
  },
  {
   "cell_type": "code",
   "execution_count": 39,
   "metadata": {},
   "outputs": [],
   "source": [
    "from sagemaker.pytorch import PyTorch\n",
    "\n",
    "estimator = PyTorch(entry_point=\"train.py\",\n",
    "                    source_dir=\"train\",\n",
    "                    role=role,\n",
    "                    py_version=\"py3\",\n",
    "                    framework_version='1.5.0',\n",
    "                    train_instance_count=1,\n",
    "                    train_instance_type='ml.m4.xlarge',\n",
    "                    hyperparameters={\n",
    "                        'epochs': 10,\n",
    "                        'hidden_dim': 200,\n",
    "                    })"
   ]
  },
  {
   "cell_type": "code",
   "execution_count": null,
   "metadata": {},
   "outputs": [
    {
     "name": "stderr",
     "output_type": "stream",
     "text": [
      "'create_image_uri' will be deprecated in favor of 'ImageURIProvider' class in SageMaker Python SDK v2.\n",
      "'s3_input' class will be renamed to 'TrainingInput' in SageMaker Python SDK v2.\n",
      "'create_image_uri' will be deprecated in favor of 'ImageURIProvider' class in SageMaker Python SDK v2.\n"
     ]
    },
    {
     "name": "stdout",
     "output_type": "stream",
     "text": [
      "2021-10-04 17:24:06 Starting - Starting the training job...\n",
      "2021-10-04 17:24:08 Starting - Launching requested ML instances......\n",
      "2021-10-04 17:25:25 Starting - Preparing the instances for training............\n",
      "2021-10-04 17:27:18 Downloading - Downloading input data...\n",
      "2021-10-04 17:28:05 Training - Downloading the training image...\n",
      "2021-10-04 17:28:25 Training - Training image download completed. Training in progress.\u001b[34mbash: cannot set terminal process group (-1): Inappropriate ioctl for device\u001b[0m\n",
      "\u001b[34mbash: no job control in this shell\u001b[0m\n",
      "\u001b[34m2021-10-04 17:28:25,938 sagemaker-training-toolkit INFO     Imported framework sagemaker_pytorch_container.training\u001b[0m\n",
      "\u001b[34m2021-10-04 17:28:25,952 sagemaker-training-toolkit INFO     No GPUs detected (normal if no gpus installed)\u001b[0m\n",
      "\u001b[34m2021-10-04 17:28:25,964 sagemaker_pytorch_container.training INFO     Block until all host DNS lookups succeed.\u001b[0m\n",
      "\u001b[34m2021-10-04 17:28:29,056 sagemaker_pytorch_container.training INFO     Invoking user training script.\u001b[0m\n",
      "\u001b[34m2021-10-04 17:28:29,470 sagemaker-training-toolkit INFO     Installing dependencies from requirements.txt:\u001b[0m\n",
      "\u001b[34m/opt/conda/bin/python3.6 -m pip install -r requirements.txt\u001b[0m\n",
      "\u001b[34mRequirement already satisfied: pandas in /opt/conda/lib/python3.6/site-packages (from -r requirements.txt (line 1)) (0.25.0)\u001b[0m\n",
      "\u001b[34mRequirement already satisfied: numpy in /opt/conda/lib/python3.6/site-packages (from -r requirements.txt (line 2)) (1.16.4)\u001b[0m\n",
      "\u001b[34mCollecting nltk\n",
      "  Downloading nltk-3.6.3-py3-none-any.whl (1.5 MB)\u001b[0m\n",
      "\u001b[34mRequirement already satisfied: beautifulsoup4 in /opt/conda/lib/python3.6/site-packages (from -r requirements.txt (line 4)) (4.9.3)\u001b[0m\n",
      "\u001b[34mCollecting html5lib\n",
      "  Downloading html5lib-1.1-py2.py3-none-any.whl (112 kB)\u001b[0m\n",
      "\u001b[34mRequirement already satisfied: soupsieve>1.2 in /opt/conda/lib/python3.6/site-packages (from beautifulsoup4->-r requirements.txt (line 4)) (2.2)\u001b[0m\n",
      "\u001b[34mCollecting webencodings\n",
      "  Downloading webencodings-0.5.1-py2.py3-none-any.whl (11 kB)\u001b[0m\n",
      "\u001b[34mRequirement already satisfied: six>=1.9 in /opt/conda/lib/python3.6/site-packages (from html5lib->-r requirements.txt (line 5)) (1.15.0)\u001b[0m\n",
      "\u001b[34mRequirement already satisfied: tqdm in /opt/conda/lib/python3.6/site-packages (from nltk->-r requirements.txt (line 3)) (4.56.0)\u001b[0m\n",
      "\u001b[34mCollecting regex\n",
      "  Downloading regex-2021.9.30-cp36-cp36m-manylinux_2_17_x86_64.manylinux2014_x86_64.whl (747 kB)\u001b[0m\n",
      "\u001b[34mRequirement already satisfied: click in /opt/conda/lib/python3.6/site-packages (from nltk->-r requirements.txt (line 3)) (7.1.2)\u001b[0m\n",
      "\u001b[34mRequirement already satisfied: joblib in /opt/conda/lib/python3.6/site-packages (from nltk->-r requirements.txt (line 3)) (1.0.1)\u001b[0m\n",
      "\u001b[34mRequirement already satisfied: python-dateutil>=2.6.1 in /opt/conda/lib/python3.6/site-packages (from pandas->-r requirements.txt (line 1)) (2.8.1)\u001b[0m\n",
      "\u001b[34mRequirement already satisfied: pytz>=2017.2 in /opt/conda/lib/python3.6/site-packages (from pandas->-r requirements.txt (line 1)) (2021.1)\u001b[0m\n",
      "\u001b[34mInstalling collected packages: webencodings, regex, nltk, html5lib\u001b[0m\n",
      "\u001b[34mSuccessfully installed html5lib-1.1 nltk-3.6.3 regex-2021.9.30 webencodings-0.5.1\n",
      "\u001b[0m\n",
      "\u001b[34m2021-10-04 17:28:33,950 sagemaker-training-toolkit INFO     No GPUs detected (normal if no gpus installed)\u001b[0m\n",
      "\u001b[34m2021-10-04 17:28:33,964 sagemaker-training-toolkit INFO     No GPUs detected (normal if no gpus installed)\u001b[0m\n",
      "\u001b[34m2021-10-04 17:28:33,979 sagemaker-training-toolkit INFO     No GPUs detected (normal if no gpus installed)\u001b[0m\n",
      "\u001b[34m2021-10-04 17:28:33,991 sagemaker-training-toolkit INFO     Invoking user script\n",
      "\u001b[0m\n",
      "\u001b[34mTraining Env:\n",
      "\u001b[0m\n",
      "\u001b[34m{\n",
      "    \"additional_framework_parameters\": {},\n",
      "    \"channel_input_dirs\": {\n",
      "        \"training\": \"/opt/ml/input/data/training\"\n",
      "    },\n",
      "    \"current_host\": \"algo-1\",\n",
      "    \"framework_module\": \"sagemaker_pytorch_container.training:main\",\n",
      "    \"hosts\": [\n",
      "        \"algo-1\"\n",
      "    ],\n",
      "    \"hyperparameters\": {\n",
      "        \"hidden_dim\": 200,\n",
      "        \"epochs\": 10\n",
      "    },\n",
      "    \"input_config_dir\": \"/opt/ml/input/config\",\n",
      "    \"input_data_config\": {\n",
      "        \"training\": {\n",
      "            \"TrainingInputMode\": \"File\",\n",
      "            \"S3DistributionType\": \"FullyReplicated\",\n",
      "            \"RecordWrapperType\": \"None\"\n",
      "        }\n",
      "    },\n",
      "    \"input_dir\": \"/opt/ml/input\",\n",
      "    \"is_master\": true,\n",
      "    \"job_name\": \"pytorch-training-2021-10-04-17-24-05-687\",\n",
      "    \"log_level\": 20,\n",
      "    \"master_hostname\": \"algo-1\",\n",
      "    \"model_dir\": \"/opt/ml/model\",\n",
      "    \"module_dir\": \"s3://sagemaker-us-east-1-166421488572/pytorch-training-2021-10-04-17-24-05-687/source/sourcedir.tar.gz\",\n",
      "    \"module_name\": \"train\",\n",
      "    \"network_interface_name\": \"eth0\",\n",
      "    \"num_cpus\": 4,\n",
      "    \"num_gpus\": 0,\n",
      "    \"output_data_dir\": \"/opt/ml/output/data\",\n",
      "    \"output_dir\": \"/opt/ml/output\",\n",
      "    \"output_intermediate_dir\": \"/opt/ml/output/intermediate\",\n",
      "    \"resource_config\": {\n",
      "        \"current_host\": \"algo-1\",\n",
      "        \"hosts\": [\n",
      "            \"algo-1\"\n",
      "        ],\n",
      "        \"network_interface_name\": \"eth0\"\n",
      "    },\n",
      "    \"user_entry_point\": \"train.py\"\u001b[0m\n",
      "\u001b[34m}\n",
      "\u001b[0m\n",
      "\u001b[34mEnvironment variables:\n",
      "\u001b[0m\n",
      "\u001b[34mSM_HOSTS=[\"algo-1\"]\u001b[0m\n",
      "\u001b[34mSM_NETWORK_INTERFACE_NAME=eth0\u001b[0m\n",
      "\u001b[34mSM_HPS={\"epochs\":10,\"hidden_dim\":200}\u001b[0m\n",
      "\u001b[34mSM_USER_ENTRY_POINT=train.py\u001b[0m\n",
      "\u001b[34mSM_FRAMEWORK_PARAMS={}\u001b[0m\n",
      "\u001b[34mSM_RESOURCE_CONFIG={\"current_host\":\"algo-1\",\"hosts\":[\"algo-1\"],\"network_interface_name\":\"eth0\"}\u001b[0m\n",
      "\u001b[34mSM_INPUT_DATA_CONFIG={\"training\":{\"RecordWrapperType\":\"None\",\"S3DistributionType\":\"FullyReplicated\",\"TrainingInputMode\":\"File\"}}\u001b[0m\n",
      "\u001b[34mSM_OUTPUT_DATA_DIR=/opt/ml/output/data\u001b[0m\n",
      "\u001b[34mSM_CHANNELS=[\"training\"]\u001b[0m\n",
      "\u001b[34mSM_CURRENT_HOST=algo-1\u001b[0m\n",
      "\u001b[34mSM_MODULE_NAME=train\u001b[0m\n",
      "\u001b[34mSM_LOG_LEVEL=20\u001b[0m\n",
      "\u001b[34mSM_FRAMEWORK_MODULE=sagemaker_pytorch_container.training:main\u001b[0m\n",
      "\u001b[34mSM_INPUT_DIR=/opt/ml/input\u001b[0m\n",
      "\u001b[34mSM_INPUT_CONFIG_DIR=/opt/ml/input/config\u001b[0m\n",
      "\u001b[34mSM_OUTPUT_DIR=/opt/ml/output\u001b[0m\n",
      "\u001b[34mSM_NUM_CPUS=4\u001b[0m\n",
      "\u001b[34mSM_NUM_GPUS=0\u001b[0m\n",
      "\u001b[34mSM_MODEL_DIR=/opt/ml/model\u001b[0m\n",
      "\u001b[34mSM_MODULE_DIR=s3://sagemaker-us-east-1-166421488572/pytorch-training-2021-10-04-17-24-05-687/source/sourcedir.tar.gz\u001b[0m\n",
      "\u001b[34mSM_TRAINING_ENV={\"additional_framework_parameters\":{},\"channel_input_dirs\":{\"training\":\"/opt/ml/input/data/training\"},\"current_host\":\"algo-1\",\"framework_module\":\"sagemaker_pytorch_container.training:main\",\"hosts\":[\"algo-1\"],\"hyperparameters\":{\"epochs\":10,\"hidden_dim\":200},\"input_config_dir\":\"/opt/ml/input/config\",\"input_data_config\":{\"training\":{\"RecordWrapperType\":\"None\",\"S3DistributionType\":\"FullyReplicated\",\"TrainingInputMode\":\"File\"}},\"input_dir\":\"/opt/ml/input\",\"is_master\":true,\"job_name\":\"pytorch-training-2021-10-04-17-24-05-687\",\"log_level\":20,\"master_hostname\":\"algo-1\",\"model_dir\":\"/opt/ml/model\",\"module_dir\":\"s3://sagemaker-us-east-1-166421488572/pytorch-training-2021-10-04-17-24-05-687/source/sourcedir.tar.gz\",\"module_name\":\"train\",\"network_interface_name\":\"eth0\",\"num_cpus\":4,\"num_gpus\":0,\"output_data_dir\":\"/opt/ml/output/data\",\"output_dir\":\"/opt/ml/output\",\"output_intermediate_dir\":\"/opt/ml/output/intermediate\",\"resource_config\":{\"current_host\":\"algo-1\",\"hosts\":[\"algo-1\"],\"network_interface_name\":\"eth0\"},\"user_entry_point\":\"train.py\"}\u001b[0m\n",
      "\u001b[34mSM_USER_ARGS=[\"--epochs\",\"10\",\"--hidden_dim\",\"200\"]\u001b[0m\n",
      "\u001b[34mSM_OUTPUT_INTERMEDIATE_DIR=/opt/ml/output/intermediate\u001b[0m\n",
      "\u001b[34mSM_CHANNEL_TRAINING=/opt/ml/input/data/training\u001b[0m\n",
      "\u001b[34mSM_HP_HIDDEN_DIM=200\u001b[0m\n",
      "\u001b[34mSM_HP_EPOCHS=10\u001b[0m\n",
      "\u001b[34mPYTHONPATH=/opt/ml/code:/opt/conda/bin:/opt/conda/lib/python36.zip:/opt/conda/lib/python3.6:/opt/conda/lib/python3.6/lib-dynload:/opt/conda/lib/python3.6/site-packages\n",
      "\u001b[0m\n",
      "\u001b[34mInvoking script with the following command:\n",
      "\u001b[0m\n",
      "\u001b[34m/opt/conda/bin/python3.6 train.py --epochs 10 --hidden_dim 200\n",
      "\n",
      "\u001b[0m\n",
      "\u001b[34mUsing device cpu.\u001b[0m\n",
      "\u001b[34mGet train data loader.\u001b[0m\n",
      "\u001b[34mModel loaded with embedding_dim 32, hidden_dim 200, vocab_size 5000.\u001b[0m\n",
      "\u001b[34m[2021-10-04 17:28:39.446 algo-1:32 INFO json_config.py:90] Creating hook from json_config at /opt/ml/input/config/debughookconfig.json.\u001b[0m\n",
      "\u001b[34m[2021-10-04 17:28:39.446 algo-1:32 INFO hook.py:192] tensorboard_dir has not been set for the hook. SMDebug will not be exporting tensorboard summaries.\u001b[0m\n",
      "\u001b[34m[2021-10-04 17:28:39.446 algo-1:32 INFO hook.py:237] Saving to /opt/ml/output/tensors\u001b[0m\n",
      "\u001b[34m[2021-10-04 17:28:39.446 algo-1:32 INFO state_store.py:67] The checkpoint config file /opt/ml/input/config/checkpointconfig.json does not exist.\u001b[0m\n",
      "\u001b[34m[2021-10-04 17:28:39.447 algo-1:32 INFO hook.py:382] Monitoring the collections: losses\u001b[0m\n",
      "\u001b[34m[2021-10-04 17:28:39.448 algo-1:32 INFO hook.py:443] Hook is writing from the hook with pid: 32\n",
      "\u001b[0m\n",
      "\u001b[34mEpoch: 1, BCELoss: 0.666068260767022\u001b[0m\n",
      "\u001b[34mEpoch: 2, BCELoss: 0.6020906141826085\u001b[0m\n",
      "\u001b[34mEpoch: 3, BCELoss: 0.5183596769157721\u001b[0m\n",
      "\u001b[34mEpoch: 4, BCELoss: 0.4617459202299313\u001b[0m\n",
      "\u001b[34mEpoch: 5, BCELoss: 0.4187319357784427\u001b[0m\n",
      "\u001b[34mEpoch: 6, BCELoss: 0.37458297062893303\u001b[0m\n",
      "\u001b[34mEpoch: 7, BCELoss: 0.3704697720858516\u001b[0m\n",
      "\u001b[34mEpoch: 8, BCELoss: 0.38286569897009404\u001b[0m\n",
      "\u001b[34mEpoch: 9, BCELoss: 0.3105109291417258\u001b[0m\n",
      "\u001b[34mEpoch: 10, BCELoss: 0.28764124853270395\n",
      "\u001b[0m\n",
      "\u001b[34m2021-10-04 18:12:33,769 sagemaker-training-toolkit INFO     Reporting training SUCCESS\u001b[0m\n",
      "\n",
      "2021-10-04 18:13:45 Uploading - Uploading generated training model\n",
      "2021-10-04 18:13:45 Completed - Training job completed\n",
      "Training seconds: 2787\n",
      "Billable seconds: 2787\n"
     ]
    }
   ],
   "source": [
    "estimator.fit({'training': input_data})"
   ]
  },
  {
   "cell_type": "markdown",
   "metadata": {},
   "source": [
    "## Step 5: Testing the model\n",
    "\n",
    "As mentioned at the top of this notebook, we will be testing this model by first deploying it and then sending the testing data to the deployed endpoint. We will do this so that we can make sure that the deployed model is working correctly.\n",
    "\n",
    "## Step 6: Deploy the model for testing\n",
    "\n",
    "Now that we have trained our model, we would like to test it to see how it performs. Currently our model takes input of the form `review_length, review[500]` where `review[500]` is a sequence of `500` integers which describe the words present in the review, encoded using `word_dict`. Fortunately for us, SageMaker provides built-in inference code for models with simple inputs such as this.\n",
    "\n",
    "There is one thing that we need to provide, however, and that is a function which loads the saved model. This function must be called `model_fn()` and takes as its only parameter a path to the directory where the model artifacts are stored. This function must also be present in the python file which we specified as the entry point. In our case the model loading function has been provided and so no changes need to be made.\n",
    "\n",
    "**NOTE**: When the built-in inference code is run it must import the `model_fn()` method from the `train.py` file. This is why the training code is wrapped in a main guard ( ie, `if __name__ == '__main__':` )\n",
    "\n",
    "Since we don't need to change anything in the code that was uploaded during training, we can simply deploy the current model as-is.\n",
    "\n",
    "**NOTE:** When deploying a model you are asking SageMaker to launch an compute instance that will wait for data to be sent to it. As a result, this compute instance will continue to run until *you* shut it down. This is important to know since the cost of a deployed endpoint depends on how long it has been running for.\n",
    "\n",
    "In other words **If you are no longer using a deployed endpoint, shut it down!**\n",
    "\n",
    "**TODO:** Deploy the trained model."
   ]
  },
  {
   "cell_type": "code",
   "execution_count": null,
   "metadata": {},
   "outputs": [
    {
     "name": "stderr",
     "output_type": "stream",
     "text": [
      "Parameter image will be renamed to image_uri in SageMaker Python SDK v2.\n",
      "'create_image_uri' will be deprecated in favor of 'ImageURIProvider' class in SageMaker Python SDK v2.\n"
     ]
    },
    {
     "name": "stdout",
     "output_type": "stream",
     "text": [
      "--------!"
     ]
    }
   ],
   "source": [
    "# TODO: Deploy the trained model\n",
    "# predictor = None\n",
    "predictor= estimator.deploy(initial_instance_count=1, instance_type='ml.m4.xlarge')"
   ]
  },
  {
   "cell_type": "markdown",
   "metadata": {},
   "source": [
    "## Step 7 - Use the model for testing\n",
    "\n",
    "Once deployed, we can read in the test data and send it off to our deployed model to get some results. Once we collect all of the results we can determine how accurate our model is."
   ]
  },
  {
   "cell_type": "code",
   "execution_count": null,
   "metadata": {},
   "outputs": [],
   "source": [
    "test_X = pd.concat([pd.DataFrame(test_X_len), pd.DataFrame(test_X)], axis=1)"
   ]
  },
  {
   "cell_type": "code",
   "execution_count": null,
   "metadata": {},
   "outputs": [],
   "source": [
    "# We split the data into chunks and send each chunk seperately, accumulating the results.\n",
    "\n",
    "def predict(data, rows=512):\n",
    "    split_array = np.array_split(data, int(data.shape[0] / float(rows) + 1))\n",
    "    predictions = np.array([])\n",
    "    for array in split_array:\n",
    "        predictions = np.append(predictions, predictor.predict(array))\n",
    "    \n",
    "    return predictions"
   ]
  },
  {
   "cell_type": "code",
   "execution_count": null,
   "metadata": {},
   "outputs": [],
   "source": [
    "predictions = predict(test_X.values)\n",
    "predictions = [round(num) for num in predictions]"
   ]
  },
  {
   "cell_type": "code",
   "execution_count": null,
   "metadata": {},
   "outputs": [
    {
     "data": {
      "text/plain": [
       "0.84736"
      ]
     },
     "execution_count": 45,
     "metadata": {},
     "output_type": "execute_result"
    }
   ],
   "source": [
    "from sklearn.metrics import accuracy_score\n",
    "accuracy_score(test_y, predictions)"
   ]
  },
  {
   "cell_type": "markdown",
   "metadata": {},
   "source": [
    "**Question:** How does this model compare to the XGBoost model you created earlier? Why might these two models perform differently on this dataset? Which do *you* think is better for sentiment analysis?"
   ]
  },
  {
   "cell_type": "markdown",
   "metadata": {},
   "source": [
    "**Answer:** In my opinion i think the better for sentiment analysis is XGBoos model  because is achieved accuracy great than our LSTM model  and the difference in accuracy between two models is very small."
   ]
  },
  {
   "cell_type": "markdown",
   "metadata": {},
   "source": [
    "### (TODO) More testing\n",
    "\n",
    "We now have a trained model which has been deployed and which we can send processed reviews to and which returns the predicted sentiment. However, ultimately we would like to be able to send our model an unprocessed review. That is, we would like to send the review itself as a string. For example, suppose we wish to send the following review to our model."
   ]
  },
  {
   "cell_type": "code",
   "execution_count": null,
   "metadata": {},
   "outputs": [],
   "source": [
    "test_review = 'The simplest pleasures in life are the best, and this film is one of them. Combining a rather basic storyline of love and adventure this movie transcends the usual weekend fair with wit and unmitigated charm.'"
   ]
  },
  {
   "cell_type": "markdown",
   "metadata": {},
   "source": [
    "The question we now need to answer is, how do we send this review to our model?\n",
    "\n",
    "Recall in the first section of this notebook we did a bunch of data processing to the IMDb dataset. In particular, we did two specific things to the provided reviews.\n",
    " - Removed any html tags and stemmed the input\n",
    " - Encoded the review as a sequence of integers using `word_dict`\n",
    " \n",
    "In order process the review we will need to repeat these two steps.\n",
    "\n",
    "**TODO**: Using the `review_to_words` and `convert_and_pad` methods from section one, convert `test_review` into a numpy array `test_data` suitable to send to our model. Remember that our model expects input of the form `review_length, review[500]`. So make sure you produce two variables from processing: \n",
    "- A sequence of length 500 which represents the converted review\n",
    "- The length of the review"
   ]
  },
  {
   "cell_type": "code",
   "execution_count": null,
   "metadata": {},
   "outputs": [],
   "source": [
    "# TODO: Convert test_review into a form usable by the model and save the results in test_data\n",
    "#test_review_data=None\n",
    "#test_review_data = review_to_words(test_review) # Using the \"review_to_words\" method\n",
    "#print(test_review_data[0:15])\n",
    "#test_convert_pd_data=None\n",
    "#test_convert_pd_data= convert_and_pad(word_dict, test_review_data) # Using the \"convert_and_pad method\" from section one\n",
    "#Convert test_review into a numpy array \n",
    "#test_data=None\n",
    "#test_data= [np.array(test_convert_pd_data[0])]\n",
    "#test_data = [np.array(convert_and_pad(word_dict, test_review_data)[0])]  \n",
    "#shape_test_data=None\n",
    "#shape_test_data=test_data.shape()\n",
    "#print(shape_test_data)\n",
    "#len_test_data=None\n",
    "#len_test_data=len(test_data)\n",
    "#print(len_test_data)\n",
    "#print(test_review)"
   ]
  },
  {
   "cell_type": "code",
   "execution_count": null,
   "metadata": {},
   "outputs": [],
   "source": [
    "review_list, review_length = convert_and_pad(word_dict, review_to_words(test_review))\n",
    "test_data = [np.array([review_length] + review_list)]"
   ]
  },
  {
   "cell_type": "markdown",
   "metadata": {},
   "source": [
    "Now that we have processed the review, we can send the resulting array to our model to predict the sentiment of the review."
   ]
  },
  {
   "cell_type": "code",
   "execution_count": null,
   "metadata": {},
   "outputs": [
    {
     "data": {
      "text/plain": [
       "array(0.91202253)"
      ]
     },
     "execution_count": 49,
     "metadata": {},
     "output_type": "execute_result"
    }
   ],
   "source": [
    "predictor.predict(test_data)"
   ]
  },
  {
   "cell_type": "markdown",
   "metadata": {},
   "source": [
    "Since the return value of our model is close to `1`, we can be certain that the review we submitted is positive."
   ]
  },
  {
   "cell_type": "markdown",
   "metadata": {},
   "source": [
    "### Delete the endpoint\n",
    "\n",
    "Of course, just like in the XGBoost notebook, once we've deployed an endpoint it continues to run until we tell it to shut down. Since we are done using our endpoint for now, we can delete it."
   ]
  },
  {
   "cell_type": "code",
   "execution_count": null,
   "metadata": {},
   "outputs": [],
   "source": [
    "#estimator.delete_endpoint()\n",
    "#estimator.delete_endpoint()"
   ]
  },
  {
   "cell_type": "markdown",
   "metadata": {},
   "source": [
    "## Step 6 (again) - Deploy the model for the web app\n",
    "\n",
    "Now that we know that our model is working, it's time to create some custom inference code so that we can send the model a review which has not been processed and have it determine the sentiment of the review.\n",
    "\n",
    "As we saw above, by default the estimator which we created, when deployed, will use the entry script and directory which we provided when creating the model. However, since we now wish to accept a string as input and our model expects a processed review, we need to write some custom inference code.\n",
    "\n",
    "We will store the code that we write in the `serve` directory. Provided in this directory is the `model.py` file that we used to construct our model, a `utils.py` file which contains the `review_to_words` and `convert_and_pad` pre-processing functions which we used during the initial data processing, and `predict.py`, the file which will contain our custom inference code. Note also that `requirements.txt` is present which will tell SageMaker what Python libraries are required by our custom inference code.\n",
    "\n",
    "When deploying a PyTorch model in SageMaker, you are expected to provide four functions which the SageMaker inference container will use.\n",
    " - `model_fn`: This function is the same function that we used in the training script and it tells SageMaker how to load our model.\n",
    " - `input_fn`: This function receives the raw serialized input that has been sent to the model's endpoint and its job is to de-serialize and make the input available for the inference code.\n",
    " - `output_fn`: This function takes the output of the inference code and its job is to serialize this output and return it to the caller of the model's endpoint.\n",
    " - `predict_fn`: The heart of the inference script, this is where the actual prediction is done and is the function which you will need to complete.\n",
    "\n",
    "For the simple website that we are constructing during this project, the `input_fn` and `output_fn` methods are relatively straightforward. We only require being able to accept a string as input and we expect to return a single value as output. You might imagine though that in a more complex application the input or output may be image data or some other binary data which would require some effort to serialize.\n",
    "\n",
    "### (TODO) Writing inference code\n",
    "\n",
    "Before writing our custom inference code, we will begin by taking a look at the code which has been provided."
   ]
  },
  {
   "cell_type": "code",
   "execution_count": null,
   "metadata": {},
   "outputs": [
    {
     "name": "stdout",
     "output_type": "stream",
     "text": [
      "\u001b[34mimport\u001b[39;49;00m \u001b[04m\u001b[36margparse\u001b[39;49;00m\n",
      "\u001b[34mimport\u001b[39;49;00m \u001b[04m\u001b[36mjson\u001b[39;49;00m\n",
      "\u001b[34mimport\u001b[39;49;00m \u001b[04m\u001b[36mos\u001b[39;49;00m\n",
      "\u001b[34mimport\u001b[39;49;00m \u001b[04m\u001b[36mpickle\u001b[39;49;00m\n",
      "\u001b[34mimport\u001b[39;49;00m \u001b[04m\u001b[36msys\u001b[39;49;00m\n",
      "\u001b[37m#import sagemaker_containers\u001b[39;49;00m\n",
      "\u001b[34mimport\u001b[39;49;00m \u001b[04m\u001b[36mpandas\u001b[39;49;00m \u001b[34mas\u001b[39;49;00m \u001b[04m\u001b[36mpd\u001b[39;49;00m\n",
      "\u001b[34mimport\u001b[39;49;00m \u001b[04m\u001b[36mnumpy\u001b[39;49;00m \u001b[34mas\u001b[39;49;00m \u001b[04m\u001b[36mnp\u001b[39;49;00m\n",
      "\u001b[34mimport\u001b[39;49;00m \u001b[04m\u001b[36mtorch\u001b[39;49;00m\n",
      "\u001b[34mimport\u001b[39;49;00m \u001b[04m\u001b[36mtorch\u001b[39;49;00m\u001b[04m\u001b[36m.\u001b[39;49;00m\u001b[04m\u001b[36mnn\u001b[39;49;00m \u001b[34mas\u001b[39;49;00m \u001b[04m\u001b[36mnn\u001b[39;49;00m\n",
      "\u001b[34mimport\u001b[39;49;00m \u001b[04m\u001b[36mtorch\u001b[39;49;00m\u001b[04m\u001b[36m.\u001b[39;49;00m\u001b[04m\u001b[36moptim\u001b[39;49;00m \u001b[34mas\u001b[39;49;00m \u001b[04m\u001b[36moptim\u001b[39;49;00m\n",
      "\u001b[34mimport\u001b[39;49;00m \u001b[04m\u001b[36mtorch\u001b[39;49;00m\u001b[04m\u001b[36m.\u001b[39;49;00m\u001b[04m\u001b[36mutils\u001b[39;49;00m\u001b[04m\u001b[36m.\u001b[39;49;00m\u001b[04m\u001b[36mdata\u001b[39;49;00m\n",
      "\n",
      "\u001b[34mfrom\u001b[39;49;00m \u001b[04m\u001b[36mmodel\u001b[39;49;00m \u001b[34mimport\u001b[39;49;00m LSTMClassifier\n",
      "\n",
      "\u001b[34mfrom\u001b[39;49;00m \u001b[04m\u001b[36mutils\u001b[39;49;00m \u001b[34mimport\u001b[39;49;00m review_to_words, convert_and_pad\n",
      "\n",
      "\u001b[34mdef\u001b[39;49;00m \u001b[32mmodel_fn\u001b[39;49;00m(model_dir):\n",
      "    \u001b[33m\"\"\"Load the PyTorch model from the `model_dir` directory.\"\"\"\u001b[39;49;00m\n",
      "    \u001b[36mprint\u001b[39;49;00m(\u001b[33m\"\u001b[39;49;00m\u001b[33mLoading model.\u001b[39;49;00m\u001b[33m\"\u001b[39;49;00m)\n",
      "\n",
      "    \u001b[37m# First, load the parameters used to create the model.\u001b[39;49;00m\n",
      "    model_info = {}\n",
      "    model_info_path = os.path.join(model_dir, \u001b[33m'\u001b[39;49;00m\u001b[33mmodel_info.pth\u001b[39;49;00m\u001b[33m'\u001b[39;49;00m)\n",
      "    \u001b[34mwith\u001b[39;49;00m \u001b[36mopen\u001b[39;49;00m(model_info_path, \u001b[33m'\u001b[39;49;00m\u001b[33mrb\u001b[39;49;00m\u001b[33m'\u001b[39;49;00m) \u001b[34mas\u001b[39;49;00m f:\n",
      "        model_info = torch.load(f)\n",
      "\n",
      "    \u001b[36mprint\u001b[39;49;00m(\u001b[33m\"\u001b[39;49;00m\u001b[33mmodel_info: \u001b[39;49;00m\u001b[33m{}\u001b[39;49;00m\u001b[33m\"\u001b[39;49;00m.format(model_info))\n",
      "\n",
      "    \u001b[37m# Determine the device and construct the model.\u001b[39;49;00m\n",
      "    device = torch.device(\u001b[33m\"\u001b[39;49;00m\u001b[33mcuda\u001b[39;49;00m\u001b[33m\"\u001b[39;49;00m \u001b[34mif\u001b[39;49;00m torch.cuda.is_available() \u001b[34melse\u001b[39;49;00m \u001b[33m\"\u001b[39;49;00m\u001b[33mcpu\u001b[39;49;00m\u001b[33m\"\u001b[39;49;00m)\n",
      "    model = LSTMClassifier(model_info[\u001b[33m'\u001b[39;49;00m\u001b[33membedding_dim\u001b[39;49;00m\u001b[33m'\u001b[39;49;00m], model_info[\u001b[33m'\u001b[39;49;00m\u001b[33mhidden_dim\u001b[39;49;00m\u001b[33m'\u001b[39;49;00m], model_info[\u001b[33m'\u001b[39;49;00m\u001b[33mvocab_size\u001b[39;49;00m\u001b[33m'\u001b[39;49;00m])\n",
      "\n",
      "    \u001b[37m# Load the store model parameters.\u001b[39;49;00m\n",
      "    model_path = os.path.join(model_dir, \u001b[33m'\u001b[39;49;00m\u001b[33mmodel.pth\u001b[39;49;00m\u001b[33m'\u001b[39;49;00m)\n",
      "    \u001b[34mwith\u001b[39;49;00m \u001b[36mopen\u001b[39;49;00m(model_path, \u001b[33m'\u001b[39;49;00m\u001b[33mrb\u001b[39;49;00m\u001b[33m'\u001b[39;49;00m) \u001b[34mas\u001b[39;49;00m f:\n",
      "        model.load_state_dict(torch.load(f))\n",
      "\n",
      "    \u001b[37m# Load the saved word_dict.\u001b[39;49;00m\n",
      "    word_dict_path = os.path.join(model_dir, \u001b[33m'\u001b[39;49;00m\u001b[33mword_dict.pkl\u001b[39;49;00m\u001b[33m'\u001b[39;49;00m)\n",
      "    \u001b[34mwith\u001b[39;49;00m \u001b[36mopen\u001b[39;49;00m(word_dict_path, \u001b[33m'\u001b[39;49;00m\u001b[33mrb\u001b[39;49;00m\u001b[33m'\u001b[39;49;00m) \u001b[34mas\u001b[39;49;00m f:\n",
      "        model.word_dict = pickle.load(f)\n",
      "\n",
      "    model.to(device).eval()\n",
      "\n",
      "    \u001b[36mprint\u001b[39;49;00m(\u001b[33m\"\u001b[39;49;00m\u001b[33mDone loading model.\u001b[39;49;00m\u001b[33m\"\u001b[39;49;00m)\n",
      "    \u001b[34mreturn\u001b[39;49;00m model\n",
      "\n",
      "\u001b[34mdef\u001b[39;49;00m \u001b[32minput_fn\u001b[39;49;00m(serialized_input_data, content_type):\n",
      "    \u001b[36mprint\u001b[39;49;00m(\u001b[33m'\u001b[39;49;00m\u001b[33mDeserializing the input data.\u001b[39;49;00m\u001b[33m'\u001b[39;49;00m)\n",
      "    \u001b[34mif\u001b[39;49;00m content_type == \u001b[33m\"\u001b[39;49;00m\u001b[33mapplication/octet-stream\u001b[39;49;00m\u001b[33m\"\u001b[39;49;00m:\n",
      "        data = serialized_input_data.decode(\u001b[33m'\u001b[39;49;00m\u001b[33mutf-8\u001b[39;49;00m\u001b[33m'\u001b[39;49;00m)\n",
      "        \u001b[34mreturn\u001b[39;49;00m data\n",
      "    \u001b[34mraise\u001b[39;49;00m \u001b[36mException\u001b[39;49;00m(\u001b[33m'\u001b[39;49;00m\u001b[33mRequested unsupported ContentType in content_type: \u001b[39;49;00m\u001b[33m'\u001b[39;49;00m + content_type)\n",
      "\n",
      "\u001b[34mdef\u001b[39;49;00m \u001b[32moutput_fn\u001b[39;49;00m(prediction_output, accept):\n",
      "    \u001b[36mprint\u001b[39;49;00m(\u001b[33m'\u001b[39;49;00m\u001b[33mSerializing the generated output.\u001b[39;49;00m\u001b[33m'\u001b[39;49;00m)\n",
      "    \u001b[34mreturn\u001b[39;49;00m \u001b[36mstr\u001b[39;49;00m(prediction_output)\n",
      "\n",
      "\u001b[34mdef\u001b[39;49;00m \u001b[32mpredict_fn\u001b[39;49;00m(input_data, model):\n",
      "    \u001b[36mprint\u001b[39;49;00m(\u001b[33m'\u001b[39;49;00m\u001b[33mInferring sentiment of input data.\u001b[39;49;00m\u001b[33m'\u001b[39;49;00m)\n",
      "\n",
      "    device = torch.device(\u001b[33m\"\u001b[39;49;00m\u001b[33mcuda\u001b[39;49;00m\u001b[33m\"\u001b[39;49;00m \u001b[34mif\u001b[39;49;00m torch.cuda.is_available() \u001b[34melse\u001b[39;49;00m \u001b[33m\"\u001b[39;49;00m\u001b[33mcpu\u001b[39;49;00m\u001b[33m\"\u001b[39;49;00m)\n",
      "    \n",
      "    \u001b[34mif\u001b[39;49;00m model.word_dict \u001b[35mis\u001b[39;49;00m \u001b[34mNone\u001b[39;49;00m:\n",
      "        \u001b[34mraise\u001b[39;49;00m \u001b[36mException\u001b[39;49;00m(\u001b[33m'\u001b[39;49;00m\u001b[33mModel has not been loaded properly, no word_dict.\u001b[39;49;00m\u001b[33m'\u001b[39;49;00m)\n",
      "    \u001b[37m# TODO: Process input_data so that it is ready to be sent to our model.\u001b[39;49;00m\n",
      "    \u001b[37m#       You should produce two variables:\u001b[39;49;00m\n",
      "    \u001b[37m#         data_X   - A sequence of length 500 which represents the converted review\u001b[39;49;00m\n",
      "    \u001b[37m#         data_len - The length of the review\u001b[39;49;00m\n",
      "   \u001b[37m# review_to_words_input= None\u001b[39;49;00m\n",
      "    review_to_words_input=review_to_words(input_data)\n",
      "    \u001b[37m#modell= None\u001b[39;49;00m\n",
      "    modell=model.word_dict\n",
      "    \u001b[37m#converted_of_review, length_of_the_review = None , None\u001b[39;49;00m\n",
      "    converted_of_review, length_of_the_review = convert_and_pad(model.word_dict,review_to_words_input)\n",
      "    \u001b[37m# data_X = None\u001b[39;49;00m\n",
      "    data_X = converted_of_review\n",
      "    \u001b[37m# data_len = None\u001b[39;49;00m\n",
      "    data_len =length_of_the_review\n",
      "    \u001b[37m# Using data_X and data_len we construct an appropriate input tensor. Remember\u001b[39;49;00m\n",
      "    \u001b[37m# that our model expects input data of the form 'len, review[500]'.\u001b[39;49;00m\n",
      "    data_pack = np.hstack((data_len, data_X))\n",
      "    data_pack = data_pack.reshape(\u001b[34m1\u001b[39;49;00m, -\u001b[34m1\u001b[39;49;00m)\n",
      "    data = torch.from_numpy(data_pack)\n",
      "    data = data.to(device)\n",
      "    \u001b[37m# TODO: Compute the result of applying the model to the input data. The variable `result` should\u001b[39;49;00m\n",
      "    \u001b[37m#       be a numpy array which contains a single integer which is either 1 or 0\u001b[39;49;00m\n",
      "    \u001b[37m#numpy_the_result=None\u001b[39;49;00m\n",
      "    \u001b[37m#numpy_the_result=the_result.numpy()\u001b[39;49;00m\n",
      "    \u001b[37m#the_out_result=None\u001b[39;49;00m\n",
      "    \u001b[34mwith\u001b[39;49;00m torch.no_grad():      \n",
      "        the_out_result = model.forward(data)\n",
      "    the_out_result =the_out_result.cpu()  \n",
      "    \u001b[37m#result = None   \u001b[39;49;00m\n",
      "    result = np.round(the_out_result.numpy())\n",
      "    \u001b[34mreturn\u001b[39;49;00m result\n"
     ]
    }
   ],
   "source": [
    "!pygmentize serve/predict.py"
   ]
  },
  {
   "cell_type": "markdown",
   "metadata": {},
   "source": [
    "As mentioned earlier, the `model_fn` method is the same as the one provided in the training code and the `input_fn` and `output_fn` methods are very simple and your task will be to complete the `predict_fn` method. \n",
    "\n",
    "**Note**: Our model expects input data of the form 'len, review[500]'. So make sure you produce two variables from processing: \n",
    "- `data_X`:  A sequence of length 500 which represents the converted review\n",
    "- `data_len`: - The length of the review\n",
    "\n",
    "Make sure that you save the completed file as `predict.py` in the `serve` directory.\n",
    "\n",
    "**TODO**: Complete the `predict_fn()` method in the `serve/predict.py` file."
   ]
  },
  {
   "cell_type": "markdown",
   "metadata": {},
   "source": [
    "### Deploying the model\n",
    "\n",
    "Now that the custom inference code has been written, we will create and deploy our model. To begin with, we need to construct a new PyTorchModel object which points to the model artifacts created during training and also points to the inference code that we wish to use. Then we can call the deploy method to launch the deployment container.\n",
    "\n",
    "**NOTE**: The default behaviour for a deployed PyTorch model is to assume that any input passed to the predictor is a `numpy` array. In our case we want to send a string so we need to construct a simple wrapper around the `RealTimePredictor` class to accomodate simple strings. In a more complicated situation you may want to provide a serialization object, for example if you wanted to sent image data."
   ]
  },
  {
   "cell_type": "code",
   "execution_count": null,
   "metadata": {},
   "outputs": [
    {
     "name": "stderr",
     "output_type": "stream",
     "text": [
      "Parameter image will be renamed to image_uri in SageMaker Python SDK v2.\n",
      "'create_image_uri' will be deprecated in favor of 'ImageURIProvider' class in SageMaker Python SDK v2.\n"
     ]
    },
    {
     "name": "stdout",
     "output_type": "stream",
     "text": [
      "-------------------!"
     ]
    }
   ],
   "source": [
    "from sagemaker.predictor import RealTimePredictor\n",
    "from sagemaker.pytorch import PyTorchModel\n",
    "\n",
    "class StringPredictor(RealTimePredictor):\n",
    "    def __init__(self, endpoint_name, sagemaker_session):\n",
    "        super(StringPredictor, self).__init__(endpoint_name, sagemaker_session, content_type='application/octet-stream')\n",
    "\n",
    "model = PyTorchModel(model_data=estimator.model_data,\n",
    "                     role = role,\n",
    "                     py_version=\"py3\",\n",
    "                     framework_version='1.5.0',\n",
    "                     entry_point='predict.py',\n",
    "                     source_dir='serve',\n",
    "                     predictor_cls=StringPredictor)\n",
    "predictor = model.deploy(initial_instance_count=1, instance_type='ml.m4.xlarge')"
   ]
  },
  {
   "cell_type": "markdown",
   "metadata": {},
   "source": [
    "### Testing the model\n",
    "\n",
    "Now that we have deployed our model with the custom inference code, we should test to see if everything is working. Here we test our model by loading the first `250` positive and negative reviews and send them to the endpoint, then collect the results. The reason for only sending some of the data is that the amount of time it takes for our model to process the input and then perform inference is quite long and so testing the entire data set would be prohibitive."
   ]
  },
  {
   "cell_type": "code",
   "execution_count": null,
   "metadata": {},
   "outputs": [],
   "source": [
    "import glob\n",
    "\n",
    "def test_reviews(data_dir='../data/aclImdb', stop=250):\n",
    "    \n",
    "    results = []\n",
    "    ground = []\n",
    "    \n",
    "    # We make sure to test both positive and negative reviews    \n",
    "    for sentiment in ['pos', 'neg']:\n",
    "        \n",
    "        path = os.path.join(data_dir, 'test', sentiment, '*.txt')\n",
    "        files = glob.glob(path)\n",
    "        \n",
    "        files_read = 0\n",
    "        \n",
    "        print('Starting ', sentiment, ' files')\n",
    "        \n",
    "        # Iterate through the files and send them to the predictor\n",
    "        for f in files:\n",
    "            with open(f) as review:\n",
    "                # First, we store the ground truth (was the review positive or negative)\n",
    "                if sentiment == 'pos':\n",
    "                    ground.append(1)\n",
    "                else:\n",
    "                    ground.append(0)\n",
    "                # Read in the review and convert to 'utf-8' for transmission via HTTP\n",
    "                review_input = review.read().encode('utf-8')\n",
    "                # Send the review to the predictor and store the results\n",
    "                results.append(float(predictor.predict(review_input)))\n",
    "                \n",
    "            # Sending reviews to our endpoint one at a time takes a while so we\n",
    "            # only send a small number of reviews\n",
    "            files_read += 1\n",
    "            if files_read == stop:\n",
    "                break\n",
    "            \n",
    "    return ground, results"
   ]
  },
  {
   "cell_type": "code",
   "execution_count": null,
   "metadata": {},
   "outputs": [
    {
     "name": "stdout",
     "output_type": "stream",
     "text": [
      "Starting  pos  files\n",
      "Starting  neg  files\n"
     ]
    }
   ],
   "source": [
    "ground, results = test_reviews()"
   ]
  },
  {
   "cell_type": "code",
   "execution_count": null,
   "metadata": {},
   "outputs": [
    {
     "data": {
      "text/plain": [
       "0.844"
      ]
     },
     "execution_count": 55,
     "metadata": {},
     "output_type": "execute_result"
    }
   ],
   "source": [
    "from sklearn.metrics import accuracy_score\n",
    "accuracy_score(ground, results)"
   ]
  },
  {
   "cell_type": "markdown",
   "metadata": {},
   "source": [
    "As an additional test, we can try sending the `test_review` that we looked at earlier."
   ]
  },
  {
   "cell_type": "code",
   "execution_count": null,
   "metadata": {},
   "outputs": [
    {
     "data": {
      "text/plain": [
       "b'1.0'"
      ]
     },
     "execution_count": 56,
     "metadata": {},
     "output_type": "execute_result"
    }
   ],
   "source": [
    "predictor.predict(test_review)"
   ]
  },
  {
   "cell_type": "markdown",
   "metadata": {},
   "source": [
    "Now that we know our endpoint is working as expected, we can set up the web page that will interact with it. If you don't have time to finish the project now, make sure to skip down to the end of this notebook and shut down your endpoint. You can deploy it again when you come back."
   ]
  },
  {
   "cell_type": "markdown",
   "metadata": {},
   "source": [
    "## Step 7 (again): Use the model for the web app\n",
    "\n",
    "> **TODO:** This entire section and the next contain tasks for you to complete, mostly using the AWS console.\n",
    "\n",
    "So far we have been accessing our model endpoint by constructing a predictor object which uses the endpoint and then just using the predictor object to perform inference. What if we wanted to create a web app which accessed our model? The way things are set up currently makes that not possible since in order to access a SageMaker endpoint the app would first have to authenticate with AWS using an IAM role which included access to SageMaker endpoints. However, there is an easier way! We just need to use some additional AWS services.\n",
    "\n",
    "<img src=\"Web App Diagram.svg\">\n",
    "\n",
    "The diagram above gives an overview of how the various services will work together. On the far right is the model which we trained above and which is deployed using SageMaker. On the far left is our web app that collects a user's movie review, sends it off and expects a positive or negative sentiment in return.\n",
    "\n",
    "In the middle is where some of the magic happens. We will construct a Lambda function, which you can think of as a straightforward Python function that can be executed whenever a specified event occurs. We will give this function permission to send and recieve data from a SageMaker endpoint.\n",
    "\n",
    "Lastly, the method we will use to execute the Lambda function is a new endpoint that we will create using API Gateway. This endpoint will be a url that listens for data to be sent to it. Once it gets some data it will pass that data on to the Lambda function and then return whatever the Lambda function returns. Essentially it will act as an interface that lets our web app communicate with the Lambda function.\n",
    "\n",
    "### Setting up a Lambda function\n",
    "\n",
    "The first thing we are going to do is set up a Lambda function. This Lambda function will be executed whenever our public API has data sent to it. When it is executed it will receive the data, perform any sort of processing that is required, send the data (the review) to the SageMaker endpoint we've created and then return the result.\n",
    "\n",
    "#### Part A: Create an IAM Role for the Lambda function\n",
    "\n",
    "Since we want the Lambda function to call a SageMaker endpoint, we need to make sure that it has permission to do so. To do this, we will construct a role that we can later give the Lambda function.\n",
    "\n",
    "Using the AWS Console, navigate to the **IAM** page and click on **Roles**. Then, click on **Create role**. Make sure that the **AWS service** is the type of trusted entity selected and choose **Lambda** as the service that will use this role, then click **Next: Permissions**.\n",
    "\n",
    "In the search box type `sagemaker` and select the check box next to the **AmazonSageMakerFullAccess** policy. Then, click on **Next: Review**.\n",
    "\n",
    "Lastly, give this role a name. Make sure you use a name that you will remember later on, for example `LambdaSageMakerRole`. Then, click on **Create role**.\n",
    "\n",
    "#### Part B: Create a Lambda function\n",
    "\n",
    "Now it is time to actually create the Lambda function.\n",
    "\n",
    "Using the AWS Console, navigate to the AWS Lambda page and click on **Create a function**. When you get to the next page, make sure that **Author from scratch** is selected. Now, name your Lambda function, using a name that you will remember later on, for example `sentiment_analysis_func`. Make sure that the **Python 3.6** runtime is selected and then choose the role that you created in the previous part. Then, click on **Create Function**.\n",
    "\n",
    "On the next page you will see some information about the Lambda function you've just created. If you scroll down you should see an editor in which you can write the code that will be executed when your Lambda function is triggered. In our example, we will use the code below. \n",
    "\n",
    "```python\n",
    "# We need to use the low-level library to interact with SageMaker since the SageMaker API\n",
    "# is not available natively through Lambda.\n",
    "import boto3\n",
    "\n",
    "def lambda_handler(event, context):\n",
    "\n",
    "    # The SageMaker runtime is what allows us to invoke the endpoint that we've created.\n",
    "    runtime = boto3.Session().client('sagemaker-runtime')\n",
    "\n",
    "    # Now we use the SageMaker runtime to invoke our endpoint, sending the review we were given\n",
    "    response = runtime.invoke_endpoint(EndpointName = '**ENDPOINT NAME HERE**',    # The name of the endpoint we created\n",
    "                                       ContentType = 'text/plain',                 # The data format that is expected\n",
    "                                       Body = event['body'])                       # The actual review\n",
    "\n",
    "    # The response is an HTTP response whose body contains the result of our inference\n",
    "    result = response['Body'].read().decode('utf-8')\n",
    "\n",
    "    return {\n",
    "        'statusCode' : 200,\n",
    "        'headers' : { 'Content-Type' : 'text/plain', 'Access-Control-Allow-Origin' : '*' },\n",
    "        'body' : result\n",
    "    }\n",
    "```\n",
    "\n",
    "Once you have copy and pasted the code above into the Lambda code editor, replace the `**ENDPOINT NAME HERE**` portion with the name of the endpoint that we deployed earlier. You can determine the name of the endpoint using the code cell below."
   ]
  },
  {
   "cell_type": "code",
   "execution_count": null,
   "metadata": {},
   "outputs": [
    {
     "data": {
      "text/plain": [
       "'pytorch-inference-2021-10-04-18-21-04-412'"
      ]
     },
     "execution_count": 57,
     "metadata": {},
     "output_type": "execute_result"
    }
   ],
   "source": [
    "predictor.endpoint"
   ]
  },
  {
   "cell_type": "markdown",
   "metadata": {},
   "source": [
    "Once you have added the endpoint name to the Lambda function, click on **Save**. Your Lambda function is now up and running. Next we need to create a way for our web app to execute the Lambda function.\n",
    "\n",
    "### Setting up API Gateway\n",
    "\n",
    "Now that our Lambda function is set up, it is time to create a new API using API Gateway that will trigger the Lambda function we have just created.\n",
    "\n",
    "Using AWS Console, navigate to **Amazon API Gateway** and then click on **Get started**.\n",
    "\n",
    "On the next page, make sure that **New API** is selected and give the new api a name, for example, `sentiment_analysis_api`. Then, click on **Create API**.\n",
    "\n",
    "Now we have created an API, however it doesn't currently do anything. What we want it to do is to trigger the Lambda function that we created earlier.\n",
    "\n",
    "Select the **Actions** dropdown menu and click **Create Method**. A new blank method will be created, select its dropdown menu and select **POST**, then click on the check mark beside it.\n",
    "\n",
    "For the integration point, make sure that **Lambda Function** is selected and click on the **Use Lambda Proxy integration**. This option makes sure that the data that is sent to the API is then sent directly to the Lambda function with no processing. It also means that the return value must be a proper response object as it will also not be processed by API Gateway.\n",
    "\n",
    "Type the name of the Lambda function you created earlier into the **Lambda Function** text entry box and then click on **Save**. Click on **OK** in the pop-up box that then appears, giving permission to API Gateway to invoke the Lambda function you created.\n",
    "\n",
    "The last step in creating the API Gateway is to select the **Actions** dropdown and click on **Deploy API**. You will need to create a new Deployment stage and name it anything you like, for example `prod`.\n",
    "\n",
    "You have now successfully set up a public API to access your SageMaker model. Make sure to copy or write down the URL provided to invoke your newly created public API as this will be needed in the next step. This URL can be found at the top of the page, highlighted in blue next to the text **Invoke URL**."
   ]
  },
  {
   "cell_type": "markdown",
   "metadata": {},
   "source": [
    "## Step 4: Deploying our web app\n",
    "\n",
    "Now that we have a publicly available API, we can start using it in a web app. For our purposes, we have provided a simple static html file which can make use of the public api you created earlier.\n",
    "\n",
    "In the `website` folder there should be a file called `index.html`. Download the file to your computer and open that file up in a text editor of your choice. There should be a line which contains **\\*\\*REPLACE WITH PUBLIC API URL\\*\\***. Replace this string with the url that you wrote down in the last step and then save the file.\n",
    "\n",
    "Now, if you open `index.html` on your local computer, your browser will behave as a local web server and you can use the provided site to interact with your SageMaker model.\n",
    "\n",
    "If you'd like to go further, you can host this html file anywhere you'd like, for example using github or hosting a static site on Amazon's S3. Once you have done this you can share the link with anyone you'd like and have them play with it too!\n",
    "\n",
    "> **Important Note** In order for the web app to communicate with the SageMaker endpoint, the endpoint has to actually be deployed and running. This means that you are paying for it. Make sure that the endpoint is running when you want to use the web app but that you shut it down when you don't need it, otherwise you will end up with a surprisingly large AWS bill.\n",
    "\n",
    "**TODO:** Make sure that you include the edited `index.html` file in your project submission."
   ]
  },
  {
   "cell_type": "markdown",
   "metadata": {},
   "source": [
    "Now that your web app is working, trying playing around with it and see how well it works.\n",
    "\n",
    "**Question**: Post a screenshot showing a sample review that you entered into your web app and the predicted sentiment. What was the predicted sentiment of your example review?"
   ]
  },
  {
   "cell_type": "code",
   "execution_count": null,
   "metadata": {},
   "outputs": [
    {
     "data": {
      "image/png": "[encoded data removed]",
      "text/plain": [
       "<IPython.core.display.Image object>"
      ]
     },
     "execution_count": 58,
     "metadata": {},
     "output_type": "execute_result"
    }
   ],
   "source": [
    "from IPython.display import Image\n",
    "Image(filename='Screenshot 1443-02-24 at 5.31.30 PM.png') "
   ]
  },
  {
   "cell_type": "code",
   "execution_count": null,
   "metadata": {},
   "outputs": [
    {
     "data": {
      "image/png": "[encoded data removed]",
      "text/plain": [
       "<IPython.core.display.Image object>"
      ]
     },
     "execution_count": 59,
     "metadata": {},
     "output_type": "execute_result"
    }
   ],
   "source": [
    "from IPython.display import Image\n",
    "Image(filename='Screenshot 1443-02-24 at 5.16.36 PM.png') "
   ]
  },
  {
   "cell_type": "markdown",
   "metadata": {},
   "source": [
    "### Delete the endpoint\n",
    "\n",
    "Remember to always shut down your endpoint if you are no longer using it. You are charged for the length of time that the endpoint is running so if you forget and leave it on you could end up with an unexpectedly large bill."
   ]
  },
  {
   "cell_type": "code",
   "execution_count": null,
   "metadata": {},
   "outputs": [],
   "source": [
    "#predictor.delete_endpoint()"
   ]
  },
  {
   "cell_type": "markdown",
   "metadata": {},
   "source": [
    "# Sources\n",
    "* Udacity Classroom & XGBoost notebook,solution\n",
    "* https://github.com/aws/amazon-sagemaker-examples\n",
    "* https://aws.amazon.com/ar/blogs/machine-learning/safely-deploying-and-monitoring-amazon-sagemaker-endpoints-with-aws-codepipeline-and-aws-codedeploy/ \n",
    "* https://machinelearningmastery.com/time-series-prediction-lstm-recurrent-neural-networks-python-keras/ \n",
    "* https://www.nbshare.io/notebook/249468051/How-To-Code-RNN-and-LSTM-Neural-Networks-in-Python/\n",
    "* https://analyticsindiamag.com/complete-guide-to-bidirectional-lstm-with-python-codes/\n",
    "* https://www.kdnuggets.com/2018/11/keras-long-short-term-memory-lstm-model-predict-stock-prices.html\n",
    "* https://www.imdb.com/title/tt10096842/reviews?ref_=tt_urv"
   ]
  }
 ],
 "metadata": {
  "kernelspec": {
   "display_name": "conda_pytorch_latest_p36",
   "language": "python",
   "name": "conda_pytorch_latest_p36"
  },
  "language_info": {
   "codemirror_mode": {
    "name": "ipython",
    "version": 3
   },
   "file_extension": ".py",
   "mimetype": "text/x-python",
   "name": "python",
   "nbconvert_exporter": "python",
   "pygments_lexer": "ipython3",
   "version": "3.6.13"
  }
 },
 "nbformat": 4,
 "nbformat_minor": 4
}
